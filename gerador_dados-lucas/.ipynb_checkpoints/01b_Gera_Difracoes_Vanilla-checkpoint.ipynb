{
 "cells": [
  {
   "cell_type": "markdown",
   "metadata": {
    "colab_type": "text",
    "id": "4embtkV0pNxM"
   },
   "source": [
    "Gera Difrações\n",
    "=============\n",
    "Gera um dado sintético de difrações\n",
    "\n",
    "---"
   ]
  },
  {
   "cell_type": "code",
   "execution_count": null,
   "metadata": {
    "cellView": "both",
    "colab": {
     "autoexec": {
      "startup": false,
      "wait_interval": 0
     }
    },
    "colab_type": "code",
    "collapsed": true,
    "id": "tm2CQN_Cpwj0"
   },
   "outputs": [],
   "source": [
    "from __future__ import print_function\n",
    "import numpy as np\n",
    "from scipy.signal import convolve2d\n",
    "from scipy.ndimage import gaussian_filter\n",
    "from scipy.ndimage.morphology import binary_closing\n",
    "\n",
    "# Importa bibliotecas próprias\n",
    "from utils import * \n",
    "\n",
    "# Configura o matplolib para plotar inline\n",
    "%matplotlib qt5\n",
    "#%matplotlib notebook"
   ]
  },
  {
   "cell_type": "markdown",
   "metadata": {},
   "source": [
    "Define variáveis para construção das difrações"
   ]
  },
  {
   "cell_type": "code",
   "execution_count": 49,
   "metadata": {
    "collapsed": true
   },
   "outputs": [],
   "source": [
    "# Tamanho do dado. Dimensão final será um painel quadrado de data_size x data_size \n",
    "data_size = 750\n",
    "# Intervalo de tempo entre as amostras (segundos)\n",
    "dt = 0.004\n",
    "# Intervalo de distância entre cada traço (metros)\n",
    "dx = 12.5"
   ]
  },
  {
   "cell_type": "markdown",
   "metadata": {},
   "source": [
    "---\n",
    "Constrói modelo de velocidade"
   ]
  },
  {
   "cell_type": "code",
   "execution_count": 60,
   "metadata": {
    "collapsed": true
   },
   "outputs": [],
   "source": [
    "# Gera modelo de velocidades com distribuição normal em gradiente de velocidades no intervalo [v_begin, v_end]\n",
    "v_begin = 1500.0\n",
    "v_end = 3700.0\n",
    "# Desvio padrão em relação ao gradiente\n",
    "sigma_percent = 0.1\n",
    "\n",
    "# Constrói modelo\n",
    "mu = np.empty((data_size,data_size), dtype=np.float32)\n",
    "mu[:,:] = np.arange(v_begin,v_end,(v_end-v_begin)/data_size).reshape((-1,1)) \n",
    "sigma = mu * sigma_percent\n",
    "velocity_map = np.random.normal(loc=mu, scale=sigma)"
   ]
  },
  {
   "cell_type": "code",
   "execution_count": 61,
   "metadata": {},
   "outputs": [
    {
     "name": "stdout",
     "output_type": "stream",
     "text": [
      "Tamanho da imagem (em polegadas): 7.50 x 7.50\n",
      "Coordenadas:  x - [0.0, 750.0], y - [0.0, 3.0]\n",
      "Dimensão: (750, 750)\n",
      "\n"
     ]
    }
   ],
   "source": [
    "# Aplica suavização\n",
    "\n",
    "# Define o sigma do filtro gaussiano\n",
    "sigma = 3.0\n",
    "\n",
    "# Aplica filtro ao modelo normal\n",
    "filtered_map = gaussian_filter(velocity_map, sigma=sigma)\n",
    "vmin = min(velocity_map.min(), filtered_map.min())\n",
    "vmax = max(velocity_map.max(), filtered_map.max())\n",
    "\n",
    "title1='Modelo normal'\n",
    "title2='Modelo suavizado'\n",
    "\n",
    "multiple_event_viewer(velocity_map, filtered_map, dt=dt, \n",
    "                    vmin1=vmin, vmax1=vmax,\n",
    "                    vmin2=vmin, vmax2=vmax,\n",
    "                    title1=title1, title2=title2,\n",
    "                    color1='rainbow', color2='rainbow')"
   ]
  },
  {
   "cell_type": "markdown",
   "metadata": {},
   "source": [
    "---\n",
    "Constrói arestas das difrações e define amostras de ápices e não-ápices"
   ]
  },
  {
   "cell_type": "code",
   "execution_count": 52,
   "metadata": {},
   "outputs": [],
   "source": [
    "# Constrói arestas das difrações\n",
    "\n",
    "# Tamanho da perna das difrações. Cada difração terá tamanho final 2*diff_tail_size + 1\n",
    "diff_tail_size = 80\n",
    "# Borda do dado que não conterá ápice\n",
    "border_size = 50\n",
    "# Quantidade de difrações do dado\n",
    "num_apices = 200\n",
    "\n",
    "apices = np.random.randint(50, data_size-50, size=2*num_apices).reshape((-1,2))\n",
    "mid_points = np.arange(data_size)*dx\n",
    "\n",
    "diffrac_edges = np.zeros((data_size,data_size), dtype=np.float32)\n",
    "\n",
    "for [t_ind, x_ind] in apices:\n",
    "    t0 = t_ind*dt\n",
    "    velocity = filtered_map[t_ind,x_ind]\n",
    "    x_begin = max(0, x_ind-diff_tail_size)\n",
    "    x_end = min(data_size, x_ind+diff_tail_size+1)\n",
    "    horiz_indices = np.arange(x_begin,x_end).astype(int)\n",
    "    offsets = mid_points[horiz_indices] - mid_points[x_ind]\n",
    "    \n",
    "    # Computa os tempos usando equação da curva\n",
    "    times = np.sqrt(t0**2 + ((2*offsets)/velocity)**2)\n",
    "    vert_indices = (np.floor(times/dt)).astype(int)\n",
    "    # Considera somente os índices que não ultrapassaram o final do painel\n",
    "    valid_indices = np.where(vert_indices < data_size)[0]\n",
    "    # Cria curva de pseudo-refletividade o ápice tem valor 1.0 e decai até 0.0 usando função cosseno\n",
    "    curve = np.ones(2*diff_tail_size+1, dtype=np.float32)\n",
    "    curve = apply_taper(curve, diff_tail_size)\n",
    "    # Pega o máximo entre a curva e o que já está no painel\n",
    "    #curve = np.max([diffrac_edges[vert_indices[valid_indices],horiz_indices[valid_indices]].flatten(),\n",
    "    #                curve[valid_indices]], axis=0)\n",
    "    #diffrac_edges[vert_indices[valid_indices],horiz_indices[valid_indices]] = curve\n",
    "    diffrac_edges[vert_indices[valid_indices],horiz_indices[valid_indices]] += curve[valid_indices]"
   ]
  },
  {
   "cell_type": "code",
   "execution_count": 53,
   "metadata": {},
   "outputs": [
    {
     "name": "stdout",
     "output_type": "stream",
     "text": [
      "Tamanho da imagem (em polegadas): 7.50 x 7.50\n"
     ]
    }
   ],
   "source": [
    "# Visualiza arestas das difrações\n",
    "view_seismic_stack(diffrac_edges, dt=dt)"
   ]
  },
  {
   "cell_type": "markdown",
   "metadata": {},
   "source": [
    "---\n",
    "Convolve dado de arestas com wavelet"
   ]
  },
  {
   "cell_type": "code",
   "execution_count": 54,
   "metadata": {},
   "outputs": [
    {
     "name": "stdout",
     "output_type": "stream",
     "text": [
      "Wavelet_2D (71, 9)\n",
      "Tamanho da imagem (em polegadas): 0.90 x 7.10\n"
     ]
    }
   ],
   "source": [
    "# Constrói Wavelet 2D\n",
    "frequency = 20.0\n",
    "taper_size = 4\n",
    "window_size = 71\n",
    "\n",
    "wavelet = ricker_wavelet(frequency, window_size, dt)\n",
    "wavelet = wavelet.reshape((1,-1)).T\n",
    "wavelet_2D = np.empty((window_size, taper_size*2+1), dtype=np.float32)\n",
    "wavelet_2D[:,:] = wavelet\n",
    "# Suaviza bordas aplicando função de taper\n",
    "if taper_size > 0:\n",
    "    wavelet_2D = apply_taper(wavelet_2D, taper_size)\n",
    "print(\"Wavelet_2D\", wavelet_2D.shape)\n",
    "\n",
    "# Visualiza\n",
    "color='seismic'\n",
    "resize=10.0\n",
    "\n",
    "view_seismic_stack(wavelet_2D, resize=resize, color=color, dt=dt, vmin=-wavelet_2D.max(), vmax=wavelet_2D.max())"
   ]
  },
  {
   "cell_type": "code",
   "execution_count": 55,
   "metadata": {
    "collapsed": true
   },
   "outputs": [],
   "source": [
    "# Convolve com difrações\n",
    "diffractions = convolve2d(diffrac_edges, wavelet_2D, mode='same')"
   ]
  },
  {
   "cell_type": "code",
   "execution_count": 56,
   "metadata": {},
   "outputs": [
    {
     "name": "stdout",
     "output_type": "stream",
     "text": [
      "Picks de ápices: (200, 2)\n",
      "Picks de caudas: (100, 2)\n",
      "Picks de fundo: (100, 2)\n"
     ]
    }
   ],
   "source": [
    "# Define pontos de não-ápices balanceado entre cauda e fundo\n",
    "\n",
    "apex_radius = 8\n",
    "background_threshold = diffractions.max()*0.007\n",
    "num_tail_points = num_apices/2\n",
    "num_background_points = num_apices/2\n",
    "\n",
    "# Sorteia pontos de cauda\n",
    "curve = np.ones(2*diff_tail_size+1, dtype=np.float32)\n",
    "curve = apply_taper(curve, diff_tail_size)\n",
    "threshold = curve[diff_tail_size+apex_radius]\n",
    "tail_indices = np.where(np.logical_and(diffrac_edges>0.0, diffrac_edges<threshold))\n",
    "tail_choice = np.random.choice(tail_indices[0].size, size=num_tail_points, replace=False)\n",
    "tail_samples = zip(tail_indices[0][tail_choice],tail_indices[1][tail_choice])\n",
    "\n",
    "# Sorteia pontos de fundo\n",
    "# Transforma o dado em binário\n",
    "abs_diff = np.abs(diffractions)\n",
    "abs_diff[abs_diff < background_threshold] = 0.0\n",
    "abs_diff[abs_diff >= background_threshold] = 1.0\n",
    "# Faz fechamento morfológico para remover pequenos buracos\n",
    "structure = np.ones((2,2))\n",
    "abs_diff = binary_closing(abs_diff, structure=structure)\n",
    "# Desconsidera bordas\n",
    "abs_diff[0:border_size,:] = 1.0\n",
    "abs_diff[-border_size:,:] = 1.0\n",
    "abs_diff[:,0:border_size] = 1.0\n",
    "abs_diff[:,-border_size:] = 1.0\n",
    "# Sorteia pontos de fundo\n",
    "background_indices = np.where(abs_diff==0.0)\n",
    "background_choice = np.random.choice(background_indices[0].size, size=num_background_points, replace=False)\n",
    "background_samples = zip(background_indices[0][background_choice],background_indices[1][background_choice])\n",
    "\n",
    "# Converte índices para picks no formato (tempo, cdp)\n",
    "apex_picks = index_to_picks(apices, 0, dt)\n",
    "tail_picks = index_to_picks(tail_samples, 0, dt)\n",
    "background_picks = index_to_picks(background_samples, 0, dt)\n",
    "\n",
    "print(\"Picks de ápices:\", apex_picks.shape)\n",
    "print(\"Picks de caudas:\", tail_picks.shape)\n",
    "print(\"Picks de fundo:\", background_picks.shape)"
   ]
  },
  {
   "cell_type": "code",
   "execution_count": null,
   "metadata": {},
   "outputs": [],
   "source": [
    "# Visualiza região de fundo\n",
    "\n",
    "view_seismic_stack(abs_diff, vmin=0.0, vmax=1.0, dt=dt, nonapices=background_picks)"
   ]
  },
  {
   "cell_type": "code",
   "execution_count": 57,
   "metadata": {},
   "outputs": [
    {
     "name": "stdout",
     "output_type": "stream",
     "text": [
      "Tamanho da imagem (em polegadas): 7.50 x 7.50\n"
     ]
    }
   ],
   "source": [
    "# Visualiza dado convolvido e pontos anotados\n",
    "color='gray'\n",
    "clip=1.0\n",
    "\n",
    "vmax = diffractions.max()\n",
    "\n",
    "\n",
    "view_seismic_stack(diffractions, apices=apex_picks, intersects=tail_picks, nonapices=background_picks,\n",
    "                   color=color, dt=dt, clip_percent=clip, vmin=-vmax, vmax=vmax)"
   ]
  },
  {
   "cell_type": "code",
   "execution_count": null,
   "metadata": {},
   "outputs": [],
   "source": [
    "# Visualiza dado convolvido e pontos anotados\n",
    "color='gray'\n",
    "clip=1.0\n",
    "\n",
    "vmax = diffractions.max()\n",
    "vmin = -vmax\n",
    "\n",
    "view_seismic_stack(diffractions, color=color, dt=dt, clip_percent=clip, vmin=vmin, vmax=vmax)"
   ]
  },
  {
   "cell_type": "code",
   "execution_count": 58,
   "metadata": {},
   "outputs": [
    {
     "name": "stdout",
     "output_type": "stream",
     "text": [
      "Tamanho da imagem (em polegadas): 7.50 x 7.50\n",
      "Coordenadas:  x - [0.0, 750.0], y - [0.0, 3.0]\n",
      "Dimensão: (750, 750)\n",
      "\n",
      "evento=1.0, cdp=219.816105, tempo=1.305024\n",
      "evento=1.0, cdp=445.484862, tempo=2.286148\n"
     ]
    }
   ],
   "source": [
    "# Visualiza dado convolvido e arestas\n",
    "color='gray'\n",
    "clip=1.0\n",
    "\n",
    "multiple_event_viewer(diffractions, diffrac_edges, dt=dt, clip_percent1=clip, clip_percent2=clip,\n",
    "                     vmin1=-diffractions.max(), vmax1=diffractions.max(),\n",
    "                     vmin2=0.0, vmax2=diffrac_edges.max(),\n",
    "                     color1=color, color2=color)"
   ]
  },
  {
   "cell_type": "markdown",
   "metadata": {},
   "source": [
    "---\n",
    "Salva arquivos de _picks_ com ápices e não-ápices e arquivo com difrações"
   ]
  },
  {
   "cell_type": "code",
   "execution_count": null,
   "metadata": {},
   "outputs": [],
   "source": [
    "# Salva picks\n",
    "\n",
    "apex_file = 'labels/apices.txt'\n",
    "noapex_file = 'labels/no_apices.txt'\n",
    "\n",
    "# Salva ápices\n",
    "save_picks(apex_file, apex_picks)\n",
    "\n",
    "# Salva não-ápices\n",
    "noapex_picks = np.concatenate((tail_picks, background_picks))\n",
    "save_picks(noapex_file, noapex_picks)"
   ]
  },
  {
   "cell_type": "code",
   "execution_count": null,
   "metadata": {},
   "outputs": [],
   "source": [
    "# Salva difrações\n",
    "diff_file = 'difracoes_sinteticas/diff.pickle'\n",
    "\n",
    "pickle_data(diff_file, [diffractions], ['diffractions'])"
   ]
  },
  {
   "cell_type": "code",
   "execution_count": null,
   "metadata": {},
   "outputs": [],
   "source": [
    "data = load_pickle(diff_file)\n",
    "diffs = data['diffractions']\n",
    "print(diffs.shape)"
   ]
  },
  {
   "cell_type": "code",
   "execution_count": null,
   "metadata": {
    "collapsed": true
   },
   "outputs": [],
   "source": []
  }
 ],
 "metadata": {
  "colab": {
   "default_view": {},
   "name": "4_convolutions.ipynb",
   "provenance": [],
   "version": "0.3.2",
   "views": {}
  },
  "kernelspec": {
   "display_name": "Python 2",
   "language": "python",
   "name": "python2"
  },
  "language_info": {
   "codemirror_mode": {
    "name": "ipython",
    "version": 2
   },
   "file_extension": ".py",
   "mimetype": "text/x-python",
   "name": "python",
   "nbconvert_exporter": "python",
   "pygments_lexer": "ipython2",
   "version": "2.7.12"
  }
 },
 "nbformat": 4,
 "nbformat_minor": 1
}
