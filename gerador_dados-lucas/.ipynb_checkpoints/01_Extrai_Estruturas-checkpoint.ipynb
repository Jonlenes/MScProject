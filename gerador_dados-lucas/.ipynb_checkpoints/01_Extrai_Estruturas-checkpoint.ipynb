{
 "cells": [
  {
   "cell_type": "markdown",
   "metadata": {
    "colab_type": "text",
    "id": "4embtkV0pNxM"
   },
   "source": [
    "Extrator de Estruturas\n",
    "=============\n",
    "Extrai arestas a partir de um dado sísmico\n",
    "\n",
    "---"
   ]
  },
  {
   "cell_type": "code",
   "execution_count": 1,
   "metadata": {
    "cellView": "both",
    "colab": {
     "autoexec": {
      "startup": false,
      "wait_interval": 0
     }
    },
    "colab_type": "code",
    "id": "tm2CQN_Cpwj0"
   },
   "outputs": [
    {
     "ename": "ImportError",
     "evalue": "No module named pymei",
     "output_type": "error",
     "traceback": [
      "\u001b[0;31m---------------------------------------------------------------------------\u001b[0m",
      "\u001b[0;31mImportError\u001b[0m                               Traceback (most recent call last)",
      "\u001b[0;32m<ipython-input-1-14d529b0438c>\u001b[0m in \u001b[0;36m<module>\u001b[0;34m()\u001b[0m\n\u001b[1;32m      4\u001b[0m \u001b[0;34m\u001b[0m\u001b[0m\n\u001b[1;32m      5\u001b[0m \u001b[0;31m# Importa bibliotecas próprias\u001b[0m\u001b[0;34m\u001b[0m\u001b[0;34m\u001b[0m\u001b[0m\n\u001b[0;32m----> 6\u001b[0;31m \u001b[0;32mfrom\u001b[0m \u001b[0mutils\u001b[0m \u001b[0;32mimport\u001b[0m \u001b[0;34m*\u001b[0m\u001b[0;34m\u001b[0m\u001b[0m\n\u001b[0m\u001b[1;32m      7\u001b[0m \u001b[0;34m\u001b[0m\u001b[0m\n\u001b[1;32m      8\u001b[0m \u001b[0;31m# Configura o matplolib para plotar inline\u001b[0m\u001b[0;34m\u001b[0m\u001b[0;34m\u001b[0m\u001b[0m\n",
      "\u001b[0;32m/home/ubuntu/MscProject/gerador_dados-lucas/utils.py\u001b[0m in \u001b[0;36m<module>\u001b[0;34m()\u001b[0m\n\u001b[1;32m      4\u001b[0m \u001b[0;32mfrom\u001b[0m \u001b[0m__future__\u001b[0m \u001b[0;32mimport\u001b[0m \u001b[0mprint_function\u001b[0m\u001b[0;34m\u001b[0m\u001b[0m\n\u001b[1;32m      5\u001b[0m \u001b[0;32mimport\u001b[0m \u001b[0mnumpy\u001b[0m \u001b[0;32mas\u001b[0m \u001b[0mnp\u001b[0m\u001b[0;34m\u001b[0m\u001b[0m\n\u001b[0;32m----> 6\u001b[0;31m \u001b[0;32mimport\u001b[0m \u001b[0mpymei\u001b[0m \u001b[0;32mas\u001b[0m \u001b[0mpm\u001b[0m\u001b[0;34m\u001b[0m\u001b[0m\n\u001b[0m\u001b[1;32m      7\u001b[0m \u001b[0;32mimport\u001b[0m \u001b[0mmatplotlib\u001b[0m\u001b[0;34m.\u001b[0m\u001b[0mpyplot\u001b[0m \u001b[0;32mas\u001b[0m \u001b[0mplt\u001b[0m\u001b[0;34m\u001b[0m\u001b[0m\n\u001b[1;32m      8\u001b[0m \u001b[0;32mimport\u001b[0m \u001b[0mos\u001b[0m\u001b[0;34m\u001b[0m\u001b[0m\n",
      "\u001b[0;31mImportError\u001b[0m: No module named pymei"
     ]
    }
   ],
   "source": [
    "from __future__ import print_function\n",
    "import numpy as np\n",
    "from skimage.morphology import skeletonize\n",
    "\n",
    "# Importa bibliotecas próprias\n",
    "from utils import * \n",
    "\n",
    "# Configura o matplolib para plotar inline\n",
    "%matplotlib qt5\n",
    "#%matplotlib notebook"
   ]
  },
  {
   "cell_type": "code",
   "execution_count": 2,
   "metadata": {},
   "outputs": [
    {
     "name": "stdout",
     "output_type": "stream",
     "text": [
      "Carregando o empilhamento ./reflexoes_migradas/solimoes_migrado.sgy\n",
      "2206 traços:\n",
      " - CDP: [17 - 2223]\n",
      " - Amostras por traço (ns): 751\n",
      " - Tempo entre amostras (dt): 4.0 ms\n",
      "Dimensões do dado 1: (751, 2206)\n",
      "\n",
      "Tamanho da imagem (em polegadas): 22.06 x 7.51\n",
      "Coordenadas:  x - [17.0, 2223.0], y - [0.0, 3.0]\n",
      "Dimensão: (751, 2206)\n",
      "\n"
     ]
    }
   ],
   "source": [
    "# Importa dado\n",
    "\n",
    "# Definição de arquivos de entrada\n",
    "stack_file = './reflexoes_migradas/solimoes_migrado.sgy'\n",
    "\n",
    "# Definição plot\n",
    "color = 'gray'\n",
    "clip = 0.3\n",
    "\n",
    "# Carrega dados\n",
    "if not stack_file is None: \n",
    "    traces = load_traces(stack_file)\n",
    "    stack_image = get_data_from_traces(traces)\n",
    "    print(\"Dimensões do dado 1:\", stack_image.shape)\n",
    "    print()\n",
    "    \n",
    "multiple_event_viewer(stack_image, cdp_offset=traces[0].cdp, dt=traces[0].dt,\n",
    "             clip_percent1=clip, color1=color)"
   ]
  },
  {
   "cell_type": "code",
   "execution_count": null,
   "metadata": {},
   "outputs": [],
   "source": [
    "# Extrator de arestas\n",
    "\n",
    "# Definição filtro\n",
    "threshold = 0.12\n",
    "\n",
    "# Definição plot\n",
    "color = 'gray'\n",
    "clip = 0.3\n",
    "\n",
    "# Normaliza\n",
    "vmax = np.abs((stack_image.min(), stack_image.max())).max()\n",
    "stack_image /= vmax\n",
    "    \n",
    "# Torna dado binario\n",
    "binary_image = stack_image.copy()\n",
    "indices = np.where(binary_image < 0.0)\n",
    "binary_image[indices] = 0.0\n",
    "binary_image /= binary_image.max()\n",
    "binary_image[binary_image < threshold] = 0.0\n",
    "binary_image[binary_image >= threshold] = 1.0\n",
    "\n",
    "# Aplica detector de arestas\n",
    "binary_edges = skeletonize(binary_image)\n",
    "gray_edges = binary_edges * stack_image\n",
    "\n",
    "multiple_event_viewer(stack_image, gray_edges,\n",
    "             vmin2=gray_edges.min(), vmax2=gray_edges.max(),\n",
    "             cdp_offset=traces[0].cdp, dt=traces[0].dt,\n",
    "             clip_percent1=clip, color1=color, color2=color)"
   ]
  },
  {
   "cell_type": "code",
   "execution_count": 37,
   "metadata": {
    "collapsed": true
   },
   "outputs": [],
   "source": [
    "def agc(stack_image, window_size, dt):\n",
    "    window_size = int(np.floor(window_size/dt))\n",
    "    agc_image = stack_image.copy()\n",
    "    abs_image = np.abs(stack_image)\n",
    "    vmax = abs_image.max()\n",
    "    end = stack_image.shape[0]-window_size\n",
    "    for i in range(end):\n",
    "        means = np.mean(abs_image[i:i+window_size,:], axis=0)\n",
    "        correct_factor = vmax / means\n",
    "        agc_image[i,:] = stack_image[i,:] * correct_factor\n",
    "    # Trata o final do dado\n",
    "    #for i in range(stack_image.shape[0],end-1,-1):\n",
    "    #    means = np.mean(abs_image[i-window_size:i,:], axis=0)\n",
    "    #    agc_image[i-1,:] = stack_image[i-1,:] / means\n",
    "    for i in range(end,stack_image.shape[0]):\n",
    "        agc_image[i,:] = stack_image[i,:] / means\n",
    "    \n",
    "    return agc_image"
   ]
  },
  {
   "cell_type": "code",
   "execution_count": 38,
   "metadata": {},
   "outputs": [],
   "source": [
    "agc_image = agc(stack_image, 0.1, traces[0].dt)\n",
    "\n",
    "# Normaliza\n",
    "vmax = np.abs(agc_image).max()\n",
    "agc_image /= vmax"
   ]
  },
  {
   "cell_type": "code",
   "execution_count": 39,
   "metadata": {},
   "outputs": [
    {
     "name": "stdout",
     "output_type": "stream",
     "text": [
      "Tamanho da imagem (em polegadas): 22.06 x 7.51\n",
      "Coordenadas:  x - [17.0, 2223.0], y - [0.0, 3.0]\n",
      "Dimensão: (751, 2206)\n",
      "\n",
      "evento=1.0, cdp=1070.155836, tempo=2.920288\n"
     ]
    }
   ],
   "source": [
    "# Definição plot\n",
    "color = 'seismic'\n",
    "clip = 1.0\n",
    "\n",
    "    \n",
    "multiple_event_viewer(agc_image, cdp_offset=traces[0].cdp, dt=traces[0].dt,\n",
    "             clip_percent1=clip, color1=color)"
   ]
  },
  {
   "cell_type": "code",
   "execution_count": 45,
   "metadata": {},
   "outputs": [
    {
     "name": "stdout",
     "output_type": "stream",
     "text": [
      "Tamanho da imagem (em polegadas): 22.06 x 7.51\n",
      "Coordenadas:  x - [17.0, 2223.0], y - [0.0, 3.0]\n",
      "Dimensão: (751, 2206)\n",
      "\n",
      "evento=1.0, cdp=373.387381, tempo=0.610112\n",
      "evento=1.0, cdp=483.951348, tempo=1.122960\n",
      "evento=1.0, cdp=1775.873467, tempo=0.709988\n",
      "evento=1.0, cdp=2085.812807, tempo=1.050762\n",
      "evento=1.0, cdp=1909.985060, tempo=1.391219\n",
      "evento=1.0, cdp=1748.248038, tempo=1.498365\n",
      "evento=1.0, cdp=1864.037042, tempo=1.568105\n",
      "evento=1.0, cdp=1857.298000, tempo=1.706950\n",
      "evento=1.0, cdp=1889.767932, tempo=1.797612\n",
      "evento=1.0, cdp=1886.704731, tempo=2.042336\n",
      "evento=1.0, cdp=1842.594634, tempo=2.264869\n",
      "evento=1.0, cdp=1840.144073, tempo=2.436682\n",
      "evento=1.0, cdp=1807.061501, tempo=2.605960\n",
      "evento=1.0, cdp=1944.905553, tempo=2.800597\n"
     ]
    }
   ],
   "source": [
    "# Extrator de arestas\n",
    "\n",
    "# Definição filtro\n",
    "threshold = 0.02\n",
    "\n",
    "# Definição plot\n",
    "color = 'seismic'\n",
    "clip = 0.5\n",
    "\n",
    "# Normaliza\n",
    "vmax = np.abs((stack_image.min(), stack_image.max())).max()\n",
    "stack_image /= vmax\n",
    "    \n",
    "# Torna dado binario\n",
    "binary_image = agc_image.copy()\n",
    "indices = np.where(binary_image < 0.0)\n",
    "binary_image[indices] = 0.0\n",
    "binary_image /= binary_image.max()\n",
    "binary_image[binary_image < threshold] = 0.0\n",
    "binary_image[binary_image >= threshold] = 1.0\n",
    "\n",
    "# Aplica detector de arestas\n",
    "binary_edges = skeletonize(binary_image)\n",
    "gray_edges = binary_edges * stack_image\n",
    "\n",
    "multiple_event_viewer(stack_image, gray_edges,\n",
    "             vmin2=gray_edges.min(), vmax2=gray_edges.max(),\n",
    "             cdp_offset=traces[0].cdp, dt=traces[0].dt,\n",
    "             clip_percent1=clip, color1=color, color2='gray')"
   ]
  },
  {
   "cell_type": "code",
   "execution_count": 41,
   "metadata": {},
   "outputs": [
    {
     "name": "stdout",
     "output_type": "stream",
     "text": [
      "Tamanho da imagem (em polegadas): 22.06 x 7.51\n",
      "Coordenadas:  x - [17.0, 2223.0], y - [0.0, 3.0]\n",
      "Dimensão: (751, 2206)\n",
      "\n",
      "evento=1.0, cdp=1592.706365, tempo=0.531948\n",
      "evento=1.0, cdp=1809.114152, tempo=0.890951\n",
      "evento=1.0, cdp=1884.808858, tempo=1.036702\n",
      "evento=1.0, cdp=2019.855097, tempo=1.136780\n",
      "evento=1.0, cdp=1900.291867, tempo=1.079688\n",
      "evento=1.0, cdp=898.995160, tempo=1.387408\n",
      "evento=1.0, cdp=1084.005489, tempo=1.732677\n",
      "evento=1.0, cdp=1433.157457, tempo=1.452544\n",
      "evento=1.0, cdp=1463.017497, tempo=1.508873\n"
     ]
    }
   ],
   "source": [
    "# Definição plot\n",
    "color = 'seismic'\n",
    "clip = 1.0\n",
    "\n",
    "vmax = np.abs(stack_image).max()\n",
    "stack_image /= vmax\n",
    "    \n",
    "multiple_event_viewer(agc_image, stack_image, cdp_offset=traces[0].cdp, dt=traces[0].dt,\n",
    "             clip_percent1=clip, color1=color, clip_percent2=clip, color2=color)"
   ]
  },
  {
   "cell_type": "code",
   "execution_count": 46,
   "metadata": {},
   "outputs": [
    {
     "name": "stdout",
     "output_type": "stream",
     "text": [
      "Dado persistido em estruturas/solimoes_edges.pickle\n"
     ]
    }
   ],
   "source": [
    "# Salva dados\n",
    "save_file = 'estruturas/solimoes_edges.pickle'\n",
    "\n",
    "pickle_data(save_file, [gray_edges], ['edges'])"
   ]
  },
  {
   "cell_type": "code",
   "execution_count": null,
   "metadata": {
    "collapsed": true
   },
   "outputs": [],
   "source": []
  }
 ],
 "metadata": {
  "colab": {
   "default_view": {},
   "name": "4_convolutions.ipynb",
   "provenance": [],
   "version": "0.3.2",
   "views": {}
  },
  "kernelspec": {
   "display_name": "Python 2",
   "language": "python",
   "name": "python2"
  },
  "language_info": {
   "codemirror_mode": {
    "name": "ipython",
    "version": 2
   },
   "file_extension": ".py",
   "mimetype": "text/x-python",
   "name": "python",
   "nbconvert_exporter": "python",
   "pygments_lexer": "ipython2",
   "version": "2.7.12"
  }
 },
 "nbformat": 4,
 "nbformat_minor": 1
}
