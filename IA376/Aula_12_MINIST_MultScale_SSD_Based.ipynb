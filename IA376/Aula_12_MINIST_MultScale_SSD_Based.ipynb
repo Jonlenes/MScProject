{
 "cells": [
  {
   "cell_type": "markdown",
   "metadata": {
    "colab_type": "text",
    "id": "1aXVR29SPZqw"
   },
   "source": [
    "# Classificação e BB para o MultMNIST - MultScale\n",
    "* Dowloand dos pacotes e bibliotecas\n",
    "* Criação do dataset e dataloader para os dados de treinamento\n",
    "* Target cusumizado utilizando uma gausiana\n",
    "* Criação de uma rede totalmente convolucional para comportar qualquer tamanho de entrada\n",
    "* Treinamento com imagens e targets 28x28\n",
    "* Comparação entre funções de custo MSE e CrossEntropy\n",
    "* Predição de imagens de qualquer tamanho com multiplos digitos\n"
   ]
  },
  {
   "cell_type": "markdown",
   "metadata": {
    "colab_type": "text",
    "id": "RxzQmaWwJHjf"
   },
   "source": [
    "## 1 - Dowloands e configurações"
   ]
  },
  {
   "cell_type": "markdown",
   "metadata": {
    "colab_type": "text",
    "id": "fHRz-xbrQpSK"
   },
   "source": [
    "### 1.1 - Dowloands"
   ]
  },
  {
   "cell_type": "code",
   "execution_count": 1,
   "metadata": {
    "colab": {},
    "colab_type": "code",
    "id": "TouuI57iQulS"
   },
   "outputs": [],
   "source": [
    "!wget -nc -q https://raw.githubusercontent.com/robertoalotufo/files/master/lib/pytorch_trainer_v2.py -Plib/"
   ]
  },
  {
   "cell_type": "markdown",
   "metadata": {
    "colab_type": "text",
    "id": "Y_EzemfhPZq3"
   },
   "source": [
    "### 1.2 - Importando os módulos"
   ]
  },
  {
   "cell_type": "code",
   "execution_count": 2,
   "metadata": {
    "colab": {
     "base_uri": "https://localhost:8080/",
     "height": 408
    },
    "colab_type": "code",
    "id": "ro9yOJtrPZq5",
    "outputId": "5a4626cb-53cc-4cb3-cef5-dfe7acd31b3f"
   },
   "outputs": [
    {
     "name": "stdout",
     "output_type": "stream",
     "text": [
      "Tue Nov 13 03:22:53 2018       \n",
      "+-----------------------------------------------------------------------------+\n",
      "| NVIDIA-SMI 396.44                 Driver Version: 396.44                    |\n",
      "|-------------------------------+----------------------+----------------------+\n",
      "| GPU  Name        Persistence-M| Bus-Id        Disp.A | Volatile Uncorr. ECC |\n",
      "| Fan  Temp  Perf  Pwr:Usage/Cap|         Memory-Usage | GPU-Util  Compute M. |\n",
      "|===============================+======================+======================|\n",
      "|   0  Tesla V100-SXM2...  On   | 00000000:00:1B.0 Off |                    0 |\n",
      "| N/A   44C    P0    40W / 300W |      0MiB / 16160MiB |      0%      Default |\n",
      "+-------------------------------+----------------------+----------------------+\n",
      "|   1  Tesla V100-SXM2...  On   | 00000000:00:1C.0 Off |                    0 |\n",
      "| N/A   40C    P0    38W / 300W |      0MiB / 16160MiB |      0%      Default |\n",
      "+-------------------------------+----------------------+----------------------+\n",
      "|   2  Tesla V100-SXM2...  On   | 00000000:00:1D.0 Off |                    0 |\n",
      "| N/A   40C    P0    42W / 300W |      0MiB / 16160MiB |      0%      Default |\n",
      "+-------------------------------+----------------------+----------------------+\n",
      "|   3  Tesla V100-SXM2...  On   | 00000000:00:1E.0 Off |                    0 |\n",
      "| N/A   41C    P0    40W / 300W |      0MiB / 16160MiB |      0%      Default |\n",
      "+-------------------------------+----------------------+----------------------+\n",
      "                                                                               \n",
      "+-----------------------------------------------------------------------------+\n",
      "| Processes:                                                       GPU Memory |\n",
      "|  GPU       PID   Type   Process name                             Usage      |\n",
      "|=============================================================================|\n",
      "|  No running processes found                                                 |\n",
      "+-----------------------------------------------------------------------------+\n",
      "Tudo pronto!\n"
     ]
    }
   ],
   "source": [
    "GOOGLE_COLAB = False\n",
    "\n",
    "if GOOGLE_COLAB:\n",
    "    from os import path\n",
    "    from wheel.pep425tags import get_abbr_impl, get_impl_ver, get_abi_tag\n",
    "\n",
    "    platform = '{}{}-{}'.format(get_abbr_impl(), get_impl_ver(), get_abi_tag())\n",
    "    accelerator = 'cu80' if path.exists('/opt/bin/nvidia-smi') else 'cpu'\n",
    "\n",
    "    !pip3 install http://download.pytorch.org/whl/{accelerator}/torch-0.4.1-{platform}-linux_x86_64.whl torchvision\n",
    "\n",
    "    # PIL workaround \n",
    "    from PIL import Image\n",
    "    def register_extension(id, extension): Image.EXTENSION[extension.lower()] = id.upper()\n",
    "    Image.register_extension = register_extension\n",
    "    def register_extensions(id, extensions): \n",
    "        for extension in extensions: register_extension(id, extension)\n",
    "    Image.register_extensions = register_extensions\n",
    "\n",
    "!nvidia-smi\n",
    "\n",
    "\n",
    "# Standard libs\n",
    "import time\n",
    "import os\n",
    "import copy\n",
    "import pickle\n",
    "from math import sqrt, pow\n",
    "import traceback\n",
    "from random import random\n",
    "from collections import OrderedDict\n",
    "import multiprocessing as mp\n",
    "\n",
    "# 3rd party libs\n",
    "from PIL import Image\n",
    "import glob\n",
    "import matplotlib.pyplot as plt\n",
    "import numpy as np\n",
    "import cv2 as cv\n",
    "import torch\n",
    "import torch.nn as nn\n",
    "import torch.nn.functional as F\n",
    "import torch.optim as optim\n",
    "from torch.optim import lr_scheduler\n",
    "import torchvision\n",
    "from torchvision import datasets, models, transforms\n",
    "from torchvision.datasets import MNIST\n",
    "from torch.utils.data import DataLoader\n",
    "from torch.utils.data import Dataset\n",
    "from torchvision.utils import make_grid\n",
    "from torchvision import transforms\n",
    "\n",
    "from lib import pytorch_trainer_v2 as ptt\n",
    "        \n",
    "if torch.cuda.is_available():\n",
    "    device = torch.device(\"cuda:0\")\n",
    "else:\n",
    "    device = torch.device(\"cpu\")\n",
    "   \n",
    "  \n",
    "from sklearn.model_selection import train_test_split\n",
    "\n",
    "print(\"Tudo pronto!\")"
   ]
  },
  {
   "cell_type": "markdown",
   "metadata": {
    "colab_type": "text",
    "id": "LH079UkARkG4"
   },
   "source": [
    "### 1.3 - Funções uteis"
   ]
  },
  {
   "cell_type": "code",
   "execution_count": 3,
   "metadata": {
    "colab": {},
    "colab_type": "code",
    "id": "SerpHurfRq3D"
   },
   "outputs": [],
   "source": [
    "class ImageUtil():\n",
    "  \n",
    "    @staticmethod\n",
    "    def open_image(fn):\n",
    "        \"\"\" Opens an image using OpenCV given the file path.\n",
    "\n",
    "        Arguments:\n",
    "            fn: the file path of the image\n",
    "\n",
    "        Returns:\n",
    "            The image in RGB format as numpy array of floats normalized to range between 0.0 - 1.0\n",
    "        \"\"\"\n",
    "        flags = cv2.IMREAD_UNCHANGED+cv2.IMREAD_ANYDEPTH+cv2.IMREAD_ANYCOLOR\n",
    "        if not os.path.exists(fn) and not str(fn).startswith(\"http\"):\n",
    "            raise OSError('No such file or directory: {}'.format(fn))\n",
    "        elif os.path.isdir(fn) and not str(fn).startswith(\"http\"):\n",
    "            raise OSError('Is a directory: {}'.format(fn))\n",
    "        else:\n",
    "            #res = np.array(Image.open(fn), dtype=np.float32)/255\n",
    "            #if len(res.shape)==2: res = np.repeat(res[...,None],3,2)\n",
    "            #return res\n",
    "            try:\n",
    "                if str(fn).startswith(\"http\"):\n",
    "                    req = urllib.urlopen(str(fn))\n",
    "                    image = np.asarray(bytearray(req.read()), dtype=\"uint8\")\n",
    "                    im = cv2.imdecode(image, flags).astype(np.float32)/255\n",
    "                else:\n",
    "                    im = cv2.imread(str(fn), flags).astype(np.float32)/255\n",
    "                if im is None: raise OSError(f'File not recognized by opencv: {fn}')\n",
    "                return cv2.cvtColor(im, cv2.COLOR_BGR2RGB)\n",
    "            except Exception as e:\n",
    "                raise OSError('Error handling image at: {}'.format(fn)) from e\n",
    "\n",
    "    @staticmethod\n",
    "    def show_img(im, figsize=None, ax=None):\n",
    "        if not ax: fig,ax = plt.subplots(figsize=figsize)\n",
    "        ax.imshow(im)\n",
    "        ax.get_xaxis().set_visible(False)\n",
    "        ax.get_yaxis().set_visible(False)\n",
    "        return ax\n",
    "\n",
    "      \n",
    "    @staticmethod\n",
    "    def draw_outline(o, lw, foreground='black'):\n",
    "        o.set_path_effects([patheffects.Stroke(\n",
    "            linewidth=lw, foreground=foreground), patheffects.Normal()])\n",
    "\n",
    "        \n",
    "    @staticmethod\n",
    "    def draw_rect(ax, b, edgecolor='white', foreground='black', lw=3):\n",
    "        patch = ax.add_patch(patches.Rectangle(b[:2], *b[-2:], fill=False, edgecolor=edgecolor, lw=lw))\n",
    "        ImageUtil.draw_outline(patch, lw, foreground)\n",
    "        return ax\n",
    "\n",
    "        \n",
    "    @staticmethod\n",
    "    def draw_text(ax, xy, txt, sz=14, color='white'):\n",
    "        text = ax.text(*xy, txt,\n",
    "            verticalalignment='top', color=color, fontsize=sz, weight='bold')\n",
    "        ImageUtil.draw_outline(text, 1)\n",
    "        \n",
    "        \n",
    "    def plot_image(img):\n",
    "        plt.imshow(img, cmap='gray')\n",
    "        plt.title(\"Imagem\")\n",
    "        plt.grid(False)\n",
    "        plt.show()\n",
    "\n",
    "    \n",
    "    def plot_target(target):\n",
    "        target = torch.tensor(target).unsqueeze(1)\n",
    "        print(target.shape, type(target))\n",
    "        grid = make_grid(target, nrow=5, normalize=True, padding=20, pad_value = 0.5).numpy().transpose(1, 2, 0)\n",
    "\n",
    "        plt.imshow(grid)\n",
    "        plt.title(\"Target\")\n",
    "        plt.grid(False)\n",
    "        plt.show()"
   ]
  },
  {
   "cell_type": "markdown",
   "metadata": {
    "colab_type": "text",
    "id": "MPTaqCRtPZrF"
   },
   "source": [
    "## 2 - Criação do dataset e dataloader\n"
   ]
  },
  {
   "cell_type": "markdown",
   "metadata": {
    "colab_type": "text",
    "id": "evYyjVwlMwGe"
   },
   "source": [
    "### 2.1 - Carregando MNIST dataset\n",
    "\n",
    "* Carrega o MNIST (60000 samples de treino e 10000 de teste)\n",
    "* Adaptar o dataset para que o target passa a ser um Float32 (28,28,10) \n",
    "* O valor do target para a camada do dígito da classe é dada por: gausiana"
   ]
  },
  {
   "cell_type": "code",
   "execution_count": 4,
   "metadata": {
    "colab": {},
    "colab_type": "code",
    "id": "QY807Oc2PZrG"
   },
   "outputs": [],
   "source": [
    "class CreatorCustomizedMNIST:\n",
    "    def __init__(self, root='./CustomizedMNIST', image_size=(512, 512), max_digits_size=(56, 56), digits_count=12):\n",
    "        self.ngaussian = (1 - self.generate_gaussian(size=image_size[0]))/10\n",
    "        \n",
    "        self.image_size = image_size  \n",
    "        self.max_digits_size = max_digits_size\n",
    "        self.anchor_space = np.array(image_size) - np.array(max_digits_size)\n",
    "        self.digits_count = digits_count \n",
    "        \n",
    "        mnist = datasets.MNIST(root=root, train=True, transform=transforms.ToTensor(), download=True)\n",
    "        self.mnist_loader = DataLoader(mnist, batch_size=digits_count, shuffle=True, num_workers=0)\n",
    "        self.iter = iter(self.mnist_loader)\n",
    "        \n",
    "        self.x_path = os.path.join(root, \"x\")\n",
    "        self.y_path = os.path.join(root, \"y\")\n",
    "        \n",
    "        # distancia minima entre ancoras é diagonal do retângulo\n",
    "        self.minimum_distance = int(sqrt(pow(self.max_digits_size[0], 2) + pow(self.max_digits_size[1], 2)))  \n",
    "    \n",
    "    \n",
    "    def generate_gaussian(self, size=28):\n",
    "        \"\"\" Make a square gaussian kernel.\n",
    "        size is the length of a side of the square\n",
    "        fwhm is full-width-half-maximum, which\n",
    "        can be thought of as an effective radius.\n",
    "        Adaptado - https://stackoverflow.com/questions/7687679/how-to-generate-2d-gaussian-with-python\n",
    "        \"\"\"\n",
    "        fwhm = size // 2\n",
    "        x = np.arange(0, size, 1, float)\n",
    "        y = x[:,np.newaxis]\n",
    "        c = size // 2\n",
    "        \n",
    "        return torch.from_numpy(np.exp(-4*np.log(2) * ((x-c)**2 + (y-c)**2) / fwhm**2))\n",
    "    \n",
    "    \n",
    "    def non_overlaping_anchor_points(self):\n",
    "        '''\n",
    "        Gera pontos de ancora que não se cruzam para colocar numeros \n",
    "        '''\n",
    "        # np.random.seed()\n",
    "        npoints = self.digits_count\n",
    "        \n",
    "        # anchor_points = (np.random.rand(npoints, 2)*self.anchor_space).astype(np.int)  \n",
    "        # pontos de ancora (top-left) aleatorios dentro do anchor_space\n",
    "        \n",
    "        \n",
    "        # Enquanto o numero de retangulos com overlap for maior que npoints continue tentando\n",
    "        # print(\"Pts\", npoints, minimum_distance, self.anchor_space)\n",
    "        anchor_points, i = [], 0\n",
    "        \n",
    "        while i < npoints:\n",
    "            p1 = (np.random.rand(2)*self.anchor_space).astype(np.int)\n",
    "            # print(p1)\n",
    "            conflict = False\n",
    "            for p2 in anchor_points:\n",
    "                dist = np.linalg.norm(p1-p2)\n",
    "                # print(p2)\n",
    "                if dist < self.minimum_distance:\n",
    "                    conflict = True\n",
    "                    break;\n",
    "            if not conflict:\n",
    "                anchor_points.append(p1) \n",
    "                i += 1\n",
    "                # print(i)\n",
    "                \n",
    "        return anchor_points\n",
    "            \n",
    "        \"\"\"\n",
    "        i = 1\n",
    "        while True:\n",
    "            noverlap = -npoints\n",
    "            for p1 in anchor_points:\n",
    "                for p2 in anchor_points:\n",
    "                    dist = np.linalg.norm(p1-p2)\n",
    "                    if dist < self.minimum_distance:  # hypotenuse of number rectangle is minimum distance\n",
    "                        noverlap += 1\n",
    "            if noverlap < 1:\n",
    "                return anchor_points\n",
    "            else:\n",
    "                anchor_points = (np.random.rand(npoints, 2)*self.anchor_space).astype(np.int)\n",
    "\n",
    "            i += 1\n",
    "       \"\"\" \n",
    "        #return anchor_points\n",
    "    \n",
    "    \n",
    "    def __len__(self):\n",
    "        return self.mnist_len + self.mnist_len//10\n",
    "    \n",
    "    \n",
    "    def __getitem__(self, index):\n",
    "        \n",
    "        if index < self.mnist_len:\n",
    "            img, label = self.mnist[index]\n",
    "        else:\n",
    "            img, label = torch.zeros((1, 28, 28)), 10 #Classe de fundo\n",
    "                \n",
    "        target = torch.zeros((11, 28, 28))\n",
    "        target[:] = self.ngaussian # Distribuição para o restante\n",
    "        target[label] = self.gaussian  # Gausiana para o valor correto\n",
    "        \n",
    "        return img, target\n",
    "    \n",
    "    \n",
    "    def make_sample(self):\n",
    "        '''\n",
    "        Faz uma sample com varios numeros do mnist separados\n",
    "        '''\n",
    "        imgs, ys = next(self.iter)\n",
    "        # print(\"Make sample\")\n",
    "        anchor_points = self.non_overlaping_anchor_points()\n",
    "        # print(\"anchor_points\")     \n",
    "            \n",
    "        sample = np.zeros(self.image_size)\n",
    "        # print(\"????\")\n",
    "        # print((11, self.image_size[0], self.image_size[1]))\n",
    "        target = np.zeros((11, self.image_size[0], self.image_size[1])) #torch.zeros((11, self.image_size[0], self.image_size[1]))\n",
    "        # print(\"Gausiana deu pau? \")\n",
    "        target[:] = self.ngaussian # Distribuição para o restante\n",
    "        \n",
    "        # print(\"Vai entrar no for\")\n",
    "        for point, img, y in zip(anchor_points, imgs, ys):\n",
    "            #print(\"Aqui\")\n",
    "            is_big = np.random.randint(0, 2) == 1\n",
    "            size = 28\n",
    "            img = img.squeeze().numpy()\n",
    "            \n",
    "            if is_big:         \n",
    "                size = 56\n",
    "                img = cv.resize(img, (size, size))\n",
    "            \n",
    "            sample[point[0]:point[0]+size, point[1]:point[1]+size] = img\n",
    "            target[y, point[0]:point[0]+size, point[1]:point[1]+size] = self.generate_gaussian(size)\n",
    "           \n",
    "        # print(\"retornando...\")\n",
    "        return sample, target\n",
    "    \n",
    "    \n",
    "    def _save_nsamples(self, n, saveformat=\"png\", offset=0, nworkers = int(mp.cpu_count())):\n",
    "        '''\n",
    "        Salva n imagens aleatorias e seus targets\n",
    "        '''\n",
    "        # int(\"Processo entrando\");\n",
    "        \n",
    "        pid = offset/n + 1\n",
    "        np.random.seed(int.from_bytes(os.urandom(4), byteorder='little'))\n",
    "        torch.manual_seed(pid)\n",
    "        \n",
    "        for i in range(n):\n",
    "            # print(\"In for\")\n",
    "            x, y = self.make_sample() \n",
    "            # print(\"New image saved\")\n",
    "            x = (x * 255).astype(np.uint8)\n",
    "\n",
    "            cv.imwrite(os.path.join(self.x_path, str(offset + i) + '.' + str(saveformat)), x)\n",
    "            np.save(os.path.join(self.y_path, str(offset+i)), (y * 100).astype(np.int8)) \n",
    "            \n",
    "            if i > 0 and i % 50 == 0:\n",
    "                print(\"Process {}: {}/{}\".format(int(pid), i, n), flush=True)\n",
    "        \n",
    "        print(\"Process {} done creating {} images.\".format(int(pid), n))\n",
    "    \n",
    "    \n",
    "    def create(self, n_images, saveformat=\"png\", nworkers = int(mp.cpu_count())):\n",
    "        '''\n",
    "        Gera processos igual ao numero de threads disponíveis para gerar dataset\n",
    "        '''\n",
    "        print(\"Generating dataset with {} images...\".format(n_images))\n",
    "        \n",
    "        if not os.path.exists(self.x_path):\n",
    "            os.mkdir(self.x_path)\n",
    "            os.mkdir(self.y_path)\n",
    "        \n",
    "        ps = []\n",
    "\n",
    "        if n_images < nworkers:\n",
    "            raise ValueError(\"Number of images to create should be at least number of workers ({})\".format(nworkers))\n",
    "\n",
    "        print(\"Creating {} processes...\".format(nworkers))\n",
    "        batch = n_images//nworkers + 1\n",
    "        for i in range(nworkers):\n",
    "            ps.append(mp.Process(target=self._save_nsamples, args=(batch, \"png\", i*batch, nworkers)))\n",
    "            \n",
    "        for p in ps:\n",
    "            p.start()\n",
    "            \n",
    "        for p in ps:\n",
    "            p.join()\n",
    "    \n",
    "    "
   ]
  },
  {
   "cell_type": "code",
   "execution_count": 5,
   "metadata": {
    "colab": {
     "base_uri": "https://localhost:8080/",
     "height": 694
    },
    "colab_type": "code",
    "id": "qnaVCNjJpC7D",
    "outputId": "f9b72048-160f-4101-93d1-0f5152c5d545"
   },
   "outputs": [
    {
     "name": "stdout",
     "output_type": "stream",
     "text": [
      "Downloading http://yann.lecun.com/exdb/mnist/train-images-idx3-ubyte.gz\n",
      "Downloading http://yann.lecun.com/exdb/mnist/train-labels-idx1-ubyte.gz\n",
      "Downloading http://yann.lecun.com/exdb/mnist/t10k-images-idx3-ubyte.gz\n",
      "Downloading http://yann.lecun.com/exdb/mnist/t10k-labels-idx1-ubyte.gz\n",
      "Processing...\n",
      "Done!\n",
      "0.0063877105712890625\n"
     ]
    },
    {
     "data": {
      "image/png": "[encoded data removed]",
      "text/plain": [
       "<Figure size 432x288 with 1 Axes>"
      ]
     },
     "metadata": {},
     "output_type": "display_data"
    },
    {
     "name": "stdout",
     "output_type": "stream",
     "text": [
      "torch.Size([11, 1, 224, 224]) <class 'torch.Tensor'>\n"
     ]
    },
    {
     "data": {
      "image/png": "[encoded data removed]",
      "text/plain": [
       "<Figure size 432x288 with 1 Axes>"
      ]
     },
     "metadata": {},
     "output_type": "display_data"
    }
   ],
   "source": [
    "from time import time\n",
    "\n",
    "creator = CreatorCustomizedMNIST(image_size=(224, 224), digits_count=4)\n",
    "\n",
    "t = time()\n",
    "x, y = creator.make_sample()\n",
    "print(time() - t)\n",
    "\n",
    "ImageUtil.plot_image(x)\n",
    "ImageUtil.plot_target(y)"
   ]
  },
  {
   "cell_type": "code",
   "execution_count": 6,
   "metadata": {
    "colab": {
     "base_uri": "https://localhost:8080/",
     "height": 34
    },
    "colab_type": "code",
    "id": "wH2yiV3wQYV3",
    "outputId": "a6f3cced-2329-4b11-df61-09afefe65f20"
   },
   "outputs": [
    {
     "name": "stdout",
     "output_type": "stream",
     "text": [
      "CPU count: 32\n",
      "0\n",
      "Generating dataset with 2000 images...\n",
      "Creating 32 processes...\n",
      "Process 2: 50/63\n",
      "Process 1: 50/63\n",
      "Process 5: 50/63\n",
      "Process 4: 50/63\n",
      "Process 3: 50/63\n",
      "Process 6: 50/63\n",
      "Process 8: 50/63\n",
      "Process 7: 50/63\n",
      "Process 9: 50/63\n",
      "Process 2 done creating 63 images.\n",
      "Process 1 done creating 63 images.\n",
      "Process 10: 50/63\n",
      "Process 4 done creating 63 images.\n",
      "Process 3 done creating 63 images.\n",
      "Process 11: 50/63\n",
      "Process 5 done creating 63 images.\n",
      "Process 12: 50/63\n",
      "Process 8 done creating 63 images.\n",
      "Process 6 done creating 63 images.\n",
      "Process 7 done creating 63 images.\n",
      "Process 9 done creating 63 images.\n",
      "Process 20: 50/63\n",
      "Process 13: 50/63\n",
      "Process 15: 50/63\n",
      "Process 14: 50/63\n",
      "Process 10 done creating 63 images.\n",
      "Process 16: 50/63\n",
      "Process 17: 50/63\n",
      "Process 12 done creating 63 images.\n",
      "Process 11 done creating 63 images.\n",
      "Process 22: 50/63\n",
      "Process 19: 50/63\n",
      "Process 25: 50/63\n",
      "Process 18: 50/63\n",
      "Process 13 done creating 63 images.\n",
      "Process 24: 50/63\n",
      "Process 21: 50/63\n",
      "Process 20 done creating 63 images.\n",
      "Process 15 done creating 63 images.\n",
      "Process 14 done creating 63 images.\n",
      "Process 23: 50/63\n",
      "Process 29: 50/63\n",
      "Process 26: 50/63\n",
      "Process 22 done creating 63 images.\n",
      "Process 27: 50/63\n",
      "Process 16 done creating 63 images.\n",
      "Process 17 done creating 63 images.\n",
      "Process 25 done creating 63 images.\n",
      "Process 18 done creating 63 images.\n",
      "Process 24 done creating 63 images.\n",
      "Process 28: 50/63\n",
      "Process 30: 50/63\n",
      "Process 19 done creating 63 images.\n",
      "Process 32: 50/63\n",
      "Process 31: 50/63\n",
      "Process 21 done creating 63 images.\n",
      "Process 26 done creating 63 images.\n",
      "Process 27 done creating 63 images.\n",
      "Process 23 done creating 63 images.\n",
      "Process 29 done creating 63 images.\n",
      "Process 28 done creating 63 images.\n",
      "Process 30 done creating 63 images.\n",
      "Process 32 done creating 63 images.\n",
      "Process 31 done creating 63 images.\n",
      "2016\n"
     ]
    }
   ],
   "source": [
    "print(\"CPU count:\", mp.cpu_count())\n",
    "\n",
    "n_sample = 2000\n",
    "n_created = len(glob.glob(\"CustomizedMNIST/x/*.png\"))\n",
    "print(n_created)\n",
    "\n",
    "if n_created >= n_sample:\n",
    "    print(\"Dataset already created\")\n",
    "else:\n",
    "    creator.create(n_sample - n_created)\n",
    "\n",
    "print(len(glob.glob(\"CustomizedMNIST/x/*.png\")))  "
   ]
  },
  {
   "cell_type": "code",
   "execution_count": 7,
   "metadata": {
    "colab": {},
    "colab_type": "code",
    "id": "lYqf2ZhaqrZv"
   },
   "outputs": [],
   "source": [
    "def load_dataset(root='./CustomizedMNIST'):\n",
    "    x_path = os.path.join(root, \"x\")\n",
    "    y_path = os.path.join(root, \"y\")\n",
    "\n",
    "    files_x = glob.glob(os.path.join(x_path, \"*.png\"))\n",
    "    files_y = glob.glob(os.path.join(y_path, \"*.npy\"))\n",
    "    x, y = [], []\n",
    "    for file_x, file_y in zip(files_x, files_y):\n",
    "        x.append(cv.imread(file_x, flags=0))\n",
    "        y.append((np.load(file_y) / 100).astype(np.float))\n",
    "        \n",
    "    return train_test_split(x, y, test_size=.2)\n",
    "\n",
    "\n",
    "class ToTensor(object):\n",
    "    '''\n",
    "    Convert dataset output to Tensors.\n",
    "    '''\n",
    "    def __call__(self, npimage):\n",
    "        '''\n",
    "        input numpy image: H x W\n",
    "        output torch image: C X H X W\n",
    "        '''\n",
    "        return torch.unsqueeze(torch.from_numpy(npimage/255), 0).float()\n",
    "        \n",
    "        \n",
    "class CustomizedMNISTDataset(Dataset):\n",
    "    def __init__(self, x, y, transform=None):\n",
    "        self.x = x\n",
    "        self.y = y\n",
    "        self.transform = transform\n",
    "        \n",
    "        if self.transform is None:\n",
    "            self.transform = ToTensor()\n",
    "\n",
    "            \n",
    "    def __len__(self):\n",
    "        return len(self.x)\n",
    "    \n",
    "    \n",
    "    def __getitem__(self, i):\n",
    "        return self.transform(self.x[i]), self.y[i]"
   ]
  },
  {
   "cell_type": "markdown",
   "metadata": {
    "colab_type": "text",
    "id": "915zxlr3NRSJ"
   },
   "source": [
    "### 2.2 - DataLoaders"
   ]
  },
  {
   "cell_type": "code",
   "execution_count": 8,
   "metadata": {
    "colab": {
     "base_uri": "https://localhost:8080/",
     "height": 34
    },
    "colab_type": "code",
    "id": "mG6cHwPTTCP8",
    "outputId": "fba93dae-e62c-4d41-d92d-963a47a5aa6c"
   },
   "outputs": [
    {
     "name": "stdout",
     "output_type": "stream",
     "text": [
      "(224, 224) (224, 224) (11, 224, 224) (11, 224, 224)\n",
      "Len(Train): 1612\n",
      "Len(Val): 404\n"
     ]
    }
   ],
   "source": [
    "batch_size = 32\n",
    "\n",
    "X_train, X_val, y_train, y_val = load_dataset()\n",
    "print(X_train[0].shape, X_val[0].shape, y_train[0].shape, y_val[0].shape)\n",
    "\n",
    "dataset_train = CustomizedMNISTDataset(X_train, y_train)\n",
    "dataset_val = CustomizedMNISTDataset(X_val, y_val)\n",
    "print(\"Len(Train): {}\\nLen(Val): {}\".format(len(dataset_train), len(dataset_val)))\n",
    "\n",
    "dataloader_train = DataLoader(dataset_train, batch_size=batch_size)\n",
    "dataloader_val = DataLoader(dataset_val, batch_size=batch_size)"
   ]
  },
  {
   "cell_type": "markdown",
   "metadata": {
    "colab_type": "text",
    "id": "ltmYlIlxj10_"
   },
   "source": [
    "### 2.3 - Verificando o resultado pelo dataloader"
   ]
  },
  {
   "cell_type": "code",
   "execution_count": 9,
   "metadata": {
    "colab": {
     "base_uri": "https://localhost:8080/",
     "height": 728
    },
    "colab_type": "code",
    "id": "Dt7WJtr3j86w",
    "outputId": "3601ed38-3e05-44e5-94f9-3fabba6b0683"
   },
   "outputs": [
    {
     "name": "stdout",
     "output_type": "stream",
     "text": [
      "Shapes:  torch.Size([32, 1, 224, 224]) torch.Size([32, 11, 224, 224])\n",
      "target [min, max] = [0.0, 1.0]\n"
     ]
    },
    {
     "data": {
      "image/png": "[encoded data removed]",
      "text/plain": [
       "<Figure size 432x288 with 1 Axes>"
      ]
     },
     "metadata": {},
     "output_type": "display_data"
    },
    {
     "name": "stdout",
     "output_type": "stream",
     "text": [
      "torch.Size([11, 1, 224, 224]) <class 'torch.Tensor'>\n"
     ]
    },
    {
     "data": {
      "image/png": "[encoded data removed]",
      "text/plain": [
       "<Figure size 432x288 with 1 Axes>"
      ]
     },
     "metadata": {},
     "output_type": "display_data"
    }
   ],
   "source": [
    "img, target = next(iter(dataloader_train))\n",
    "print(\"Shapes: \", img.shape, target.shape)\n",
    "print(\"target [min, max] = [{}, {}]\".format(target[0].min(), target[0].max()))\n",
    "\n",
    "ImageUtil.plot_image(img[0].squeeze())\n",
    "ImageUtil.plot_target(target[0])"
   ]
  },
  {
   "cell_type": "markdown",
   "metadata": {
    "colab_type": "text",
    "id": "xee8KwTUPZro"
   },
   "source": [
    "## 3 - Modelo Totalmente Convolucional"
   ]
  },
  {
   "cell_type": "code",
   "execution_count": 10,
   "metadata": {
    "colab": {},
    "colab_type": "code",
    "id": "If2egZr96Zfx"
   },
   "outputs": [],
   "source": [
    "class MyModelFullyConv(nn.Module):\n",
    "    def __init__(self):\n",
    "        super(MyModelFullyConv, self).__init__()\n",
    "        \n",
    "        # Camadas convolucionais\n",
    "        self.conv_layer = nn.Sequential(OrderedDict([\n",
    "            \n",
    "            ('conv1', nn.Conv2d(in_channels=1, out_channels=16, kernel_size=5, padding=2)),   \n",
    "            ('relu1', nn.ReLU()),\n",
    "            \n",
    "            ('conv2', nn.Conv2d(in_channels=16, out_channels=32, kernel_size=5, padding=2)),   \n",
    "            ('relu2', nn.ReLU()),\n",
    "            \n",
    "            ('max_pool1', nn.MaxPool2d(2)),\n",
    "            \n",
    "            ('conv3', nn.Conv2d(in_channels=32, out_channels=64, kernel_size=3, padding=1)),\n",
    "            ('relu3', nn.ReLU()),\n",
    "            \n",
    "            ('max_pool2', nn.MaxPool2d(2)),\n",
    "            \n",
    "            ('conv4', nn.Conv2d(in_channels=64, out_channels=128, kernel_size=3, padding=1)),\n",
    "            ('relu4', nn.ReLU()),\n",
    "            \n",
    "            ('conv_t1', nn.ConvTranspose2d(in_channels=128, out_channels=128, kernel_size=2, stride=2)),\n",
    "            ('relu_t1', nn.ReLU()),\n",
    "            \n",
    "            ('conv5', nn.Conv2d(in_channels=128, out_channels=64, kernel_size=3, padding=1)),\n",
    "            ('relu5', nn.ReLU()),\n",
    "            \n",
    "            ('conv_t2', nn.ConvTranspose2d(in_channels=64, out_channels=64, kernel_size=2, stride=2)),\n",
    "            ('relu_t2', nn.ReLU()),\n",
    "            \n",
    "            ('conv6', nn.Conv2d(in_channels=64, out_channels=32, kernel_size=5, padding=2)),   \n",
    "            ('relu6', nn.ReLU()),\n",
    "            \n",
    "            ('conv7', nn.Conv2d(in_channels=32, out_channels=11, kernel_size=5, padding=2)),   \n",
    "            \n",
    "            ('softmax', nn.Softmax2d())\n",
    "            \n",
    "        ]))\n",
    "        \n",
    "    def forward(self, x):\n",
    "        x = self.conv_layer(x)        \n",
    "        return x"
   ]
  },
  {
   "cell_type": "markdown",
   "metadata": {
    "colab_type": "text",
    "id": "YXrXmomnPZry"
   },
   "source": [
    "### 3.1 - Observando a saida de cada camada"
   ]
  },
  {
   "cell_type": "code",
   "execution_count": 11,
   "metadata": {
    "colab": {
     "base_uri": "https://localhost:8080/",
     "height": 374
    },
    "colab_type": "code",
    "id": "lT1vq4T9PZrz",
    "outputId": "486fa3ca-9fd5-49bd-ae0b-de8d93ac437a"
   },
   "outputs": [
    {
     "name": "stdout",
     "output_type": "stream",
     "text": [
      "input     : torch.Size([1, 1, 300, 300])\n",
      "conv1     : torch.Size([1, 16, 300, 300])\n",
      "relu1     : torch.Size([1, 16, 300, 300])\n",
      "conv2     : torch.Size([1, 32, 300, 300])\n",
      "relu2     : torch.Size([1, 32, 300, 300])\n",
      "max_pool1 : torch.Size([1, 32, 150, 150])\n",
      "conv3     : torch.Size([1, 64, 150, 150])\n",
      "relu3     : torch.Size([1, 64, 150, 150])\n",
      "max_pool2 : torch.Size([1, 64, 75, 75])\n",
      "conv4     : torch.Size([1, 128, 75, 75])\n",
      "relu4     : torch.Size([1, 128, 75, 75])\n",
      "conv_t1   : torch.Size([1, 128, 150, 150])\n",
      "relu_t1   : torch.Size([1, 128, 150, 150])\n",
      "conv5     : torch.Size([1, 64, 150, 150])\n",
      "relu5     : torch.Size([1, 64, 150, 150])\n",
      "conv_t2   : torch.Size([1, 64, 300, 300])\n",
      "relu_t2   : torch.Size([1, 64, 300, 300])\n",
      "conv6     : torch.Size([1, 32, 300, 300])\n",
      "relu6     : torch.Size([1, 32, 300, 300])\n",
      "conv7     : torch.Size([1, 11, 300, 300])\n",
      "softmax   : torch.Size([1, 11, 300, 300])\n"
     ]
    }
   ],
   "source": [
    "model_conv = MyModelFullyConv().cuda()\n",
    "x = torch.zeros(1, 1, 300, 300).cuda()\n",
    "\n",
    "print('{:10}: {}'.format('input', str(x.size())))\n",
    "\n",
    "for name, layer in model_conv.conv_layer.named_children():\n",
    "    x = layer(x)\n",
    "    print('{:10}: {}'.format(name, str(x.size())))\n",
    "    "
   ]
  },
  {
   "cell_type": "markdown",
   "metadata": {
    "colab_type": "text",
    "id": "FhOs1BDqcj5-"
   },
   "source": [
    "### 3.2 - Fazendo a predição de um batch"
   ]
  },
  {
   "cell_type": "code",
   "execution_count": 12,
   "metadata": {
    "colab": {
     "base_uri": "https://localhost:8080/",
     "height": 85
    },
    "colab_type": "code",
    "id": "wAr_9YzScd4z",
    "outputId": "0cd84ae7-8361-4cf3-c986-83363a5df087"
   },
   "outputs": [
    {
     "name": "stdout",
     "output_type": "stream",
     "text": [
      "Train shape: torch.Size([32, 1, 224, 224])\n",
      "Pred shape: torch.Size([32, 11, 224, 224])\n",
      "Probabilidade de cada classe em 1px: torch.Size([1, 11, 1, 1])\n",
      "Soma:  tensor(1.0000, device='cuda:0', grad_fn=<SumBackward0>)\n"
     ]
    }
   ],
   "source": [
    "x, y = next(iter(dataloader_train))\n",
    "print(\"Train shape:\", x.shape)\n",
    "\n",
    "img_pred = model_conv(x.to(device))\n",
    "print(\"Pred shape:\", img_pred.shape)\n",
    "\n",
    "prob = img_pred[:1, :, :1, :1]\n",
    "print(\"Probabilidade de cada classe em 1px:\", prob.shape)\n",
    "print(\"Soma: \", torch.sum(prob))"
   ]
  },
  {
   "cell_type": "markdown",
   "metadata": {
    "colab_type": "text",
    "id": "PgLJ4SjYFBQS"
   },
   "source": [
    "### 3.3 - Função custumizada de Loss"
   ]
  },
  {
   "cell_type": "code",
   "execution_count": 13,
   "metadata": {
    "colab": {},
    "colab_type": "code",
    "id": "QMWMl1LsF2OC"
   },
   "outputs": [],
   "source": [
    "class MyCustomCrossEntropyLoss(nn.modules.loss._Loss):\n",
    "    \n",
    "    def __init__(self, size_average=None, reduce=None, reduction='elementwise_mean'):\n",
    "        super(MyCustomCrossEntropyLoss, self).__init__(size_average, reduce, reduction)\n",
    "        \n",
    "    def forward(self, pred, target):\n",
    "        crossEntropy = (target * torch.log(pred.type(torch.DoubleTensor)).cuda())\n",
    "        if(self.reduction == 'elementwise_mean'):\n",
    "            crossEntropy = torch.mean(crossEntropy)\n",
    "        else:\n",
    "            crossEntropy = torch.sum(crossEntropy)\n",
    "        return -crossEntropy"
   ]
  },
  {
   "cell_type": "markdown",
   "metadata": {
    "colab_type": "text",
    "id": "wwVttGL5-siE"
   },
   "source": [
    "** Testando a função de custo **"
   ]
  },
  {
   "cell_type": "code",
   "execution_count": 14,
   "metadata": {
    "colab": {
     "base_uri": "https://localhost:8080/",
     "height": 34
    },
    "colab_type": "code",
    "id": "bFUOP4NaW8H2",
    "outputId": "7ba25d88-f478-487e-b1b0-10309e34eafd"
   },
   "outputs": [
    {
     "name": "stdout",
     "output_type": "stream",
     "text": [
      "tensor(0.1684, device='cuda:0', dtype=torch.float64, grad_fn=<NegBackward>)\n"
     ]
    }
   ],
   "source": [
    "x, y = next(iter(dataloader_train))\n",
    "\n",
    "# print(type(y))\n",
    "y_pred = model_conv(x.to(device))\n",
    "\n",
    "loss = MyCustomCrossEntropyLoss()(y_pred, y.cuda())\n",
    "\n",
    "print(loss)"
   ]
  },
  {
   "cell_type": "code",
   "execution_count": 15,
   "metadata": {
    "colab": {},
    "colab_type": "code",
    "id": "hQwlc8iuFlsa"
   },
   "outputs": [],
   "source": [
    "optm = torch.optim.Adam(params=model_conv.parameters())\n",
    "schd = torch.optim.lr_scheduler.StepLR(optm, step_size=7, gamma=0.1)\n",
    "cb_chkpt = ptt.ModelCheckpoint('./last_model', reset=True, verbose=1)\n",
    "\n",
    "trainer = ptt.DeepNetTrainer(model         = model_conv,\n",
    "                             criterion     = MyCustomCrossEntropyLoss(),\n",
    "                             optimizer     = optm,\n",
    "                             lr_scheduler  = schd,\n",
    "                             callbacks     = [cb_chkpt,\n",
    "                                              ptt.PrintCallback()],\n",
    "                             devname       = device)\n"
   ]
  },
  {
   "cell_type": "code",
   "execution_count": 16,
   "metadata": {
    "colab": {
     "base_uri": "https://localhost:8080/",
     "height": 1183
    },
    "colab_type": "code",
    "id": "bYkZNsJqFmyX",
    "outputId": "9666681b-7faf-4387-90f9-31dbd5f165a7"
   },
   "outputs": [
    {
     "name": "stdout",
     "output_type": "stream",
     "text": [
      "Tue Nov 13 03:23:10 2018       \n",
      "+-----------------------------------------------------------------------------+\n",
      "| NVIDIA-SMI 396.44                 Driver Version: 396.44                    |\n",
      "|-------------------------------+----------------------+----------------------+\n",
      "| GPU  Name        Persistence-M| Bus-Id        Disp.A | Volatile Uncorr. ECC |\n",
      "| Fan  Temp  Perf  Pwr:Usage/Cap|         Memory-Usage | GPU-Util  Compute M. |\n",
      "|===============================+======================+======================|\n",
      "|   0  Tesla V100-SXM2...  On   | 00000000:00:1B.0 Off |                    0 |\n",
      "| N/A   45C    P0    54W / 300W |   7581MiB / 16160MiB |      8%      Default |\n",
      "+-------------------------------+----------------------+----------------------+\n",
      "|   1  Tesla V100-SXM2...  On   | 00000000:00:1C.0 Off |                    0 |\n",
      "| N/A   40C    P0    38W / 300W |     11MiB / 16160MiB |      0%      Default |\n",
      "+-------------------------------+----------------------+----------------------+\n",
      "|   2  Tesla V100-SXM2...  On   | 00000000:00:1D.0 Off |                    0 |\n",
      "| N/A   40C    P0    42W / 300W |     11MiB / 16160MiB |      0%      Default |\n",
      "+-------------------------------+----------------------+----------------------+\n",
      "|   3  Tesla V100-SXM2...  On   | 00000000:00:1E.0 Off |                    0 |\n",
      "| N/A   41C    P0    40W / 300W |     11MiB / 16160MiB |      0%      Default |\n",
      "+-------------------------------+----------------------+----------------------+\n",
      "                                                                               \n",
      "+-----------------------------------------------------------------------------+\n",
      "| Processes:                                                       GPU Memory |\n",
      "|  GPU       PID   Type   Process name                             Usage      |\n",
      "|=============================================================================|\n",
      "|    0      4887      C   ...u/anaconda3/envs/pytorch_p36/bin/python  7570MiB |\n",
      "+-----------------------------------------------------------------------------+\n",
      "Start training for 10 epochs\n",
      "  1:  26.0s   T: 0.00534 *   V: 0.00543 *  \n",
      "  2:  25.4s   T: 0.00534 *   V: 0.00543    \n",
      "  3:  25.3s   T: 0.00534 *   V: 0.00543    \n",
      "  4:  25.3s   T: 0.00534 *   V: 0.00543    \n",
      "  5:  25.3s   T: 0.00534 *   V: 0.00543 *  \n",
      "  6:  25.3s   T: 0.00534     V: 0.00543 *  \n",
      "  7:  25.4s   T: 0.00534     V: 0.00543 *  \n",
      "  8:  25.4s   T: 0.00534 *   V: 0.00543 *  \n",
      "  9:  25.4s   T: 0.00534 *   V: 0.00543 *  \n",
      " 10:  25.4s   T: 0.00534 *   V: 0.00543 *  \n",
      "Best model was saved at epoch 10 with loss 0.00543: ./last_model\n",
      "Stop training at epoch: 10/10\n"
     ]
    }
   ],
   "source": [
    "if True:\n",
    "    n_epochs = 10\n",
    "    trainer.fit_loader(n_epochs, dataloader_train, dataloader_val)\n",
    "else:\n",
    "    # !wget -nc -q https://www.dropbox.com/s/1xzp51l36spoeta/last_model.model\n",
    "    trainer.load_state('./last_model')\n",
    "    trainer.fit_loader(1, dataloader_train, dataloader_val)"
   ]
  },
  {
   "cell_type": "markdown",
   "metadata": {
    "colab_type": "text",
    "id": "aDtnRwTDOMMw"
   },
   "source": [
    "### 3.4 - Teste do treinamento"
   ]
  },
  {
   "cell_type": "code",
   "execution_count": 19,
   "metadata": {
    "colab": {},
    "colab_type": "code",
    "id": "BHxlUdy6rbnI"
   },
   "outputs": [
    {
     "name": "stdout",
     "output_type": "stream",
     "text": [
      "Imagem:\n"
     ]
    },
    {
     "data": {
      "image/png": "[encoded data removed]",
      "text/plain": [
       "<Figure size 432x288 with 1 Axes>"
      ]
     },
     "metadata": {},
     "output_type": "display_data"
    },
    {
     "name": "stdout",
     "output_type": "stream",
     "text": [
      "Target:\n",
      "torch.Size([11, 1, 224, 224]) <class 'torch.Tensor'>\n"
     ]
    },
    {
     "data": {
      "image/png": "[encoded data removed]",
      "text/plain": [
       "<Figure size 432x288 with 1 Axes>"
      ]
     },
     "metadata": {},
     "output_type": "display_data"
    },
    {
     "name": "stdout",
     "output_type": "stream",
     "text": [
      "Target Pred.:\n",
      "torch.Size([11, 1, 224, 224]) <class 'torch.Tensor'>\n"
     ]
    },
    {
     "data": {
      "image/png": "[encoded data removed]",
      "text/plain": [
       "<Figure size 432x288 with 1 Axes>"
      ]
     },
     "metadata": {},
     "output_type": "display_data"
    }
   ],
   "source": [
    "x, y = next(iter(dataloader_val))\n",
    "pred = model_conv(x.cuda()).cpu().detach()\n",
    "#pred = pred.data.cpu().numpy()\n",
    "# ImageUtil.plot_image(img[0].squeeze())\n",
    "(k, c, w, h) = x.shape\n",
    "\n",
    "for i in range(k):\n",
    "    print(\"Imagem:\")\n",
    "    ImageUtil.plot_image(x[i].squeeze())  \n",
    "    print(\"Target:\")\n",
    "    ImageUtil.plot_target(y[i])\n",
    "    print(\"Target Pred.:\")\n",
    "    ImageUtil.plot_target(pred[i])\n",
    "    break;"
   ]
  },
  {
   "cell_type": "markdown",
   "metadata": {
    "colab_type": "text",
    "id": "-MSIw1TGW_by"
   },
   "source": [
    "**Gerando amostras**"
   ]
  },
  {
   "cell_type": "code",
   "execution_count": 38,
   "metadata": {
    "colab": {
     "base_uri": "https://localhost:8080/",
     "height": 368
    },
    "colab_type": "code",
    "id": "GoHL4MNHVaBw",
    "outputId": "6d8597fd-a839-4b58-b825-e26840e1b100"
   },
   "outputs": [
    {
     "data": {
      "text/plain": [
       "<matplotlib.colorbar.Colorbar at 0x7f7c989bc748>"
      ]
     },
     "execution_count": 38,
     "metadata": {},
     "output_type": "execute_result"
    },
    {
     "data": {
      "image/png": "[encoded data removed]",
      "text/plain": [
       "<Figure size 432x288 with 2 Axes>"
      ]
     },
     "metadata": {},
     "output_type": "display_data"
    }
   ],
   "source": [
    "img, _ = next(iter(dataloader_val))\n",
    "img = img[21].squeeze()\n",
    "# img = torch.tensor(m_mnist.make_sample()).float()\n",
    "plt.grid(False)\n",
    "plt.imshow(img, cmap=\"gray\")\n",
    "plt.colorbar()"
   ]
  },
  {
   "cell_type": "markdown",
   "metadata": {
    "colab_type": "text",
    "id": "LNjHp5WKXT7p"
   },
   "source": [
    "### 4.2 - Output da predição"
   ]
  },
  {
   "cell_type": "code",
   "execution_count": 39,
   "metadata": {
    "colab": {},
    "colab_type": "code",
    "id": "PGouthzsXO3B"
   },
   "outputs": [
    {
     "name": "stdout",
     "output_type": "stream",
     "text": [
      "torch.Size([11, 224, 224])\n",
      "Imagem:\n"
     ]
    },
    {
     "data": {
      "image/png": "[encoded data removed]",
      "text/plain": [
       "<Figure size 432x288 with 1 Axes>"
      ]
     },
     "metadata": {},
     "output_type": "display_data"
    },
    {
     "name": "stdout",
     "output_type": "stream",
     "text": [
      "Target Pred.:\n",
      "torch.Size([11, 1, 224, 224]) <class 'torch.Tensor'>\n"
     ]
    },
    {
     "data": {
      "image/png": "[encoded data removed]",
      "text/plain": [
       "<Figure size 432x288 with 1 Axes>"
      ]
     },
     "metadata": {},
     "output_type": "display_data"
    }
   ],
   "source": [
    "img = torch.tensor(img).float().reshape(1, 1, 224, 224).cuda()\n",
    "pred = model_conv(img)\n",
    "\n",
    "print(pred[0].shape)\n",
    "\n",
    "max_pred, max_class = pred[0][:-1].max(dim=0)\n",
    "\n",
    "print(\"Imagem:\")\n",
    "ImageUtil.plot_image(img.cpu().squeeze())  \n",
    "print(\"Target Pred.:\")\n",
    "ImageUtil.plot_target(pred.reshape(11, 224, 224).cpu().detach())"
   ]
  },
  {
   "cell_type": "markdown",
   "metadata": {
    "colab_type": "text",
    "id": "xUbTjjPic9GY"
   },
   "source": [
    "### 4.3 - Mapa de calor"
   ]
  },
  {
   "cell_type": "code",
   "execution_count": 40,
   "metadata": {
    "colab": {},
    "colab_type": "code",
    "id": "M9vdltTePZsU"
   },
   "outputs": [
    {
     "data": {
      "image/png": "[encoded data removed]",
      "text/plain": [
       "<Figure size 432x288 with 2 Axes>"
      ]
     },
     "metadata": {},
     "output_type": "display_data"
    }
   ],
   "source": [
    "hot_map = max_pred.data.cpu().numpy()\n",
    "plt.imshow(hot_map.reshape(224, 224), plt.cm.hot)\n",
    "plt.colorbar()\n",
    "plt.show()"
   ]
  },
  {
   "cell_type": "markdown",
   "metadata": {
    "colab_type": "text",
    "id": "yY1UzJC3dr-y"
   },
   "source": [
    "### 4.4 - Utilizando morfologia para encontrar os BB"
   ]
  },
  {
   "cell_type": "code",
   "execution_count": 48,
   "metadata": {
    "colab": {},
    "colab_type": "code",
    "id": "gnR2Lp6LPZsj"
   },
   "outputs": [
    {
     "data": {
      "image/png": "[encoded data removed]",
      "text/plain": [
       "<Figure size 432x288 with 1 Axes>"
      ]
     },
     "metadata": {},
     "output_type": "display_data"
    },
    {
     "data": {
      "image/png": "[encoded data removed]",
      "text/plain": [
       "<Figure size 432x288 with 1 Axes>"
      ]
     },
     "metadata": {},
     "output_type": "display_data"
    }
   ],
   "source": [
    "import skimage\n",
    "from skimage.morphology import square\n",
    "\n",
    "disk = square(56)\n",
    "disk[28, 28] = 0\n",
    "clip = np.clip(hot_map, 0.0, 1.0)\n",
    "dil = skimage.morphology.dilation(clip, disk)\n",
    "cc = hot_map >= dil\n",
    "plt.imshow(cc, cmap=\"gray\")\n",
    "plt.title(str(name))\n",
    "plt.show()\n",
    "\n",
    "new_img = img.cpu().numpy().reshape(224, 224)\n",
    "\n",
    "for row, col in np.transpose(np.nonzero(cc)):\n",
    "    cv.rectangle(new_img, (col - 14, row - 14), (col + 14, row + 14), 0.8)\n",
    "    cv.putText(new_img, str(int(max_class[row, col])), (col - 14, row + 14), cv.FONT_HERSHEY_PLAIN, 1, 1)\n",
    "\n",
    "plt.grid(False)\n",
    "plt.imshow(new_img, cmap='gray')  \n",
    "plt.title(\"Final result \" + str(name))\n",
    "plt.show()"
   ]
  },
  {
   "cell_type": "code",
   "execution_count": null,
   "metadata": {
    "colab": {},
    "colab_type": "code",
    "id": "bi6TbaCpd9Yg"
   },
   "outputs": [],
   "source": []
  },
  {
   "cell_type": "code",
   "execution_count": null,
   "metadata": {},
   "outputs": [],
   "source": []
  },
  {
   "cell_type": "code",
   "execution_count": null,
   "metadata": {},
   "outputs": [],
   "source": []
  },
  {
   "cell_type": "code",
   "execution_count": null,
   "metadata": {},
   "outputs": [],
   "source": []
  }
 ],
 "metadata": {
  "accelerator": "GPU",
  "colab": {
   "collapsed_sections": [],
   "name": "Aula 12 - MINIST MultScale - SSD Based.ipynb",
   "provenance": [],
   "toc_visible": true,
   "version": "0.3.2"
  },
  "kernelspec": {
   "display_name": "Python [conda env:pytorch_p36]",
   "language": "python",
   "name": "conda-env-pytorch_p36-py"
  },
  "language_info": {
   "codemirror_mode": {
    "name": "ipython",
    "version": 3
   },
   "file_extension": ".py",
   "mimetype": "text/x-python",
   "name": "python",
   "nbconvert_exporter": "python",
   "pygments_lexer": "ipython3",
   "version": "3.6.5"
  }
 },
 "nbformat": 4,
 "nbformat_minor": 1
}
