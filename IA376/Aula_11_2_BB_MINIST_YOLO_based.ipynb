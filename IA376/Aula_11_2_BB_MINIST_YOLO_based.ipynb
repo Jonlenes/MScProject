{
 "cells": [
  {
   "cell_type": "markdown",
   "metadata": {
    "colab_type": "text",
    "id": "1aXVR29SPZqw"
   },
   "source": [
    "# Classificação e BB para o MultMNIST\n",
    "* Dowloand dos pacotes e bibliotecas\n",
    "* Criação do dataset e dataloader para os dados de treinamento\n",
    "* Target cusumizado utilizando uma gausiana\n",
    "* Criação de uma rede totalmente convolucional para comportar qualquer tamanho de entrada\n",
    "* Treinamento com imagens e targets 28x28\n",
    "* Comparação entre funções de custo MSE e CrossEntropy\n",
    "* Predição de imagens de qualquer tamanho com multiplos digitos\n"
   ]
  },
  {
   "cell_type": "markdown",
   "metadata": {
    "colab_type": "text",
    "id": "RxzQmaWwJHjf"
   },
   "source": [
    "## 1 - Dowloands e configurações"
   ]
  },
  {
   "cell_type": "markdown",
   "metadata": {
    "colab_type": "text",
    "id": "fHRz-xbrQpSK"
   },
   "source": [
    "### 1.1 - Dowloands"
   ]
  },
  {
   "cell_type": "code",
   "execution_count": 1,
   "metadata": {
    "colab": {},
    "colab_type": "code",
    "id": "TouuI57iQulS"
   },
   "outputs": [],
   "source": [
    "!wget -nc -q https://raw.githubusercontent.com/robertoalotufo/files/master/lib/pytorch_trainer_v2.py -Plib/"
   ]
  },
  {
   "cell_type": "markdown",
   "metadata": {
    "colab_type": "text",
    "id": "Y_EzemfhPZq3"
   },
   "source": [
    "### 1.2 - Importando os módulos"
   ]
  },
  {
   "cell_type": "code",
   "execution_count": 2,
   "metadata": {
    "colab": {
     "base_uri": "https://localhost:8080/",
     "height": 411
    },
    "colab_type": "code",
    "id": "ro9yOJtrPZq5",
    "outputId": "d24c4946-f4be-428e-bb51-776a881b60d8"
   },
   "outputs": [
    {
     "name": "stdout",
     "output_type": "stream",
     "text": [
      "Tudo pronto!\n"
     ]
    }
   ],
   "source": [
    "GOOGLE_COLAB = False\n",
    "\n",
    "if GOOGLE_COLAB:\n",
    "    from os import path\n",
    "    from wheel.pep425tags import get_abbr_impl, get_impl_ver, get_abi_tag\n",
    "\n",
    "    platform = '{}{}-{}'.format(get_abbr_impl(), get_impl_ver(), get_abi_tag())\n",
    "    accelerator = 'cu80' if path.exists('/opt/bin/nvidia-smi') else 'cpu'\n",
    "\n",
    "    !pip3 install http://download.pytorch.org/whl/{accelerator}/torch-0.4.1-{platform}-linux_x86_64.whl torchvision\n",
    "\n",
    "    # PIL workaround \n",
    "    from PIL import Image\n",
    "    def register_extension(id, extension): Image.EXTENSION[extension.lower()] = id.upper()\n",
    "    Image.register_extension = register_extension\n",
    "    def register_extensions(id, extensions): \n",
    "        for extension in extensions: register_extension(id, extension)\n",
    "    Image.register_extensions = register_extensions\n",
    "\n",
    "import time\n",
    "import os\n",
    "import copy\n",
    "import pickle\n",
    "from math import sqrt, pow\n",
    "import traceback\n",
    "from random import random\n",
    "from collections import OrderedDict\n",
    "import multiprocessing as mp\n",
    "from PIL import Image\n",
    "import glob\n",
    "import matplotlib.pyplot as plt\n",
    "import numpy as np\n",
    "import cv2 as cv\n",
    "import torch\n",
    "import torch.nn as nn\n",
    "import torch.nn.functional as F\n",
    "import torch.optim as optim\n",
    "from torch.optim import lr_scheduler\n",
    "import torchvision\n",
    "from torchvision import datasets, models, transforms\n",
    "from torchvision.datasets import MNIST\n",
    "from torch.utils.data import DataLoader\n",
    "from torch.utils.data import Dataset\n",
    "from torchvision.utils import make_grid\n",
    "from torchvision import transforms\n",
    "\n",
    "from lib import pytorch_trainer_v2 as ptt\n",
    "        \n",
    "if torch.cuda.is_available():\n",
    "    device = torch.device(\"cuda:0\")\n",
    "    torch.set_default_tensor_type('torch.cuda.FloatTensor')\n",
    "else:\n",
    "    device = torch.device(\"cpu\")\n",
    "    torch.set_default_tensor_type('torch.FloatTensor')\n",
    "   \n",
    "  \n",
    "from sklearn.model_selection import train_test_split\n",
    "\n",
    "print(\"Tudo pronto!\")"
   ]
  },
  {
   "cell_type": "code",
   "execution_count": 3,
   "metadata": {},
   "outputs": [
    {
     "name": "stdout",
     "output_type": "stream",
     "text": [
      "              total        used        free      shared  buff/cache   available\n",
      "Mem:         245854        1073      243050           8        1729      243417\n",
      "Swap:             0           0           0\n",
      "Mon Nov 19 20:54:38 2018       \n",
      "+-----------------------------------------------------------------------------+\n",
      "| NVIDIA-SMI 396.44                 Driver Version: 396.44                    |\n",
      "|-------------------------------+----------------------+----------------------+\n",
      "| GPU  Name        Persistence-M| Bus-Id        Disp.A | Volatile Uncorr. ECC |\n",
      "| Fan  Temp  Perf  Pwr:Usage/Cap|         Memory-Usage | GPU-Util  Compute M. |\n",
      "|===============================+======================+======================|\n",
      "|   0  Tesla V100-SXM2...  On   | 00000000:00:1B.0 Off |                    0 |\n",
      "| N/A   49C    P0    43W / 300W |     11MiB / 16160MiB |      0%      Default |\n",
      "+-------------------------------+----------------------+----------------------+\n",
      "|   1  Tesla V100-SXM2...  On   | 00000000:00:1C.0 Off |                    0 |\n",
      "| N/A   40C    P0    38W / 300W |     11MiB / 16160MiB |      0%      Default |\n",
      "+-------------------------------+----------------------+----------------------+\n",
      "|   2  Tesla V100-SXM2...  On   | 00000000:00:1D.0 Off |                    0 |\n",
      "| N/A   40C    P0    43W / 300W |     11MiB / 16160MiB |      0%      Default |\n",
      "+-------------------------------+----------------------+----------------------+\n",
      "|   3  Tesla V100-SXM2...  On   | 00000000:00:1E.0 Off |                    0 |\n",
      "| N/A   42C    P0    41W / 300W |     11MiB / 16160MiB |      0%      Default |\n",
      "+-------------------------------+----------------------+----------------------+\n",
      "                                                                               \n",
      "+-----------------------------------------------------------------------------+\n",
      "| Processes:                                                       GPU Memory |\n",
      "|  GPU       PID   Type   Process name                             Usage      |\n",
      "|=============================================================================|\n",
      "|  No running processes found                                                 |\n",
      "+-----------------------------------------------------------------------------+\n"
     ]
    }
   ],
   "source": [
    "!free -m    \n",
    "!nvidia-smi"
   ]
  },
  {
   "cell_type": "markdown",
   "metadata": {
    "colab_type": "text",
    "id": "LH079UkARkG4"
   },
   "source": [
    "### 1.3 - Funções uteis"
   ]
  },
  {
   "cell_type": "code",
   "execution_count": 4,
   "metadata": {
    "colab": {},
    "colab_type": "code",
    "id": "SerpHurfRq3D"
   },
   "outputs": [],
   "source": [
    "class ImageUtil():\n",
    "  \n",
    "    @staticmethod\n",
    "    def open_image(fn):\n",
    "        \"\"\" Opens an image using OpenCV given the file path.\n",
    "\n",
    "        Arguments:\n",
    "            fn: the file path of the image\n",
    "\n",
    "        Returns:\n",
    "            The image in RGB format as numpy array of floats normalized to range between 0.0 - 1.0\n",
    "        \"\"\"\n",
    "        flags = cv2.IMREAD_UNCHANGED+cv2.IMREAD_ANYDEPTH+cv2.IMREAD_ANYCOLOR\n",
    "        if not os.path.exists(fn) and not str(fn).startswith(\"http\"):\n",
    "            raise OSError('No such file or directory: {}'.format(fn))\n",
    "        elif os.path.isdir(fn) and not str(fn).startswith(\"http\"):\n",
    "            raise OSError('Is a directory: {}'.format(fn))\n",
    "        else:\n",
    "            #res = np.array(Image.open(fn), dtype=np.float32)/255\n",
    "            #if len(res.shape)==2: res = np.repeat(res[...,None],3,2)\n",
    "            #return res\n",
    "            try:\n",
    "                if str(fn).startswith(\"http\"):\n",
    "                    req = urllib.urlopen(str(fn))\n",
    "                    image = np.asarray(bytearray(req.read()), dtype=\"uint8\")\n",
    "                    im = cv2.imdecode(image, flags).astype(np.float32)/255\n",
    "                else:\n",
    "                    im = cv2.imread(str(fn), flags).astype(np.float32)/255\n",
    "                if im is None: raise OSError(f'File not recognized by opencv: {fn}')\n",
    "                return cv2.cvtColor(im, cv2.COLOR_BGR2RGB)\n",
    "            except Exception as e:\n",
    "                raise OSError('Error handling image at: {}'.format(fn)) from e\n",
    "\n",
    "    @staticmethod\n",
    "    def show_img(im, figsize=None, ax=None):\n",
    "        if not ax: fig,ax = plt.subplots(figsize=figsize)\n",
    "        ax.imshow(im)\n",
    "        ax.get_xaxis().set_visible(False)\n",
    "        ax.get_yaxis().set_visible(False)\n",
    "        return ax\n",
    "\n",
    "      \n",
    "    @staticmethod\n",
    "    def draw_outline(o, lw, foreground='black'):\n",
    "        o.set_path_effects([patheffects.Stroke(\n",
    "            linewidth=lw, foreground=foreground), patheffects.Normal()])\n",
    "\n",
    "        \n",
    "    @staticmethod\n",
    "    def draw_rect(ax, b, edgecolor='white', foreground='black', lw=3):\n",
    "        patch = ax.add_patch(patches.Rectangle(b[:2], *b[-2:], fill=False, edgecolor=edgecolor, lw=lw))\n",
    "        ImageUtil.draw_outline(patch, lw, foreground)\n",
    "        return ax\n",
    "\n",
    "        \n",
    "    @staticmethod\n",
    "    def draw_text(ax, xy, txt, sz=14, color='white'):\n",
    "        text = ax.text(*xy, txt,\n",
    "            verticalalignment='top', color=color, fontsize=sz, weight='bold')\n",
    "        ImageUtil.draw_outline(text, 1)\n",
    "        \n",
    "        \n",
    "    def plot_image(img):\n",
    "        if len(img.shape) > 3:\n",
    "            img = img.squeeze(0)\n",
    "            \n",
    "        print(img.shape)\n",
    "        plt.imshow(img, cmap='gray')\n",
    "        plt.title(\"Imagem\")\n",
    "        plt.grid(False)\n",
    "        plt.show()\n",
    "\n",
    "    \n",
    "    def plot_target(target, reshape_to=(5, 1, 12, 12)):\n",
    "        target = torch.tensor(target).reshape(reshape_to) #.unsqueeze(1)\n",
    "        print(target.shape)\n",
    "        grid = make_grid(target, nrow=5, normalize=True, padding=1, pad_value = 0.5).numpy().transpose(1, 2, 0)\n",
    "\n",
    "        plt.imshow(grid)\n",
    "        plt.title(\"Target\")\n",
    "        plt.grid(False)\n",
    "        plt.show()"
   ]
  },
  {
   "cell_type": "markdown",
   "metadata": {
    "colab_type": "text",
    "id": "MPTaqCRtPZrF"
   },
   "source": [
    "## 2 - Criação do dataset e dataloader\n"
   ]
  },
  {
   "cell_type": "markdown",
   "metadata": {
    "colab_type": "text",
    "id": "ZIQ0JxyaVK2u"
   },
   "source": [
    "### 2.1 - Classe para gerar o dataset a parti do MINIST"
   ]
  },
  {
   "cell_type": "code",
   "execution_count": 82,
   "metadata": {
    "colab": {},
    "colab_type": "code",
    "id": "gQhKJvStK7BM"
   },
   "outputs": [],
   "source": [
    "class CreatorCustomizedMNIST:\n",
    "    def __init__(self, root='./CustomizedMNIST', image_size=(336, 336), min_max_bb_size=(28, 28), digits_count=12):\n",
    "        # Parametros\n",
    "        self.image_size = image_size  \n",
    "        self.min_max_bb_size = min_max_bb_size\n",
    "        self.anchor_space = np.array(image_size) - np.array([min_max_bb_size[1], min_max_bb_size[1]])\n",
    "        self.digits_count = digits_count\n",
    "        self.reduce_y_by = 28 #max_digits_size[0] // 2\n",
    "        \n",
    "        # Dataset e dataloader para o MNIST original\n",
    "        mnist = datasets.MNIST(root=root, train=True, transform=transforms.ToTensor(), download=True)\n",
    "        self.mnist_loader = DataLoader(mnist, batch_size=digits_count, shuffle=True, num_workers=0)\n",
    "        self.iter = iter(self.mnist_loader)\n",
    "        \n",
    "        # Path onde será criadas as imagens e os targets\n",
    "        self.x_path = os.path.join(root, \"x\")\n",
    "        self.y_path = os.path.join(root, \"y\")\n",
    "        \n",
    "        # distancia minima entre ancoras é diagonal do retângulo\n",
    "        self.minimum_distance = int(sqrt(pow(self.min_max_bb_size[1], 2) + pow(self.min_max_bb_size[1], 2)))  \n",
    "    \n",
    "    \n",
    "    def _get_random_points(self):\n",
    "        '''\n",
    "        Gera um conjuntos de pontos dentro de anchor_space, respeitando minimum_distance na diagonal.\n",
    "        ''' \n",
    "        npoints = self.digits_count\n",
    "        points = self.digits_count\n",
    "        anchor_points, i = [], 0\n",
    "        \n",
    "        while i < npoints:\n",
    "            p1 = (np.random.rand(2) * self.anchor_space).astype(np.int)\n",
    "            conflict = False\n",
    "            for p2 in anchor_points:\n",
    "                dist = np.linalg.norm(p1-p2)\n",
    "                if dist < self.minimum_distance:\n",
    "                    conflict = True\n",
    "                    break;\n",
    "            if not conflict:\n",
    "                anchor_points.append(p1) \n",
    "                i += 1\n",
    "                \n",
    "        return anchor_points\n",
    "            \n",
    "    \n",
    "    def make_sample(self):\n",
    "        try:\n",
    "            imgs, ys = next(self.iter)\n",
    "        except StopIteration:\n",
    "            self.iter = iter(self.mnist_loader)\n",
    "            imgs, ys = next(self.iter)\n",
    "            \n",
    "        anchor_points = self._get_random_points()\n",
    "        reduce_y_by = self.reduce_y_by\n",
    "        y_size = self.image_size[0] // reduce_y_by\n",
    "        \n",
    "        sample = np.zeros(self.image_size)\n",
    "        target = np.zeros((5, y_size, y_size))\n",
    "        \n",
    "        for point, img, y in zip(anchor_points, imgs, ys):\n",
    "            size = np.random.randint(self.min_max_bb_size[0], self.min_max_bb_size[1] + 1)\n",
    "            img = cv.resize(img.squeeze().numpy(), (size, size))\n",
    "            \n",
    "            c_point = point + size // 2\n",
    "            tx = c_point[1] % reduce_y_by\n",
    "            ty = c_point[0] % reduce_y_by\n",
    "            \n",
    "            sample[point[0]:point[0] + size, point[1]:point[1] + size] = img\n",
    "            target[:, c_point[0] // reduce_y_by, c_point[1] // reduce_y_by ] = (1, tx, ty, size, y.item())\n",
    "           \n",
    "        return sample, target\n",
    "    \n",
    "    \n",
    "    def create_image_from_target(self, target):\n",
    "        sample = np.zeros(self.image_size)\n",
    "        reduced_y_by = self.reduce_y_by\n",
    "        \n",
    "        for i in range(0, target.shape[1]):\n",
    "            for j in range(0, target.shape[2]):\n",
    "                if target[0][i][j] == 1:\n",
    "                    size = int(target[3][i][j])\n",
    "                    tx, ty = int(target[1][i][j]), int(target[2][i][j])\n",
    "                    point = (i * reduced_y_by - size // 2 + ty, j * reduced_y_by - size // 2 + tx)\n",
    "                    sample[point[0]:point[0] + size, point[1]:point[1] + size] = np.ones((size, size))\n",
    "                    \n",
    "        return sample\n",
    "    \n",
    "    \n",
    "    def _save_nsamples(self, n, saveformat=\"png\", offset=0, nworkers = int(mp.cpu_count())):\n",
    "        pid = offset/n + 1\n",
    "        np.random.seed(int.from_bytes(os.urandom(4), byteorder='little'))\n",
    "        torch.manual_seed(pid)\n",
    "        \n",
    "        for i in range(n):\n",
    "            # Gera uma amostrada custumizada do MNIST\n",
    "            x, y = self.make_sample()\n",
    "            x = (x * 255).astype(np.uint8)\n",
    "            \n",
    "            #Salva a imagem e target \n",
    "            cv.imwrite(os.path.join(self.x_path, str(offset + i) + '.' + str(saveformat)), x)\n",
    "            np.save(os.path.join(self.y_path, str(offset + i) + \".npy\"), y)\n",
    "            \n",
    "            #Mostra o progresso\n",
    "            if i > 0 and i % 50 == 0: print(\"Process {}: {}/{}\".format(int(pid), i, n), flush=True)\n",
    "        \n",
    "        print(\"Process {} done creating {} images.\".format(int(pid), n))\n",
    "    \n",
    "    \n",
    "    def create(self, n_sample, saveformat=\"png\", nworkers = int(mp.cpu_count())):\n",
    "        '''\n",
    "        Gera processos igual ao numero de threads disponíveis para gerar dataset\n",
    "        '''\n",
    "        n_sample -= len(glob.glob(\"CustomizedMNIST/x/*.png\"))\n",
    "        if n_sample <= 0:\n",
    "            print(\"Dataset already created\")\n",
    "            return\n",
    "        \n",
    "        if not os.path.exists(self.x_path) or not os.path.exists(self.x_path):\n",
    "            os.mkdir(self.x_path)\n",
    "            os.mkdir(self.y_path)\n",
    "        \n",
    "        n_sample = (n_sample//nworkers + 1) * nworkers\n",
    "        batch, ps = n_sample//nworkers + 1, []\n",
    "        print(\"Generating dataset with {} images using {} processes.\".format(n_sample, nworkers))\n",
    "        \n",
    "        for i in range(nworkers):\n",
    "            ps.append(mp.Process(target=self._save_nsamples, args=(batch, \"png\", i*batch, nworkers)))\n",
    "            \n",
    "        for p in ps: p.start()\n",
    "        for p in ps: p.join()\n",
    "            \n",
    "        print(\"All the images was created.\")\n",
    "    \n",
    "    "
   ]
  },
  {
   "cell_type": "markdown",
   "metadata": {},
   "source": [
    "#### Visualizados alguns exemplos"
   ]
  },
  {
   "cell_type": "code",
   "execution_count": 83,
   "metadata": {},
   "outputs": [
    {
     "name": "stdout",
     "output_type": "stream",
     "text": [
      "(336, 336)\n"
     ]
    },
    {
     "data": {
      "image/png": "[encoded data removed]",
      "text/plain": [
       "<Figure size 432x288 with 1 Axes>"
      ]
     },
     "metadata": {},
     "output_type": "display_data"
    },
    {
     "name": "stdout",
     "output_type": "stream",
     "text": [
      "(336, 336)\n"
     ]
    },
    {
     "data": {
      "image/png": "[encoded data removed]",
      "text/plain": [
       "<Figure size 432x288 with 1 Axes>"
      ]
     },
     "metadata": {},
     "output_type": "display_data"
    }
   ],
   "source": [
    "creatorMNIST = CreatorCustomizedMNIST(image_size=(336, 336), digits_count=6)\n",
    "x_img, y = creatorMNIST.make_sample()\n",
    "y_img = creatorMNIST.create_image_from_target(y)\n",
    "\n",
    "ImageUtil.plot_image(x_img)\n",
    "ImageUtil.plot_image(y_img)"
   ]
  },
  {
   "cell_type": "markdown",
   "metadata": {
    "colab_type": "text",
    "id": "vXSwCf97fmhh"
   },
   "source": [
    "### 2.2 - Criando e salvando o dataset"
   ]
  },
  {
   "cell_type": "code",
   "execution_count": 7,
   "metadata": {
    "colab": {
     "base_uri": "https://localhost:8080/",
     "height": 1733
    },
    "colab_type": "code",
    "id": "q5OHZhKHfm9o",
    "outputId": "d635597f-a122-4aa3-89eb-9c68afcc2452"
   },
   "outputs": [
    {
     "name": "stdout",
     "output_type": "stream",
     "text": [
      "CPU count: 32\n",
      "Dataset already created\n",
      "Images criadas:  3040\n"
     ]
    }
   ],
   "source": [
    "print(\"CPU count:\", mp.cpu_count())\n",
    "\n",
    "creatorMNIST.create(3000)\n",
    "print(\"Images criadas: \", len(glob.glob(\"CustomizedMNIST/x/*.png\"))) "
   ]
  },
  {
   "cell_type": "markdown",
   "metadata": {
    "colab_type": "text",
    "id": "rN7BXidBtDZs"
   },
   "source": [
    "### 2.3 - Classe dataset "
   ]
  },
  {
   "cell_type": "code",
   "execution_count": 8,
   "metadata": {
    "colab": {},
    "colab_type": "code",
    "id": "vfwpQrnFtDv1"
   },
   "outputs": [],
   "source": [
    "def load_dataset(root='./CustomizedMNIST'):\n",
    "    x_path = os.path.join(root, \"x\")\n",
    "    y_path = os.path.join(root, \"y\")\n",
    "\n",
    "    files_x = glob.glob(os.path.join(x_path, \"*.png\"))\n",
    "    files_y = glob.glob(os.path.join(y_path, \"*.npy\"))\n",
    "    \n",
    "    files_x.sort()\n",
    "    files_y.sort()\n",
    "    \n",
    "    x, y = [], []\n",
    "    for file_x, file_y in zip(files_x, files_y):\n",
    "        x.append(cv.imread(file_x, flags=0))\n",
    "        y.append(np.load(file_y))\n",
    "        \n",
    "    return train_test_split(x, y, test_size=.2)\n",
    "\n",
    "\n",
    "class ToTensor(object):\n",
    "    '''\n",
    "    Convert dataset output to Tensors.\n",
    "    '''\n",
    "    def __call__(self, npimage):\n",
    "        '''\n",
    "        input numpy image: H x W\n",
    "        output torch image: C X H X W\n",
    "        '''\n",
    "        return torch.unsqueeze(torch.from_numpy(npimage/255), 0).float()\n",
    "        \n",
    "        \n",
    "class CustomizedMNISTDataset(Dataset):\n",
    "    def __init__(self, x, y, transform=None):\n",
    "        self.x = x\n",
    "        self.y = y\n",
    "        self.transform = transform\n",
    "        \n",
    "        if self.transform is None:\n",
    "            self.transform = ToTensor()\n",
    "            \n",
    "    def __len__(self):\n",
    "        return len(self.x)\n",
    "    \n",
    "    \n",
    "    def __getitem__(self, i):\n",
    "        return self.transform(self.x[i]), self.y[i]"
   ]
  },
  {
   "cell_type": "markdown",
   "metadata": {
    "colab_type": "text",
    "id": "915zxlr3NRSJ"
   },
   "source": [
    "### 2.2 - DataLoaders"
   ]
  },
  {
   "cell_type": "code",
   "execution_count": 9,
   "metadata": {
    "colab": {
     "base_uri": "https://localhost:8080/",
     "height": 51
    },
    "colab_type": "code",
    "id": "mG6cHwPTTCP8",
    "outputId": "4cbf21fd-2d32-4273-dd3a-d9efc6b63d33"
   },
   "outputs": [
    {
     "name": "stdout",
     "output_type": "stream",
     "text": [
      "Len(Train): 2432\n",
      "Len(Val): 608\n"
     ]
    }
   ],
   "source": [
    "batch_size = 32\n",
    "\n",
    "X_train, X_val, y_train, y_val = load_dataset()\n",
    "dataset_train = CustomizedMNISTDataset(X_train, y_train)\n",
    "dataset_val = CustomizedMNISTDataset(X_val, y_val)\n",
    "\n",
    "print(\"Len(Train): {}\\nLen(Val): {}\".format(len(dataset_train), len(dataset_val)))\n",
    "\n",
    "dataloader_train = DataLoader(dataset_train, batch_size=batch_size)\n",
    "dataloader_val = DataLoader(dataset_val, batch_size=batch_size)"
   ]
  },
  {
   "cell_type": "markdown",
   "metadata": {
    "colab_type": "text",
    "id": "ltmYlIlxj10_"
   },
   "source": [
    "### 2.3 - Verificando o resultado pelo dataloader"
   ]
  },
  {
   "cell_type": "code",
   "execution_count": 10,
   "metadata": {
    "colab": {
     "base_uri": "https://localhost:8080/",
     "height": 598
    },
    "colab_type": "code",
    "id": "Dt7WJtr3j86w",
    "outputId": "a4d40573-60c6-4fc4-de01-47108dd11103"
   },
   "outputs": [
    {
     "name": "stdout",
     "output_type": "stream",
     "text": [
      "Shapes:  torch.Size([32, 1, 336, 336]) torch.Size([32, 5, 12, 12])\n",
      "torch.Size([336, 336])\n"
     ]
    },
    {
     "data": {
      "image/png": "[encoded data removed]",
      "text/plain": [
       "<Figure size 432x288 with 1 Axes>"
      ]
     },
     "metadata": {},
     "output_type": "display_data"
    },
    {
     "name": "stdout",
     "output_type": "stream",
     "text": [
      "(336, 336)\n"
     ]
    },
    {
     "data": {
      "image/png": "[encoded data removed]",
      "text/plain": [
       "<Figure size 432x288 with 1 Axes>"
      ]
     },
     "metadata": {},
     "output_type": "display_data"
    }
   ],
   "source": [
    "x, y = next(iter(dataloader_train))\n",
    "print(\"Shapes: \", x.shape, y.shape)\n",
    "\n",
    "x_img = x[0]\n",
    "y_img = creatorMNIST.create_image_from_target(y[0])\n",
    "\n",
    "ImageUtil.plot_image(x_img.reshape(336, 336))\n",
    "ImageUtil.plot_image(y_img.reshape(336, 336))"
   ]
  },
  {
   "cell_type": "markdown",
   "metadata": {
    "colab_type": "text",
    "id": "xee8KwTUPZro"
   },
   "source": [
    "## 3 - Modelo Totalmente Convolucional"
   ]
  },
  {
   "cell_type": "code",
   "execution_count": 11,
   "metadata": {
    "colab": {},
    "colab_type": "code",
    "id": "If2egZr96Zfx"
   },
   "outputs": [],
   "source": [
    "class MyModelFullyConv(nn.Module):\n",
    "    def __init__(self):\n",
    "        super(MyModelFullyConv, self).__init__()\n",
    "        \n",
    "        # Camadas convolucionais\n",
    "        self.conv_layer = nn.Sequential(OrderedDict([\n",
    "            \n",
    "            ('conv1', nn.Conv2d(in_channels=1, out_channels=16, kernel_size=3, padding=1)),   \n",
    "            ('relu1', nn.ReLU()),\n",
    "            \n",
    "            ('max_pool0', nn.MaxPool2d(2)),\n",
    "            \n",
    "            ('conv2', nn.Conv2d(in_channels=16, out_channels=32, kernel_size=3, padding=1)),   \n",
    "            ('relu2', nn.ReLU()),\n",
    "            \n",
    "            ('max_pool1', nn.MaxPool2d(2)),\n",
    "            \n",
    "            ('conv3', nn.Conv2d(in_channels=32, out_channels=64, kernel_size=3, padding=1)),\n",
    "            ('relu3', nn.ReLU()),\n",
    "            \n",
    "            ('max_pool2', nn.MaxPool2d(2)),\n",
    "            \n",
    "            ('conv4', nn.Conv2d(in_channels=64, out_channels=32, kernel_size=3, padding=2)),\n",
    "            ('relu4', nn.ReLU()),\n",
    "            \n",
    "            ('max_pool3', nn.MaxPool2d(2)),\n",
    "            \n",
    "            # ('conv_t1', nn.ConvTranspose2d(in_channels=128, out_channels=128, kernel_size=2, stride=2)),\n",
    "            # ('relu_t1', nn.ReLU()),\n",
    "            \n",
    "            # ('conv5', nn.Conv2d(in_channels=128, out_channels=32, kernel_size=3, padding=1)),\n",
    "            # ('relu5', nn.ReLU()),\n",
    "            \n",
    "            # ('conv_t2', nn.ConvTranspose2d(in_channels=64, out_channels=64, kernel_size=2, stride=2)),\n",
    "            # ('relu_t2', nn.ReLU()),\n",
    "            \n",
    "            # ('conv6', nn.Conv2d(in_channels=64, out_channels=32, kernel_size=5, padding=2)),   \n",
    "            # ('relu6', nn.ReLU()),\n",
    "            \n",
    "            ('conv5', nn.Conv2d(in_channels=32, out_channels=16, kernel_size=3, padding=2)),\n",
    "            ('relu5', nn.ReLU()),\n",
    "            \n",
    "            ('max_pool4', nn.MaxPool2d(2)),\n",
    "            \n",
    "            \n",
    "            ('conv7', nn.Conv2d(in_channels=16, out_channels=5, kernel_size=3, padding=1)),\n",
    "            ('relu6', nn.ReLU())\n",
    "            \n",
    "            # ('max_pool3', nn.MaxPool2d(2)),\n",
    "            \n",
    "            # ('softmax', nn.Softmax2d())\n",
    "            \n",
    "        ]))\n",
    "        \n",
    "    def forward(self, x):\n",
    "        x = self.conv_layer(x)        \n",
    "        return x"
   ]
  },
  {
   "cell_type": "markdown",
   "metadata": {
    "colab_type": "text",
    "id": "YXrXmomnPZry"
   },
   "source": [
    "### 3.1 - Observando a saida de cada camada"
   ]
  },
  {
   "cell_type": "code",
   "execution_count": 12,
   "metadata": {
    "colab": {
     "base_uri": "https://localhost:8080/",
     "height": 255
    },
    "colab_type": "code",
    "id": "lT1vq4T9PZrz",
    "outputId": "c12bcf65-2f99-4b07-9809-5e596f93e487"
   },
   "outputs": [
    {
     "name": "stdout",
     "output_type": "stream",
     "text": [
      "input     : torch.Size([1, 1, 336, 336])\n",
      "conv1     : torch.Size([1, 16, 336, 336])\n",
      "relu1     : torch.Size([1, 16, 336, 336])\n",
      "max_pool0 : torch.Size([1, 16, 168, 168])\n",
      "conv2     : torch.Size([1, 32, 168, 168])\n",
      "relu2     : torch.Size([1, 32, 168, 168])\n",
      "max_pool1 : torch.Size([1, 32, 84, 84])\n",
      "conv3     : torch.Size([1, 64, 84, 84])\n",
      "relu3     : torch.Size([1, 64, 84, 84])\n",
      "max_pool2 : torch.Size([1, 64, 42, 42])\n",
      "conv4     : torch.Size([1, 32, 44, 44])\n",
      "relu4     : torch.Size([1, 32, 44, 44])\n",
      "max_pool3 : torch.Size([1, 32, 22, 22])\n",
      "conv5     : torch.Size([1, 16, 24, 24])\n",
      "relu5     : torch.Size([1, 16, 24, 24])\n",
      "max_pool4 : torch.Size([1, 16, 12, 12])\n",
      "conv7     : torch.Size([1, 5, 12, 12])\n"
     ]
    }
   ],
   "source": [
    "model_conv = MyModelFullyConv().cuda()\n",
    "x = torch.zeros(1, 1, 336, 336).cuda()\n",
    "\n",
    "print('{:10}: {}'.format('input', str(x.size())))\n",
    "\n",
    "for name, layer in model_conv.conv_layer.named_children():\n",
    "    x = layer(x)\n",
    "    print('{:10}: {}'.format(name, str(x.size())))\n",
    "    "
   ]
  },
  {
   "cell_type": "markdown",
   "metadata": {
    "colab_type": "text",
    "id": "FhOs1BDqcj5-"
   },
   "source": [
    "### 3.2 - Fazendo a predição de um batch"
   ]
  },
  {
   "cell_type": "code",
   "execution_count": 13,
   "metadata": {
    "colab": {
     "base_uri": "https://localhost:8080/",
     "height": 51
    },
    "colab_type": "code",
    "id": "wAr_9YzScd4z",
    "outputId": "1ec6db9c-1085-4772-d0ac-45ff5e27ea74"
   },
   "outputs": [
    {
     "name": "stdout",
     "output_type": "stream",
     "text": [
      "Train shape: torch.Size([32, 1, 336, 336])\n",
      "Pred shape: torch.Size([32, 5, 12, 12])\n"
     ]
    }
   ],
   "source": [
    "model_conv.eval()\n",
    "\n",
    "x, y = next(iter(dataloader_train))\n",
    "print(\"Train shape:\", x.shape)\n",
    "\n",
    "img_pred = model_conv(x.to(device))\n",
    "print(\"Pred shape:\", img_pred.shape)"
   ]
  },
  {
   "cell_type": "markdown",
   "metadata": {
    "colab_type": "text",
    "id": "PgLJ4SjYFBQS"
   },
   "source": [
    "### 3.3 - Função custumizada de Loss"
   ]
  },
  {
   "cell_type": "code",
   "execution_count": 63,
   "metadata": {
    "colab": {},
    "colab_type": "code",
    "id": "QMWMl1LsF2OC"
   },
   "outputs": [],
   "source": [
    "class MyLoss(nn.modules.loss._Loss):\n",
    "    def __init__(self, size_average=None, reduce=None, reduction='elementwise_mean', weights=(1, 1, 1)):\n",
    "        super(MyLoss, self).__init__(size_average, reduce, reduction)\n",
    "        self.presence_loss = nn.BCEWithLogitsLoss()\n",
    "        self.box_loss = nn.SmoothL1Loss(reduction='none') \n",
    "        self.cls_loss = nn.SmoothL1Loss(reduction='none')\n",
    "        self.weights = weights\n",
    "    \n",
    "    def forward(self,pred, target):\n",
    "        # (1, tx, ty, size, y)\n",
    "        target = target.type(\"torch.cuda.FloatTensor\")\n",
    "        \n",
    "        box_pred = pred[:, 1:4, :, :]\n",
    "        box_target = target[:, 1:4, :, :]\n",
    "        \n",
    "        presence_pred = pred[:, 0, :, :].unsqueeze(1)\n",
    "        presence_target = target[:, 0, :, :].unsqueeze(1)\n",
    "        \n",
    "        cls_pred = pred[:, 4, :, :].unsqueeze(1)\n",
    "        cls_target = target[:, 4, :, :].unsqueeze(1)\n",
    "        \n",
    "        # Loss de presença\n",
    "        presence_loss = self.presence_loss(presence_pred, presence_target)\n",
    "        \n",
    "        # Loss BB\n",
    "        box_loss = self.box_loss(box_pred, box_target) * presence_target\n",
    "        \n",
    "        # Loss Classe\n",
    "        # cls_pred = nn.Softmax2d()(cls_pred)\n",
    "        # print(cls_pred.shape)\n",
    "        # print(cls_target.shape)\n",
    "        cls_loss = self.cls_loss(cls_pred, cls_target) * presence_target\n",
    "        \n",
    "        # print(\"Presenca: \", presence_loss)\n",
    "        # print(\"BBOX: \", box_loss.sum())\n",
    "        # print(\"CLASS: \", cls_loss.mean())\n",
    "        \n",
    "        loss = self.weights[1]*presence_loss + self.weights[0]*(box_loss.mean()) +  + self.weights[2]*(cls_loss.mean())\n",
    "        \n",
    "        return loss\n",
    "    "
   ]
  },
  {
   "cell_type": "markdown",
   "metadata": {
    "colab_type": "text",
    "id": "wwVttGL5-siE"
   },
   "source": [
    "**Testando a função de custo**"
   ]
  },
  {
   "cell_type": "code",
   "execution_count": 64,
   "metadata": {
    "colab": {
     "base_uri": "https://localhost:8080/",
     "height": 68
    },
    "colab_type": "code",
    "id": "bFUOP4NaW8H2",
    "outputId": "454bf639-ea8e-4a68-a04a-341105584724"
   },
   "outputs": [
    {
     "name": "stdout",
     "output_type": "stream",
     "text": [
      "tensor(1.7907, grad_fn=<ThAddBackward>)\n"
     ]
    }
   ],
   "source": [
    "model_conv.eval()\n",
    "\n",
    "x, y = next(iter(dataloader_train))\n",
    "\n",
    "y_pred = model_conv(x.to(device))\n",
    "\n",
    "# print(y_pred.shape)\n",
    "# print(y.shape)\n",
    "\n",
    "loss = MyLoss()(y_pred, y.cuda())\n",
    "\n",
    "print(loss)"
   ]
  },
  {
   "cell_type": "code",
   "execution_count": 65,
   "metadata": {
    "colab": {},
    "colab_type": "code",
    "id": "hQwlc8iuFlsa"
   },
   "outputs": [],
   "source": [
    "optm = torch.optim.Adam(params=model_conv.parameters())\n",
    "schd = torch.optim.lr_scheduler.StepLR(optm, step_size=7, gamma=0.1)\n",
    "cb_chkpt = ptt.ModelCheckpoint('./saved_model', reset=True, verbose=1)\n",
    "\n",
    "trainer = ptt.DeepNetTrainer(model         = model_conv,\n",
    "                             criterion     = MyLoss(),\n",
    "                             optimizer     = optm,\n",
    "                             lr_scheduler  = schd,\n",
    "                             callbacks     = [cb_chkpt,\n",
    "                                              ptt.PrintCallback()],\n",
    "                             devname       = device)\n"
   ]
  },
  {
   "cell_type": "code",
   "execution_count": 66,
   "metadata": {
    "colab": {
     "base_uri": "https://localhost:8080/",
     "height": 663
    },
    "colab_type": "code",
    "id": "bYkZNsJqFmyX",
    "outputId": "d9c5fb5b-2dcd-4c65-c33d-154f9664b5cf"
   },
   "outputs": [
    {
     "name": "stdout",
     "output_type": "stream",
     "text": [
      "Start training for 100 epochs\n",
      "  1:   4.4s   T: 0.02628 *   V: 0.01447 *  \n",
      "  2:   4.3s   T: 0.01319 *   V: 0.01217 *  \n",
      "  3:   4.3s   T: 0.01177 *   V: 0.01117 *  \n",
      "  4:   4.3s   T: 0.01093 *   V: 0.01055 *  \n",
      "  5:   4.3s   T: 0.01037 *   V: 0.01003 *  \n",
      "  6:   4.3s   T: 0.00987 *   V: 0.00961 *  \n",
      "  7:   4.3s   T: 0.00941 *   V: 0.00916 *  \n",
      "  8:   4.3s   T: 0.00899 *   V: 0.00901 *  \n",
      "  9:   4.3s   T: 0.00892 *   V: 0.00896 *  \n",
      " 10:   4.3s   T: 0.00887 *   V: 0.00891 *  \n",
      " 11:   4.3s   T: 0.00882 *   V: 0.00886 *  \n",
      " 12:   4.3s   T: 0.00876 *   V: 0.00881 *  \n",
      " 13:   4.3s   T: 0.00871 *   V: 0.00876 *  \n",
      " 14:   4.3s   T: 0.00865 *   V: 0.00870 *  \n",
      " 15:   4.3s   T: 0.00860 *   V: 0.00869 *  \n",
      " 16:   4.3s   T: 0.00860 *   V: 0.00868 *  \n",
      " 17:   4.3s   T: 0.00859 *   V: 0.00868 *  \n",
      " 18:   4.3s   T: 0.00858 *   V: 0.00867 *  \n",
      " 19:   4.3s   T: 0.00858 *   V: 0.00866 *  \n",
      " 20:   4.3s   T: 0.00857 *   V: 0.00866 *  \n",
      " 21:   4.3s   T: 0.00857 *   V: 0.00865 *  \n",
      " 22:   4.3s   T: 0.00856 *   V: 0.00865 *  \n",
      " 23:   4.3s   T: 0.00856 *   V: 0.00865 *  \n",
      " 24:   4.3s   T: 0.00856 *   V: 0.00865 *  \n",
      " 25:   4.3s   T: 0.00856 *   V: 0.00865 *  \n",
      " 26:   4.3s   T: 0.00856 *   V: 0.00865 *  \n",
      " 27:   4.3s   T: 0.00856 *   V: 0.00865 *  \n",
      " 28:   4.3s   T: 0.00856 *   V: 0.00865 *  \n",
      " 29:   4.3s   T: 0.00856 *   V: 0.00865 *  \n",
      " 30:   4.3s   T: 0.00856 *   V: 0.00865 *  \n",
      " 31:   4.3s   T: 0.00856 *   V: 0.00865 *  \n",
      " 32:   4.3s   T: 0.00856 *   V: 0.00865 *  \n",
      " 33:   4.3s   T: 0.00856 *   V: 0.00865 *  \n",
      " 34:   4.3s   T: 0.00856 *   V: 0.00865 *  \n",
      " 35:   4.3s   T: 0.00856 *   V: 0.00865 *  \n",
      " 36:   4.3s   T: 0.00855 *   V: 0.00865 *  \n",
      " 37:   4.3s   T: 0.00855 *   V: 0.00865 *  \n",
      " 38:   4.3s   T: 0.00855 *   V: 0.00865 *  \n",
      " 39:   4.3s   T: 0.00855 *   V: 0.00865 *  \n",
      " 40:   4.3s   T: 0.00855 *   V: 0.00865 *  \n",
      " 41:   4.3s   T: 0.00855 *   V: 0.00865 *  \n",
      " 42:   4.3s   T: 0.00855 *   V: 0.00865 *  \n",
      " 43:   4.3s   T: 0.00855 *   V: 0.00865    \n",
      " 44:   4.3s   T: 0.00855     V: 0.00865 *  \n",
      " 45:   4.3s   T: 0.00855 *   V: 0.00865    \n",
      " 46:   4.3s   T: 0.00855 *   V: 0.00865 *  \n",
      " 47:   4.3s   T: 0.00855 *   V: 0.00865 *  \n",
      " 48:   4.3s   T: 0.00855 *   V: 0.00865 *  \n",
      " 49:   4.3s   T: 0.00855 *   V: 0.00865 *  \n",
      " 50:   4.3s   T: 0.00855     V: 0.00865 *  \n",
      " 51:   4.3s   T: 0.00855 *   V: 0.00865    \n",
      " 52:   4.3s   T: 0.00855     V: 0.00865    \n",
      " 53:   4.3s   T: 0.00855 *   V: 0.00865    \n",
      " 54:   4.3s   T: 0.00855     V: 0.00865    \n",
      " 55:   4.3s   T: 0.00855     V: 0.00865    \n",
      " 56:   4.3s   T: 0.00855 *   V: 0.00865    \n",
      " 57:   4.3s   T: 0.00855     V: 0.00865    \n",
      " 58:   4.3s   T: 0.00855     V: 0.00865    \n",
      " 59:   4.3s   T: 0.00855     V: 0.00865    \n",
      " 60:   4.3s   T: 0.00855     V: 0.00865    \n",
      " 61:   4.3s   T: 0.00855     V: 0.00865    \n",
      " 62:   4.3s   T: 0.00855     V: 0.00865    \n",
      " 63:   4.3s   T: 0.00855     V: 0.00865    \n",
      " 64:   4.3s   T: 0.00855     V: 0.00865    \n",
      " 65:   4.3s   T: 0.00855     V: 0.00865    \n",
      " 66:   4.3s   T: 0.00855     V: 0.00865    \n",
      " 67:   4.3s   T: 0.00855     V: 0.00865    \n",
      " 68:   4.3s   T: 0.00855     V: 0.00865    \n",
      " 69:   4.3s   T: 0.00855     V: 0.00865    \n",
      " 70:   4.3s   T: 0.00855     V: 0.00865    \n",
      " 71:   4.3s   T: 0.00855     V: 0.00865    \n",
      " 72:   4.3s   T: 0.00855     V: 0.00865    \n",
      " 73:   4.3s   T: 0.00855     V: 0.00865    \n",
      " 74:   4.3s   T: 0.00855     V: 0.00865    \n",
      " 75:   4.3s   T: 0.00855     V: 0.00865    \n",
      " 76:   4.3s   T: 0.00855     V: 0.00865    \n",
      " 77:   4.3s   T: 0.00855     V: 0.00865    \n",
      " 78:   4.3s   T: 0.00855     V: 0.00865    \n",
      " 79:   4.3s   T: 0.00855     V: 0.00865    \n",
      " 80:   4.3s   T: 0.00855     V: 0.00865    \n",
      " 81:   4.3s   T: 0.00855     V: 0.00865    \n",
      " 82:   4.3s   T: 0.00855     V: 0.00865    \n",
      " 83:   4.3s   T: 0.00855     V: 0.00865    \n",
      " 84:   4.3s   T: 0.00855     V: 0.00865    \n",
      " 85:   4.3s   T: 0.00855     V: 0.00865    \n",
      " 86:   4.3s   T: 0.00855     V: 0.00865    \n",
      " 87:   4.3s   T: 0.00855     V: 0.00865    \n",
      " 88:   4.3s   T: 0.00855     V: 0.00865    \n",
      " 89:   4.3s   T: 0.00855     V: 0.00865    \n",
      " 90:   4.3s   T: 0.00855     V: 0.00865    \n",
      " 91:   4.3s   T: 0.00855     V: 0.00865    \n",
      " 92:   4.3s   T: 0.00855     V: 0.00865    \n",
      " 93:   4.3s   T: 0.00855     V: 0.00865    \n",
      " 94:   4.3s   T: 0.00855     V: 0.00865    \n",
      " 95:   4.3s   T: 0.00855     V: 0.00865    \n",
      " 96:   4.3s   T: 0.00855     V: 0.00865    \n",
      " 97:   4.3s   T: 0.00855     V: 0.00865    \n",
      " 98:   4.3s   T: 0.00855     V: 0.00865    \n",
      " 99:   4.3s   T: 0.00855     V: 0.00865    \n",
      "100:   4.3s   T: 0.00855     V: 0.00865    \n",
      "Best model was saved at epoch 50 with loss 0.00865: ./saved_model\n",
      "Stop training at epoch: 100/100\n"
     ]
    }
   ],
   "source": [
    "if True:\n",
    "    n_epochs = 100\n",
    "    trainer.fit_loader(n_epochs, dataloader_train, dataloader_val)\n",
    "else:\n",
    "    # !wget -nc -q https://www.dropbox.com/s/1xzp51l36spoeta/last_model.model\n",
    "    trainer.load_state('saved_model')\n",
    "    trainer.fit_loader(1, dataloader_train, dataloader_val)"
   ]
  },
  {
   "cell_type": "markdown",
   "metadata": {
    "colab_type": "text",
    "id": "aDtnRwTDOMMw"
   },
   "source": [
    "### 3.4 - Teste do treinamento"
   ]
  },
  {
   "cell_type": "code",
   "execution_count": 74,
   "metadata": {
    "colab": {
     "base_uri": "https://localhost:8080/",
     "height": 23249
    },
    "colab_type": "code",
    "id": "BHxlUdy6rbnI",
    "outputId": "63c2ba0e-e9de-44a4-9311-853efe2d209b"
   },
   "outputs": [
    {
     "name": "stdout",
     "output_type": "stream",
     "text": [
      "tensor([[ -5.4178,  -6.0107,  -6.3687,  -6.2989,  -6.2990,  -8.4101,  -5.7442,\n",
      "          -5.3221,  -7.8813,  -7.7430,  -4.6285,  -7.3339],\n",
      "        [ -6.0443,  -7.5022,  -7.9458,  -8.0513,  -7.9491, -11.8289,  -1.9528,\n",
      "           3.2145,  -2.7319,  -8.3294,  -5.2957, -10.9715],\n",
      "        [ -9.3676,  -3.5597,  -1.8636,  -4.2858,  -7.0512, -11.1411,  -6.1493,\n",
      "          -3.6143,  -5.9061,  -5.9798,  -4.0826,  -9.5204],\n",
      "        [-10.7195,  -0.4507,   0.1579,  -3.9561,  -9.2196, -12.1098,  -8.5899,\n",
      "          -9.1135, -10.5275,  -7.6625,  -5.8017, -11.2326],\n",
      "        [ -8.0114,  -3.9510,  -4.4980,  -8.0101,  -8.9674, -14.0416,  -3.1235,\n",
      "          -1.3587,  -5.8417,  -8.1972,  -5.8017, -11.2326],\n",
      "        [ -6.8106,  -7.7716,  -8.5483, -11.7122,  -7.6288, -10.7137,  -3.6368,\n",
      "          -0.1566,  -6.6122,  -8.1561,  -5.8017, -11.2326],\n",
      "        [ -6.2699,  -7.4261,  -7.3830, -14.5572,  -2.8634,  -1.3388,  -5.8748,\n",
      "          -8.6294,  -9.2798,  -7.3917,  -5.8017, -11.2326],\n",
      "        [ -2.0907,  -0.4710,  -4.3048, -14.3365,  -4.9464,  -1.7972,  -8.1039,\n",
      "          -9.5515,  -8.1292,  -7.2892,  -5.8017, -11.2326],\n",
      "        [ -2.0352,  -1.3321,  -7.5256,  -9.9601,  -7.1975, -10.3422, -10.1678,\n",
      "          -8.2963,  -8.1419,  -7.3619,  -5.8017, -11.2326],\n",
      "        [ -5.8036,  -8.9410, -12.5572,  -2.0337,  -1.1362,  -7.1602,  -8.6682,\n",
      "          -7.8584,  -7.8932,  -6.9420,  -5.3476, -10.8056],\n",
      "        [ -5.1616,  -5.9995,  -9.5319,  -0.2158,   0.0744,  -6.5413,  -5.9938,\n",
      "          -5.3553,  -5.3553,  -4.2411,  -3.4651,  -8.6057],\n",
      "        [ -7.1835, -10.0374, -12.6586, -12.8953, -13.2435, -12.4385, -10.9634,\n",
      "         -10.8727, -10.8727, -10.4041,  -8.5692,  -9.6967]],\n",
      "       device='cpu', grad_fn=<SelectBackward>)\n",
      "Imagem:\n",
      "torch.Size([1, 336, 336]) torch.Size([336, 336])\n",
      "torch.Size([336, 336])\n"
     ]
    },
    {
     "data": {
      "image/png": "[encoded data removed]",
      "text/plain": [
       "<Figure size 432x288 with 1 Axes>"
      ]
     },
     "metadata": {},
     "output_type": "display_data"
    },
    {
     "name": "stdout",
     "output_type": "stream",
     "text": [
      "(336, 336)\n"
     ]
    },
    {
     "data": {
      "image/png": "[encoded data removed]",
      "text/plain": [
       "<Figure size 432x288 with 1 Axes>"
      ]
     },
     "metadata": {},
     "output_type": "display_data"
    }
   ],
   "source": [
    "model_conv.eval()\n",
    "\n",
    "x, y = next(iter(dataloader_val))\n",
    "pred = model_conv(x.cuda()).cpu()\n",
    "\n",
    "(k, c, w, h) = x.shape\n",
    "\n",
    "print(pred[0, 0, :, :])\n",
    "\n",
    "for i in range(k):\n",
    "    print(\"Imagem:\")\n",
    "    print(x[i].shape, x[i].squeeze(0).shape)\n",
    "    ImageUtil.plot_image(x[i].reshape(336, 336))  \n",
    "    \n",
    "    y_img = creatorMNIST.create_image_from_target(y[i])\n",
    "    ImageUtil.plot_image(y_img)\n",
    "    # print(\"Target Pred.:\")\n",
    "    # ImageUtil.plot_target(pred[i])\n",
    "    break;"
   ]
  },
  {
   "cell_type": "markdown",
   "metadata": {
    "colab_type": "text",
    "id": "IbBZI8RoPZsT"
   },
   "source": [
    "## 4 - Aplicando o classificador em Mult digitos"
   ]
  },
  {
   "cell_type": "markdown",
   "metadata": {
    "colab_type": "text",
    "id": "-MSIw1TGW_by"
   },
   "source": [
    "**Gerando amostras**"
   ]
  },
  {
   "cell_type": "code",
   "execution_count": null,
   "metadata": {
    "colab": {},
    "colab_type": "code",
    "id": "GoHL4MNHVaBw"
   },
   "outputs": [],
   "source": [
    "m_mnist = CreatorCustomizedMNIST(image_size=(200,200), mnist_batch=10)\n",
    "img = torch.tensor(m_mnist.make_sample()[0]).float()\n",
    "plt.grid(False)\n",
    "plt.imshow(img, cmap=\"gray\")\n",
    "plt.colorbar()"
   ]
  },
  {
   "cell_type": "markdown",
   "metadata": {
    "colab_type": "text",
    "id": "LNjHp5WKXT7p"
   },
   "source": [
    "### 4.2 - Output da predição"
   ]
  },
  {
   "cell_type": "code",
   "execution_count": null,
   "metadata": {
    "colab": {},
    "colab_type": "code",
    "id": "PGouthzsXO3B"
   },
   "outputs": [],
   "source": [
    "#model_conv.eval()\n",
    "\n",
    "img = torch.tensor(img).float().reshape(1, 1, 200, 200).cuda()\n",
    "pred = model_conv(img)\n",
    "\n",
    "print(pred[0].shape)\n",
    "\n",
    "max_pred, max_class = pred[0][:-1].max(dim=0)\n",
    "\n",
    "print(\"Imagem:\")\n",
    "print(img.shape)\n",
    "ImageUtil.plot_image(img.reshape(200, 200))\n",
    "print(\"Target Pred.:\")\n",
    "ImageUtil.plot_target(pred.reshape(4, 10, 10).cpu().detach())"
   ]
  },
  {
   "cell_type": "markdown",
   "metadata": {
    "colab_type": "text",
    "id": "xUbTjjPic9GY"
   },
   "source": [
    "### 4.3 - Mapa de calor"
   ]
  },
  {
   "cell_type": "code",
   "execution_count": null,
   "metadata": {
    "colab": {},
    "colab_type": "code",
    "id": "M9vdltTePZsU"
   },
   "outputs": [],
   "source": [
    "hot_map = max_pred.data.cpu().numpy()\n",
    "plt.imshow(hot_map.reshape(10, 10), plt.cm.hot)\n",
    "plt.colorbar()\n",
    "plt.show()"
   ]
  },
  {
   "cell_type": "markdown",
   "metadata": {
    "colab_type": "text",
    "id": "yY1UzJC3dr-y"
   },
   "source": [
    "### 4.4 - Utilizando morfologia para encontrar os BB"
   ]
  },
  {
   "cell_type": "code",
   "execution_count": null,
   "metadata": {
    "colab": {},
    "colab_type": "code",
    "id": "gnR2Lp6LPZsj"
   },
   "outputs": [],
   "source": [
    "import skimage\n",
    "from skimage.morphology import square\n",
    "\n",
    "disk = square(28)\n",
    "disk[20, 20] = 0\n",
    "clip = np.clip(hot_map, 0.6, 1.0)\n",
    "dil = skimage.morphology.dilation(clip, disk)\n",
    "cc = hot_map >= dil\n",
    "plt.imshow(cc, cmap=\"gray\")\n",
    "plt.title(str(name))\n",
    "plt.show()\n",
    "\n",
    "new_img = img.cpu().numpy().reshape(200, 200)\n",
    "\n",
    "for row, col in np.transpose(np.nonzero(cc)):\n",
    "    cv.rectangle(new_img, (col - 14, row - 14), (col + 14, row + 14), 0.8)\n",
    "    cv.putText(new_img, str(int(max_class[row, col])), (col - 14, row + 14), cv.FONT_HERSHEY_PLAIN, 1, 1)\n",
    "\n",
    "plt.grid(False)\n",
    "plt.imshow(new_img, cmap='gray')  \n",
    "plt.title(\"Final result \" + str(name))\n",
    "plt.show()"
   ]
  },
  {
   "cell_type": "code",
   "execution_count": null,
   "metadata": {
    "colab": {},
    "colab_type": "code",
    "id": "bi6TbaCpd9Yg"
   },
   "outputs": [],
   "source": []
  }
 ],
 "metadata": {
  "accelerator": "GPU",
  "colab": {
   "collapsed_sections": [],
   "name": "Aula 11_2  - BB MINIST - YOLO based.ipynb",
   "provenance": [],
   "toc_visible": true,
   "version": "0.3.2"
  },
  "kernelspec": {
   "display_name": "Python [conda env:pytorch_p36]",
   "language": "python",
   "name": "conda-env-pytorch_p36-py"
  },
  "language_info": {
   "codemirror_mode": {
    "name": "ipython",
    "version": 3
   },
   "file_extension": ".py",
   "mimetype": "text/x-python",
   "name": "python",
   "nbconvert_exporter": "python",
   "pygments_lexer": "ipython3",
   "version": "3.6.5"
  }
 },
 "nbformat": 4,
 "nbformat_minor": 1
}
