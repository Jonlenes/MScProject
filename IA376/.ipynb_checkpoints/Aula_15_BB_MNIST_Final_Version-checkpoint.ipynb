{
 "cells": [
  {
   "cell_type": "markdown",
   "metadata": {
    "colab_type": "text",
    "id": "1aXVR29SPZqw"
   },
   "source": [
    "# Classificação e BB para o MultMNIST\n"
   ]
  },
  {
   "cell_type": "markdown",
   "metadata": {
    "colab_type": "text",
    "id": "RxzQmaWwJHjf"
   },
   "source": [
    "## 1 - Dowloands e configurações"
   ]
  },
  {
   "cell_type": "markdown",
   "metadata": {
    "colab_type": "text",
    "id": "fHRz-xbrQpSK"
   },
   "source": [
    "### 1.1 - Dowloands"
   ]
  },
  {
   "cell_type": "code",
   "execution_count": 1,
   "metadata": {
    "colab": {},
    "colab_type": "code",
    "id": "TouuI57iQulS"
   },
   "outputs": [],
   "source": [
    "# Baixando lib pytorch_trainer_v2 do professor Lotufo\n",
    "!wget -nc -q https://raw.githubusercontent.com/robertoalotufo/files/master/lib/pytorch_trainer_v2.py -Plib/\n",
    "# !pip install opencv-python"
   ]
  },
  {
   "cell_type": "markdown",
   "metadata": {
    "colab_type": "text",
    "id": "Y_EzemfhPZq3"
   },
   "source": [
    "### 1.2 - Importando os módulos"
   ]
  },
  {
   "cell_type": "code",
   "execution_count": 2,
   "metadata": {
    "colab": {
     "base_uri": "https://localhost:8080/",
     "height": 145
    },
    "colab_type": "code",
    "id": "ro9yOJtrPZq5",
    "outputId": "a0a02e8b-407e-4f9c-a7b5-c6c7a60c55ef"
   },
   "outputs": [
    {
     "name": "stdout",
     "output_type": "stream",
     "text": [
      "Tudo pronto!\n"
     ]
    }
   ],
   "source": [
    "GOOGLE_COLAB = False\n",
    "\n",
    "if GOOGLE_COLAB:\n",
    "    from os import path\n",
    "    from wheel.pep425tags import get_abbr_impl, get_impl_ver, get_abi_tag\n",
    "\n",
    "    platform = '{}{}-{}'.format(get_abbr_impl(), get_impl_ver(), get_abi_tag())\n",
    "    accelerator = 'cu80' if path.exists('/opt/bin/nvidia-smi') else 'cpu'\n",
    "\n",
    "    !pip3 install http://download.pytorch.org/whl/{accelerator}/torch-0.4.1-{platform}-linux_x86_64.whl torchvision\n",
    "\n",
    "    # PIL workaround \n",
    "    from PIL import Image\n",
    "    def register_extension(id, extension): Image.EXTENSION[extension.lower()] = id.upper()\n",
    "    Image.register_extension = register_extension\n",
    "    def register_extensions(id, extensions): \n",
    "        for extension in extensions: register_extension(id, extension)\n",
    "    Image.register_extensions = register_extensions\n",
    "    \n",
    "import time\n",
    "import os\n",
    "import copy\n",
    "import pickle\n",
    "from math import sqrt, pow\n",
    "import traceback\n",
    "from random import random\n",
    "from collections import OrderedDict\n",
    "import multiprocessing as mp\n",
    "from PIL import Image\n",
    "import glob\n",
    "import matplotlib.pyplot as plt\n",
    "from matplotlib import patches, patheffects\n",
    "import numpy as np\n",
    "from numpy import array as a\n",
    "import cv2\n",
    "import torch\n",
    "from torch import cuda\n",
    "import torch.nn as nn\n",
    "import torch.nn.functional as F\n",
    "import torch.optim as optim\n",
    "from torch.optim import lr_scheduler\n",
    "import torchvision\n",
    "from torchvision import datasets, models, transforms\n",
    "from torchvision.datasets import MNIST\n",
    "from torch.utils.data import DataLoader\n",
    "from torch.utils.data import Dataset\n",
    "from torchvision.utils import make_grid\n",
    "from torchvision import transforms\n",
    "\n",
    "from lib import pytorch_trainer_v2 as ptt\n",
    "        \n",
    "if torch.cuda.is_available():\n",
    "    device = torch.device(\"cuda:0\")\n",
    "    torch.set_default_tensor_type('torch.cuda.FloatTensor')\n",
    "else:\n",
    "    device = torch.device(\"cpu\")\n",
    "    torch.set_default_tensor_type('torch.FloatTensor')\n",
    "   \n",
    "  \n",
    "from sklearn.model_selection import train_test_split\n",
    "\n",
    "print(\"Tudo pronto!\")"
   ]
  },
  {
   "cell_type": "markdown",
   "metadata": {
    "colab_type": "text",
    "id": "6Xjq-vqCdueA"
   },
   "source": [
    "### 1.3 - Checando memoria e Gpu"
   ]
  },
  {
   "cell_type": "code",
   "execution_count": 3,
   "metadata": {
    "colab": {
     "base_uri": "https://localhost:8080/",
     "height": 377
    },
    "colab_type": "code",
    "id": "EON885gQouqv",
    "outputId": "7f99f209-9b32-466b-8c66-a0658fd17b6a"
   },
   "outputs": [
    {
     "name": "stdout",
     "output_type": "stream",
     "text": [
      "              total        used        free      shared  buff/cache   available\n",
      "Mem:         245854        1078      241737           8        3038      243337\n",
      "Swap:             0           0           0\n",
      "Tue Dec 11 06:48:07 2018       \n",
      "+-----------------------------------------------------------------------------+\n",
      "| NVIDIA-SMI 396.44                 Driver Version: 396.44                    |\n",
      "|-------------------------------+----------------------+----------------------+\n",
      "| GPU  Name        Persistence-M| Bus-Id        Disp.A | Volatile Uncorr. ECC |\n",
      "| Fan  Temp  Perf  Pwr:Usage/Cap|         Memory-Usage | GPU-Util  Compute M. |\n",
      "|===============================+======================+======================|\n",
      "|   0  Tesla V100-SXM2...  On   | 00000000:00:1B.0 Off |                    0 |\n",
      "| N/A   53C    P0    46W / 300W |     11MiB / 16160MiB |      0%      Default |\n",
      "+-------------------------------+----------------------+----------------------+\n",
      "|   1  Tesla V100-SXM2...  On   | 00000000:00:1C.0 Off |                    0 |\n",
      "| N/A   47C    P0    40W / 300W |     11MiB / 16160MiB |      0%      Default |\n",
      "+-------------------------------+----------------------+----------------------+\n",
      "|   2  Tesla V100-SXM2...  On   | 00000000:00:1D.0 Off |                    0 |\n",
      "| N/A   46C    P0    45W / 300W |     11MiB / 16160MiB |      0%      Default |\n",
      "+-------------------------------+----------------------+----------------------+\n",
      "|   3  Tesla V100-SXM2...  On   | 00000000:00:1E.0 Off |                    0 |\n",
      "| N/A   51C    P0    46W / 300W |     11MiB / 16160MiB |      0%      Default |\n",
      "+-------------------------------+----------------------+----------------------+\n",
      "                                                                               \n",
      "+-----------------------------------------------------------------------------+\n",
      "| Processes:                                                       GPU Memory |\n",
      "|  GPU       PID   Type   Process name                             Usage      |\n",
      "|=============================================================================|\n",
      "|  No running processes found                                                 |\n",
      "+-----------------------------------------------------------------------------+\n"
     ]
    }
   ],
   "source": [
    "!free -m    \n",
    "!nvidia-smi"
   ]
  },
  {
   "cell_type": "markdown",
   "metadata": {
    "colab_type": "text",
    "id": "jA9PfF-aL8Lf"
   },
   "source": [
    "### 1.4 - Configurações de execuçao"
   ]
  },
  {
   "cell_type": "code",
   "execution_count": 4,
   "metadata": {
    "colab": {},
    "colab_type": "code",
    "id": "EaBqzD4j7VuK"
   },
   "outputs": [],
   "source": [
    "global_retrain = True                      # Recria o dataset e treina do zero\n",
    "global_recreate_dataset = True             # Força a recriação de todo o dataset\n",
    "global_image_size=(160, 160)               # Tamanho da imagem que será gerada \n",
    "global_grid_sizes = [5, 10]                # Tamanho dos grids no target\n",
    "global_num_scales = len(global_grid_sizes) # Quatidade de esclass\n",
    "global_num_numbers = 4                     # Qtde de numeros por imagem\n",
    "global_max_num_len = 6                     # Qtde maxima de digitos por numero\n",
    "global_mult_gpu = cuda.device_count() > 1  # Executar em multi GPUs\n",
    "global_bb_size = (14, 28)                  # Tamanho do BB (min size, max size) \n",
    "global_number_samples = 10000              # Numero de amostras que serão geradas\n",
    "global_number_epochs = 50                  # Numero de epochs no treinamento\n",
    "global_root_path = \"./CustomizedMNIST/\"    # Raiz onde os dados serão salvos"
   ]
  },
  {
   "cell_type": "markdown",
   "metadata": {
    "colab_type": "text",
    "id": "LH079UkARkG4"
   },
   "source": [
    "### 1.5 - Funções uteis"
   ]
  },
  {
   "cell_type": "code",
   "execution_count": 5,
   "metadata": {
    "colab": {},
    "colab_type": "code",
    "id": "SerpHurfRq3D"
   },
   "outputs": [],
   "source": [
    "class ImageUtil():\n",
    "    \"\"\" Classe com diversos métodos uteis para manipulação de imagens \"\"\"\n",
    "\n",
    "    @staticmethod\n",
    "    def open_image(fn, gray=True):\n",
    "        \"\"\" Opens an image using OpenCV given the file path.\n",
    "\n",
    "        Arguments:\n",
    "            fn: the file path of the image\n",
    "\n",
    "        Returns:\n",
    "            The image in RGB format as numpy array of floats normalized to range between 0.0 - 1.0\n",
    "        \"\"\"\n",
    "        \n",
    "        flags = 0\n",
    "        if not gray:\n",
    "            flags = cv2.IMREAD_UNCHANGED + cv2.IMREAD_ANYDEPTH + cv2.IMREAD_ANYCOLOR\n",
    "        \n",
    "        if not os.path.exists(fn) and not str(fn).startswith(\"http\"):\n",
    "            raise OSError('No such file or directory: {}'.format(fn))\n",
    "        elif os.path.isdir(fn) and not str(fn).startswith(\"http\"):\n",
    "            raise OSError('Is a directory: {}'.format(fn))\n",
    "        else:\n",
    "            try:\n",
    "                if str(fn).startswith(\"http\"):\n",
    "                    req = urllib.urlopen(str(fn))\n",
    "                    image = np.asarray(bytearray(req.read()), dtype=\"uint8\")\n",
    "                    im = cv2.imdecode(image, flags).astype(np.float32) #/ 255\n",
    "                else:\n",
    "                    im = cv2.imread(str(fn), flags).astype(np.float32) #/ 255\n",
    "                if im is None: raise OSError(f'File not recognized by opencv: {fn}')\n",
    "                if not gray:\n",
    "                    return cv2.cvtColor(im, cv2.COLOR_BGR2RGB)\n",
    "                return im\n",
    "            except Exception as e:\n",
    "                raise OSError('Error handling image at: {}'.format(fn)) from e\n",
    "\n",
    "                \n",
    "    @staticmethod\n",
    "    def show_img(im, figsize=None, ax=None):\n",
    "        \"\"\" Mostra uma imagem e retorna o ax \"\"\"\n",
    "        if not ax: fig, ax = plt.subplots(figsize=figsize)\n",
    "        ax.imshow(im, cmap='gray')\n",
    "        plt.grid(False)\n",
    "        return ax\n",
    "\n",
    "      \n",
    "    @staticmethod\n",
    "    def _draw_outline(o, lw, foreground='black'):\n",
    "        \"\"\" Desenha outline \"\"\"\n",
    "        o.set_path_effects([patheffects.Stroke(\n",
    "            linewidth=lw, foreground=foreground), patheffects.Normal()])\n",
    "\n",
    "        \n",
    "    @staticmethod\n",
    "    def draw_rect(ax, b, edgecolor='white', foreground='black', lw=3):\n",
    "        \"\"\" Desenha o retangulo com coord em b \"\"\"\n",
    "        patch = ax.add_patch(patches.Rectangle((b[0], b[1]), b[2], b[3], fill=False, edgecolor=edgecolor, lw=lw))\n",
    "        return ax\n",
    "\n",
    "    \n",
    "    @staticmethod        \n",
    "    def draw_text(ax, xy, txt, sz=16, color='green', d=0):\n",
    "        \"\"\" Desenha um texto \"\"\"\n",
    "        text = ax.text(*(np.array(xy) - d), txt, verticalalignment='top', color=color, fontsize=sz, weight='bold')\n",
    "        \n",
    "    \n",
    "    @staticmethod\n",
    "    def plot_image(img, title=\"Imagem\"):\n",
    "        \"\"\"Plota uma image sem retornar o ax\"\"\"\n",
    "        if len(img.shape) > 3: img = img.squeeze(0)\n",
    "        plt.imshow(img, cmap='gray')\n",
    "        plt.title(title)\n",
    "        plt.grid(False)\n",
    "        plt.show()\n",
    "\n",
    "    \n",
    "    @staticmethod\n",
    "    def show_grid(array, title=\"Target\", reshape_to=(5, 1, 12, 12)):\n",
    "        \"\"\" Plot um grid com varias images: util para plotagem de targets\"\"\"\n",
    "        array = torch.tensor(array).reshape(reshape_to) #.unsqueeze(1)\n",
    "        grid = make_grid(array, nrow=5, normalize=True, padding=1, pad_value = 0.5).numpy().transpose(1, 2, 0)\n",
    "\n",
    "        plt.imshow(grid)\n",
    "        plt.title(title)\n",
    "        plt.grid(False)\n",
    "        plt.show()"
   ]
  },
  {
   "cell_type": "markdown",
   "metadata": {
    "colab_type": "text",
    "id": "MPTaqCRtPZrF"
   },
   "source": [
    "## 2 - Criação do dataset e dataloader\n"
   ]
  },
  {
   "cell_type": "markdown",
   "metadata": {
    "colab_type": "text",
    "id": "ZIQ0JxyaVK2u"
   },
   "source": [
    "### 2.1 - Gerador do Cusomized MINIST"
   ]
  },
  {
   "cell_type": "code",
   "execution_count": 6,
   "metadata": {
    "colab": {},
    "colab_type": "code",
    "id": "gQhKJvStK7BM"
   },
   "outputs": [],
   "source": [
    "class CreatorCustomizedMNIST:\n",
    "    \"\"\" \n",
    "    Manipulador de amostras custumizada do MNIST \n",
    "    \"\"\"\n",
    "    \n",
    "    def __init__(self, root=global_root_path, image_size=global_image_size, \n",
    "                 min_max_bb_size=global_bb_size, num_numbers=global_num_numbers, \n",
    "                 max_num_len=global_max_num_len):\n",
    "        \n",
    "        # Parametros\n",
    "        self.image_size = image_size  \n",
    "        self.min_max_bb_size = min_max_bb_size\n",
    "        self.anchor_space = np.array(image_size) - np.array([min_max_bb_size[1], 0])\n",
    "        self.num_numbers = num_numbers\n",
    "        self.max_num_len = max_num_len\n",
    "        \n",
    "        # Dataset e dataloader para o MNIST original\n",
    "        mnist = datasets.MNIST(root=root, train=True, transform=transforms.ToTensor(), download=True)\n",
    "        self.mnist_loader = DataLoader(mnist, batch_size=1, shuffle=True, num_workers=0)\n",
    "        self.iter = iter(self.mnist_loader)\n",
    "        \n",
    "        # Path onde será criadas as imagens e os targets\n",
    "        self.x_path = os.path.join(root, \"x\")\n",
    "        self.y_path = os.path.join(root, \"y\")\n",
    "        \n",
    "    \n",
    "    def _bb_intersection(bb1, bb2):\n",
    "        \"\"\"\n",
    "        Verifica se os dois retangulos tem interceção\n",
    "        \"\"\"\n",
    "        maxX = max(bb1[0][0], bb2[0][0])\n",
    "        minX = min(bb1[1][0], bb2[1][0])\n",
    "        maxY = max(bb1[0][1], bb2[0][1])\n",
    "        minY = min(bb1[1][1], bb2[1][1])\n",
    "\n",
    "        if maxX >= minX or minY <= maxY:\n",
    "            return False\n",
    "\n",
    "        return True\n",
    "\n",
    "    \n",
    "    def _get_random_points(self):\n",
    "        \"\"\" \n",
    "        Gera um conjunto de pontos que naõ se cruzam dentro de um espaco \n",
    "        (respeitando min_dist na diagonal) \n",
    "        \"\"\" \n",
    "        npoints = self.num_numbers\n",
    "        anchor_points, i = [], 0\n",
    "        num_len = np.random.randint(1, self.max_num_len + 1)\n",
    "        \n",
    "        while i < npoints:\n",
    "            \n",
    "            # Sorteia um ponto aleatoriamente\n",
    "            p = (np.random.rand(2) * self.anchor_space).astype(np.int)\n",
    "            size = np.random.randint(self.min_max_bb_size[0], self.min_max_bb_size[1] + 1)\n",
    "            \n",
    "            \n",
    "            #---------Verifica se teve conflito------------#\n",
    "            conflict = p[1] + size * num_len >= self.anchor_space[1]\n",
    "            \n",
    "            if not conflict:\n",
    "                for p_i, size_i, num_len_i in anchor_points:\n",
    "                    \n",
    "                    if CreatorCustomizedMNIST._bb_intersection([a(p)-2, a([p[0] + size, p[1] + num_len * size])+2], \n",
    "                                    [a(p_i)-2, a([p_i[0] + size_i, p_i[1] + num_len_i * size_i])+2]):\n",
    "                        \n",
    "                        conflict = True\n",
    "                        break;\n",
    "                        \n",
    "                if not conflict:\n",
    "                    anchor_points.append((p, size, num_len)) \n",
    "                    i += 1\n",
    "                    num_len = np.random.randint(1, self.max_num_len + 1)\n",
    "            #----------------------------------------------#\n",
    "        \n",
    "        # Retorna o conjunto de pontos\n",
    "        return anchor_points\n",
    "            \n",
    "    \n",
    "    \n",
    "    def _get_MNIST_sample(self):\n",
    "        # Pega uma imagem do MNIST\n",
    "        try:\n",
    "            sample = next(self.iter)\n",
    "        except StopIteration:\n",
    "            self.iter = iter(self.mnist_loader)\n",
    "            sample = next(self.iter)\n",
    "            \n",
    "        return sample\n",
    "     \n",
    "        \n",
    "    def make_sample(self):\n",
    "        \"\"\" \n",
    "        Gera uma amostra custumizada do MNIST - Conforme configurações de inicialização \n",
    "        \"\"\"\n",
    "        \n",
    "        # Pontos sorteados, reduação (da imagem para o target) e size do target\n",
    "        anchor_points = self._get_random_points()\n",
    "        \n",
    "        # Inicializa a nova imagem e target\n",
    "        sample = np.zeros(self.image_size)\n",
    "        target_list = [np.zeros((5, item, item)) for item in global_grid_sizes]\n",
    "        \n",
    "        # Inserindo os digitos na imagem de saida \n",
    "        for point, size, num_len in anchor_points:\n",
    "            \n",
    "            # Calcular o BB medio para definir qual escala pertence\n",
    "            index = int(size > ((self.min_max_bb_size[0] + self.min_max_bb_size[1]) / 2))\n",
    "            reduce_y_by = self.image_size[0] // global_grid_sizes[index]\n",
    "            \n",
    "            # Calcula tx e ty\n",
    "            c_point = point + (size // 2, (size * num_len) // 2)\n",
    "            tx = (c_point[1] % reduce_y_by) / (1.0 * reduce_y_by)\n",
    "            ty = (c_point[0] % reduce_y_by) / (1.0 * reduce_y_by) \n",
    "            \n",
    "            # Preenche o sample e o target\n",
    "            for i in range(num_len):\n",
    "                img, _ = self._get_MNIST_sample()\n",
    "                img = cv2.resize(img.squeeze().numpy(), (size, size))\n",
    "                pos_x, pos_y = point[0], point[1] + (i * size)\n",
    "                sample[pos_x:pos_x + size, pos_y:pos_y + size] = img\n",
    "            \n",
    "            pos_x, pos_y = c_point[0] // reduce_y_by, c_point[1] // reduce_y_by\n",
    "            size_norm = (size * 1.0) / self.min_max_bb_size[1] # Divide pelo maior BB possivel\n",
    "            num_len_norm = (num_len * 1.0) / self.max_num_len # Divide pela quatidade max de digitos \n",
    "            \n",
    "            target_list[index][:, pos_x, pos_y] = (1, tx, ty, size_norm, num_len_norm) \n",
    "            \n",
    "        return sample, target_list\n",
    "    "
   ]
  },
  {
   "cell_type": "markdown",
   "metadata": {
    "colab_type": "text",
    "id": "_0cFNIMmhJxV"
   },
   "source": [
    "### 2.2 - Utilitarios para o novo dataset"
   ]
  },
  {
   "cell_type": "code",
   "execution_count": 7,
   "metadata": {
    "colab": {},
    "colab_type": "code",
    "id": "3NDVOBbWE0gc"
   },
   "outputs": [],
   "source": [
    "class CustmizedMNISTUtil:\n",
    "    \n",
    "    @staticmethod\n",
    "    def predict_to_target_shape(predicts):\n",
    "        \"\"\" \n",
    "        Pega os indexs maximos nas valores que são classificação. \n",
    "        \"\"\"\n",
    "\n",
    "        # Tensor de retorno\n",
    "        target_list = []\n",
    "        \n",
    "        # Percorre todas as escalas\n",
    "        for i in range(len(predicts)):\n",
    "            target = np.zeros((6, global_grid_sizes[i], global_grid_sizes[i]))\n",
    "            \n",
    "            # Presença\n",
    "            max_values, idx_max_presence = torch.max(predicts[i][0:2, :, :].cpu().detach(), 0)\n",
    "            \n",
    "            # Preenche o tensor de retorno\n",
    "            target[0, :, :] = idx_max_presence\n",
    "            target[1:5, :, :] = predicts[i][2:, :, :].cpu().detach().numpy()\n",
    "            target[5, :, :] = max_values\n",
    "            \n",
    "            target_list.append(target)\n",
    "\n",
    "        return target_list\n",
    "\n",
    "    \n",
    "    @staticmethod\n",
    "    def non_max_suppression(bbs):\n",
    "        \"\"\"\n",
    "        Realiza o Non Max Suppression\n",
    "        \"\"\"\n",
    "        \n",
    "        bbox_final, new_bb, iou, amin = [], True, 0, 0.1\n",
    "        for i in range(len(bbs)):\n",
    "            new_bb, iou = True, 0\n",
    "            for j in range(len(bbox_final)):\n",
    "                iou = 0.\n",
    "                x1 = max(bbs[i][0][0], bbox_final[j][0][0])\n",
    "                y1 = max(bbs[i][0][1], bbox_final[j][0][1])\n",
    "                x2 = min(bbs[i][0][0] + bbs[i][0][2], bbox_final[j][0][0] + bbox_final[j][0][2])\n",
    "                y2 = min(bbs[i][0][1] + bbs[i][0][3], bbox_final[j][0][1] + bbox_final[j][0][3])\n",
    "    \n",
    "                if x1>x2 or y1>y2:\n",
    "                    iou = 0\n",
    "                else:\n",
    "                    iou = (x2-x1) * (y2-y1)\n",
    "                    iou = iou/(bbs[i][0][2] * bbs[i][0][2] + bbox_final[j][0][2] * bbox_final[j][0][2] - iou)\n",
    "                if iou >= amin:\n",
    "                    new_bb = False\n",
    "                    if bbs[i][1] > bbox_final[j][1]: #seleciona bbox com maior probabilidade de classe\n",
    "                        bbox_final[j] = bbs[i]\n",
    "            if new_bb == True:\n",
    "                bbox_final.append(bbs[i])\n",
    "\n",
    "        return bbox_final\n",
    "    \n",
    "    \n",
    "    @staticmethod\n",
    "    def construct_bb(target_all, predict=False, image_size=global_image_size, \n",
    "                     max_num_len=global_max_num_len, min_max_bb_size=global_bb_size):\n",
    "        \"\"\" \n",
    "        Controi os BB a parti dos dados do target \n",
    "        \"\"\"\n",
    "        \n",
    "        bbs, count, probability = [],  0, 1\n",
    "       \n",
    "        for target in target_all: #Escalas\n",
    "            for i in range(target.shape[1]):  # Grid\n",
    "                for j in range(target.shape[2]): # Grid\n",
    "                    if target[0][i][j] == 1: # Presença\n",
    "                        reduced_y_by = image_size[0] // global_grid_sizes[count]\n",
    "                        height = target[3][i][j] * min_max_bb_size[1] # Largua do BB\n",
    "                        width = target[4][i][j] * max_num_len * height # Altura do BB\n",
    "                        tx, ty = target[1][i][j] * reduced_y_by, target[2][i][j] * reduced_y_by # Deslocamento\n",
    "                        point = (i * reduced_y_by - height // 2 + ty, j * reduced_y_by - width // 2 + tx) # Posição\n",
    "                        if predict: probability = target[5][i][j]\n",
    "                        bbs.append(([point[1], point[0], width, height], probability)) # BB\n",
    "            count += 1\n",
    "\n",
    "        return bbs\n",
    "\n",
    "    \n",
    "    @staticmethod\n",
    "    def show_sample(img, target, predict=None, image_size=global_image_size):\n",
    "        \"\"\" \n",
    "        Mostrar uma imagem com seus bb targets e predicts e suas classes\n",
    "        \"\"\"\n",
    "        \n",
    "        # Plota a imagem e retorna o ax\n",
    "        ax = ImageUtil.show_img(img.reshape(image_size))\n",
    "\n",
    "        # Controi todos os BB do target\n",
    "        bbs_target = CustmizedMNISTUtil.construct_bb(target)        \n",
    "        # Plot os BB e suas respectivas classes se ainda não estiver sido plotada\n",
    "        for bb_target in bbs_target:\n",
    "            ImageUtil.draw_rect(ax, bb_target[0], 'green', lw=3)\n",
    "                \n",
    "                \n",
    "        # Verifica se a predição foi passada\n",
    "        if predict is not None:\n",
    "            # Aplica o softmax na parte que é classificação\n",
    "            predict = CustmizedMNISTUtil.predict_to_target_shape(predict)\n",
    "            \n",
    "            # Controi todos os BB do predict\n",
    "            bbs_predict = CustmizedMNISTUtil.construct_bb(predict)\n",
    "            \n",
    "            # Aplica o Non Max Supression\n",
    "            bbs_predict = CustmizedMNISTUtil.non_max_suppression(bbs_predict)\n",
    "            \n",
    "            # Plot os BB e suas respectivas classes\n",
    "            for bb_predict in bbs_predict:\n",
    "                ImageUtil.draw_rect(ax, bb_predict[0], 'red', lw=2)"
   ]
  },
  {
   "cell_type": "markdown",
   "metadata": {
    "colab_type": "text",
    "id": "j_F6fmCaourm"
   },
   "source": [
    "### 2.3 - Visualizados alguns exemplos"
   ]
  },
  {
   "cell_type": "code",
   "execution_count": 8,
   "metadata": {
    "colab": {
     "base_uri": "https://localhost:8080/",
     "height": 208
    },
    "colab_type": "code",
    "id": "2cerUgoyourp",
    "outputId": "68d4c2f0-dc2f-4743-9db8-fcf398e5867d"
   },
   "outputs": [
    {
     "data": {
      "image/png": "[encoded data removed]",
      "text/plain": [
       "<Figure size 432x288 with 1 Axes>"
      ]
     },
     "metadata": {},
     "output_type": "display_data"
    }
   ],
   "source": [
    "creatorMNIST = CreatorCustomizedMNIST()\n",
    "x, y = creatorMNIST.make_sample()\n",
    "CustmizedMNISTUtil.show_sample(x, y)"
   ]
  },
  {
   "cell_type": "markdown",
   "metadata": {
    "colab_type": "text",
    "id": "rN7BXidBtDZs"
   },
   "source": [
    "### 2.5 - Classe dataset "
   ]
  },
  {
   "cell_type": "markdown",
   "metadata": {
    "colab_type": "text",
    "id": "X7ILedR6lpO4"
   },
   "source": [
    "Transformações"
   ]
  },
  {
   "cell_type": "code",
   "execution_count": 9,
   "metadata": {
    "colab": {},
    "colab_type": "code",
    "id": "fxfGgmaHlOUe"
   },
   "outputs": [],
   "source": [
    "class ToTensor(object):\n",
    "    \"\"\" Converte sampels para tensor do Torch \"\"\"\n",
    "    \n",
    "    def __call__(self, npimage):\n",
    "        # Normaliza entre [0-1] e converte oara torch.Tensor \n",
    "        return torch.unsqueeze(torch.from_numpy(npimage), 0).float()\n"
   ]
  },
  {
   "cell_type": "markdown",
   "metadata": {
    "colab_type": "text",
    "id": "eiykBWZdlrun"
   },
   "source": [
    "Classe do novo dataset"
   ]
  },
  {
   "cell_type": "code",
   "execution_count": 10,
   "metadata": {
    "colab": {},
    "colab_type": "code",
    "id": "vfwpQrnFtDv1"
   },
   "outputs": [],
   "source": [
    "class CustomizedMNISTDataset(Dataset):\n",
    "    \"\"\" Classe dataset com os samples custumizados \"\"\"\n",
    "    \n",
    "    def __init__(self, number_samples, transform=None):\n",
    "        self.number_samples = int(number_samples)\n",
    "        self.transform = transform\n",
    "        \n",
    "        # Transformações\n",
    "        if self.transform is None:\n",
    "            self.transform = ToTensor()\n",
    "        \n",
    "        creatorMNIST = CreatorCustomizedMNIST()\n",
    "        self.list_samples = []\n",
    "        for i in range(self.number_samples):\n",
    "            x, y = creatorMNIST.make_sample()\n",
    "            self.list_samples.append((x, y))\n",
    "    \n",
    "    def __len__(self):\n",
    "        return self.number_samples\n",
    "    \n",
    "    def __getitem__(self, i):\n",
    "        return self.transform(self.list_samples[i][0]), self.list_samples[i][1]\n",
    "        "
   ]
  },
  {
   "cell_type": "markdown",
   "metadata": {
    "colab_type": "text",
    "id": "915zxlr3NRSJ"
   },
   "source": [
    "### 2.6 - DataLoaders"
   ]
  },
  {
   "cell_type": "code",
   "execution_count": 11,
   "metadata": {
    "colab": {},
    "colab_type": "code",
    "id": "mG6cHwPTTCP8"
   },
   "outputs": [
    {
     "name": "stdout",
     "output_type": "stream",
     "text": [
      "Len(Train): 8000\n",
      "Len(Val): 2000\n"
     ]
    }
   ],
   "source": [
    "# Tamanho do batch\n",
    "batch_size = 32\n",
    "\n",
    "# Carrega os dados e cria os datasets\n",
    "dataset_train = CustomizedMNISTDataset(number_samples=0.8*global_number_samples)\n",
    "dataset_val = CustomizedMNISTDataset(number_samples=0.2*global_number_samples)\n",
    "\n",
    "print(\"Len(Train): {}\\nLen(Val): {}\".format(len(dataset_train), len(dataset_val)))\n",
    "\n",
    "# Cria os dataloaders\n",
    "dataloader_train = DataLoader(dataset_train, batch_size=batch_size)\n",
    "dataloader_val = DataLoader(dataset_val, batch_size=batch_size)"
   ]
  },
  {
   "cell_type": "markdown",
   "metadata": {
    "colab_type": "text",
    "id": "ltmYlIlxj10_"
   },
   "source": [
    "### 2.7 - Verificando o resultado pelo dataloader"
   ]
  },
  {
   "cell_type": "code",
   "execution_count": 12,
   "metadata": {
    "colab": {},
    "colab_type": "code",
    "id": "Dt7WJtr3j86w"
   },
   "outputs": [
    {
     "name": "stdout",
     "output_type": "stream",
     "text": [
      "Shapes batch:  (160, 160) [torch.Size([32, 5, 5, 5]), torch.Size([32, 5, 10, 10])]\n",
      "X - shape:  torch.Size([160, 160]) min:  tensor(0., device='cpu') max:  tensor(1., device='cpu')\n"
     ]
    },
    {
     "data": {
      "image/png": "[encoded data removed]",
      "text/plain": [
       "<Figure size 432x288 with 1 Axes>"
      ]
     },
     "metadata": {},
     "output_type": "display_data"
    },
    {
     "data": {
      "image/png": "[encoded data removed]",
      "text/plain": [
       "<Figure size 432x288 with 1 Axes>"
      ]
     },
     "metadata": {},
     "output_type": "display_data"
    },
    {
     "data": {
      "image/png": "[encoded data removed]",
      "text/plain": [
       "<Figure size 432x288 with 1 Axes>"
      ]
     },
     "metadata": {},
     "output_type": "display_data"
    },
    {
     "data": {
      "image/png": "[encoded data removed]",
      "text/plain": [
       "<Figure size 432x288 with 1 Axes>"
      ]
     },
     "metadata": {},
     "output_type": "display_data"
    },
    {
     "data": {
      "image/png": "[encoded data removed]",
      "text/plain": [
       "<Figure size 432x288 with 1 Axes>"
      ]
     },
     "metadata": {},
     "output_type": "display_data"
    },
    {
     "data": {
      "image/png": "[encoded data removed]",
      "text/plain": [
       "<Figure size 432x288 with 1 Axes>"
      ]
     },
     "metadata": {},
     "output_type": "display_data"
    }
   ],
   "source": [
    "# 1 batch de treinamento\n",
    "xs, ys = next(iter(dataloader_train))\n",
    "print(\"Shapes batch: \", x.shape, [ys[i].shape for i in range(len(ys))])\n",
    "\n",
    "count = 0\n",
    "\n",
    "# Plota um exemplo\n",
    "for x, y1, y2 in zip(xs, ys[0], ys[1]):\n",
    "    CustmizedMNISTUtil.show_sample(x, [y1, y2])\n",
    "    if count >= 5: break\n",
    "    count += 1\n",
    "    \n",
    "print(\"X - shape: \", x[0].shape, \"min: \", x[0].min(), \"max: \", x[0].max())"
   ]
  },
  {
   "cell_type": "markdown",
   "metadata": {
    "colab_type": "text",
    "id": "xee8KwTUPZro"
   },
   "source": [
    "## 3 - Modelo Totalmente Convolucional"
   ]
  },
  {
   "cell_type": "code",
   "execution_count": 13,
   "metadata": {
    "colab": {},
    "colab_type": "code",
    "id": "If2egZr96Zfx"
   },
   "outputs": [],
   "source": [
    "class MyModelFullyConv(nn.Module):\n",
    "    \"\"\" Modelo TC utilizado \"\"\"\n",
    "    \n",
    "    def __init__(self):\n",
    "        super(MyModelFullyConv, self).__init__()\n",
    "        \n",
    "        # Camadas convolucionais\n",
    "        self.conv_layer = nn.Sequential(OrderedDict([\n",
    "            \n",
    "            ('conv1', nn.Conv2d(in_channels=1, out_channels=8, kernel_size=3, padding=1)),\n",
    "            ('relu1', nn.ReLU()),\n",
    "            ('batch_norm11', nn.BatchNorm2d(8)),\n",
    "            \n",
    "            ('conv2', nn.Conv2d(in_channels=8, out_channels=16, kernel_size=3, padding=1)),\n",
    "            ('relu2', nn.ReLU()),\n",
    "            ('batch_norm12', nn.BatchNorm2d(16)),\n",
    "            \n",
    "            ('max_pool1', nn.MaxPool2d(2)),\n",
    "            ('batch_norm1', nn.BatchNorm2d(16)),\n",
    "\n",
    "            ('conv3', nn.Conv2d(in_channels=16, out_channels=32, kernel_size=3, padding=1)),\n",
    "            ('relu3', nn.ReLU()),\n",
    "            ('batch_norm13', nn.BatchNorm2d(32)),\n",
    "            \n",
    "            ('conv4', nn.Conv2d(in_channels=32, out_channels=64, kernel_size=3, padding=1)),\n",
    "            ('relu4', nn.ReLU()),\n",
    "            ('batch_norm14', nn.BatchNorm2d(64)),\n",
    "            \n",
    "            ('max_pool2', nn.MaxPool2d(2)),\n",
    "            ('batch_norm2', nn.BatchNorm2d(64)),\n",
    "            \n",
    "            ('conv5', nn.Conv2d(in_channels=64, out_channels=128, kernel_size=3, padding=1)), \n",
    "            ('relu5', nn.ReLU()),\n",
    "            ('batch_norm15', nn.BatchNorm2d(128)),\n",
    "            \n",
    "            ('conv6', nn.Conv2d(in_channels=128, out_channels=64, kernel_size=3, padding=1)),\n",
    "            ('relu6', nn.ReLU()),\n",
    "            ('batch_norm16', nn.BatchNorm2d(64))\n",
    "        ]))\n",
    "        \n",
    "        # saida 20 x 20\n",
    "        self.conv_layer_1 = nn.Sequential(OrderedDict([\n",
    "            ('max_pool4', nn.MaxPool2d(2)),\n",
    "            ('batch_norm4', nn.BatchNorm2d(64)),\n",
    "            \n",
    "            ('conv8', nn.Conv2d(in_channels=64, out_channels=32, kernel_size=3, padding=1)), \n",
    "            ('relu8', nn.ReLU()),\n",
    "            ('batch_norm16', nn.BatchNorm2d(32)),\n",
    "            \n",
    "            ('max_pool5', nn.MaxPool2d(2)),\n",
    "            ('batch_norm5', nn.BatchNorm2d(32)),\n",
    "            \n",
    "            ('conv9', nn.Conv2d(in_channels=32, out_channels=16, kernel_size=3, padding=1)), \n",
    "            ('relu9', nn.ReLU()),\n",
    "            ('batch_norm17', nn.BatchNorm2d(16)),\n",
    "            \n",
    "            ('conv10', nn.Conv2d(in_channels=16, out_channels=6, kernel_size=3, padding=1)), \n",
    "            ('relu10', nn.ReLU()),\n",
    "            ('batch_norm18', nn.BatchNorm2d(6))\n",
    "        ]))\n",
    "        \n",
    "        # saida 10 x 10\n",
    "        self.conv_layer_2 = nn.Sequential(OrderedDict([\n",
    "            ('max_pool4', nn.MaxPool2d(2)),\n",
    "            ('batch_norm4', nn.BatchNorm2d(64)),\n",
    "            \n",
    "            ('conv8', nn.Conv2d(in_channels=64, out_channels=32, kernel_size=3, padding=1)), \n",
    "            ('relu8', nn.ReLU()),\n",
    "            ('batch_norm19', nn.BatchNorm2d(32)),\n",
    "            \n",
    "            ('max_pool5', nn.MaxPool2d(2)),\n",
    "            ('batch_norm5', nn.BatchNorm2d(32)),\n",
    "            \n",
    "            ('conv9', nn.Conv2d(in_channels=32, out_channels=16, kernel_size=3, padding=1)),\n",
    "            ('relu9', nn.ReLU()),\n",
    "            ('batch_norm20', nn.BatchNorm2d(16)),\n",
    "            \n",
    "            ('max_pool6', nn.MaxPool2d(2)),\n",
    "            ('batch_norm6', nn.BatchNorm2d(16)),\n",
    "            \n",
    "            ('conv10', nn.Conv2d(in_channels=16, out_channels=6, kernel_size=3, padding=1)),\n",
    "            ('relu10', nn.ReLU()),\n",
    "            ('batch_norm21', nn.BatchNorm2d(6))\n",
    "        ]))\n",
    "        \n",
    "    def forward(self, x):\n",
    "        x = self.conv_layer(x)\n",
    "        # [5, 5, 6], [10, 10, 6]\n",
    "        return [self.conv_layer_2(x), self.conv_layer_1(x)]\n",
    "        "
   ]
  },
  {
   "cell_type": "markdown",
   "metadata": {
    "colab_type": "text",
    "id": "YXrXmomnPZry"
   },
   "source": [
    "### 3.1 - Observando a saida de cada camada"
   ]
  },
  {
   "cell_type": "code",
   "execution_count": 14,
   "metadata": {
    "colab": {},
    "colab_type": "code",
    "id": "lT1vq4T9PZrz"
   },
   "outputs": [
    {
     "name": "stdout",
     "output_type": "stream",
     "text": [
      "input     : torch.Size([1, 1, 160, 160])\n",
      "conv1     : torch.Size([1, 8, 160, 160])\n",
      "relu1     : torch.Size([1, 8, 160, 160])\n",
      "batch_norm11: torch.Size([1, 8, 160, 160])\n",
      "conv2     : torch.Size([1, 16, 160, 160])\n",
      "relu2     : torch.Size([1, 16, 160, 160])\n",
      "batch_norm12: torch.Size([1, 16, 160, 160])\n",
      "max_pool1 : torch.Size([1, 16, 80, 80])\n",
      "batch_norm1: torch.Size([1, 16, 80, 80])\n",
      "conv3     : torch.Size([1, 32, 80, 80])\n",
      "relu3     : torch.Size([1, 32, 80, 80])\n",
      "batch_norm13: torch.Size([1, 32, 80, 80])\n",
      "conv4     : torch.Size([1, 64, 80, 80])\n",
      "relu4     : torch.Size([1, 64, 80, 80])\n",
      "batch_norm14: torch.Size([1, 64, 80, 80])\n",
      "max_pool2 : torch.Size([1, 64, 40, 40])\n",
      "batch_norm2: torch.Size([1, 64, 40, 40])\n",
      "conv5     : torch.Size([1, 128, 40, 40])\n",
      "relu5     : torch.Size([1, 128, 40, 40])\n",
      "batch_norm15: torch.Size([1, 128, 40, 40])\n",
      "conv6     : torch.Size([1, 64, 40, 40])\n",
      "relu6     : torch.Size([1, 64, 40, 40])\n",
      "batch_norm16: torch.Size([1, 64, 40, 40])\n",
      "Let's use 4 GPUs!\n"
     ]
    }
   ],
   "source": [
    "# Gerando um exemplo zerado para testar as saidas da rede\n",
    "x = torch.zeros(1, 1, global_image_size[0], global_image_size[1])\n",
    "model_conv = MyModelFullyConv()\n",
    "\n",
    "# Percorrer cada camada\n",
    "print('{:10}: {}'.format('input', str(x.size())))\n",
    "for name, layer in model_conv.conv_layer.named_children():\n",
    "    x = layer(x)\n",
    "    print('{:10}: {}'.format(name, str(x.size())))\n",
    "\n",
    "# Configurando mult gpu\n",
    "if global_mult_gpu:\n",
    "    print(\"Let's use\", torch.cuda.device_count(), \"GPUs!\")\n",
    "    model_conv = nn.DataParallel(model_conv)\n",
    "else:\n",
    "    model_conv = model_conv.cuda()\n"
   ]
  },
  {
   "cell_type": "markdown",
   "metadata": {
    "colab_type": "text",
    "id": "FhOs1BDqcj5-"
   },
   "source": [
    "### 3.2 - Fazendo a predição de um batch"
   ]
  },
  {
   "cell_type": "code",
   "execution_count": 15,
   "metadata": {
    "colab": {},
    "colab_type": "code",
    "id": "wAr_9YzScd4z"
   },
   "outputs": [
    {
     "name": "stdout",
     "output_type": "stream",
     "text": [
      "Train shape: torch.Size([32, 1, 160, 160])\n",
      "Pred shape: torch.Size([32, 6, 5, 5]) torch.Size([32, 6, 10, 10])\n"
     ]
    }
   ],
   "source": [
    "# Configurando o modo de avaliação\n",
    "model_conv.eval()\n",
    "\n",
    "# Batch de treinamento\n",
    "x, y = next(iter(dataloader_train))\n",
    "print(\"Train shape:\", x.shape)\n",
    "\n",
    "# Predict do Batch de treinamento\n",
    "img_pred = model_conv(x.to(device))\n",
    "print(\"Pred shape:\", img_pred[0].shape, img_pred[1].shape)"
   ]
  },
  {
   "cell_type": "markdown",
   "metadata": {
    "colab_type": "text",
    "id": "PgLJ4SjYFBQS"
   },
   "source": [
    "### 3.3 - Função custumizada de Loss"
   ]
  },
  {
   "cell_type": "code",
   "execution_count": 16,
   "metadata": {
    "colab": {},
    "colab_type": "code",
    "id": "rLm-VHG_pVRi"
   },
   "outputs": [],
   "source": [
    "class MyLoss(torch.nn.modules.loss._Loss):\n",
    "    \"\"\" Loss custumizada para MNIST custumizado\"\"\"\n",
    "    \n",
    "    def __init__(self):\n",
    "        super().__init__()\n",
    "        \n",
    "        # Loss para a presença: classes 0 ou 1\n",
    "        # Peso: 12 x 12 = 144, 6 / 144 = 0.042, 0.958 - weight=torch.tensor([0.042, 0.958]).cuda()\n",
    "        self.CEL_presence = nn.CrossEntropyLoss(weight=torch.tensor([0.042, 0.958]).cuda())\n",
    "        \n",
    "        # Loss para calcular tx, ty, size e fator\n",
    "        self.MSE_reg = nn.MSELoss(reduction='none')\n",
    "        \n",
    "        \n",
    "    def forward(self, preds, targets, debug=False):\n",
    "        presence_loss, reg_loss = 0, 0\n",
    "        for pred, target in zip(preds, targets):\n",
    "            target = target.type(torch.cuda.FloatTensor)\n",
    "            \n",
    "            # Cross entropy para presenca\n",
    "            # 'input': (minibatch, C, d_1, d_2, ..., d_K), 'target': N, d_1, d_2, ..., d_K\n",
    "            presence_loss += self.CEL_presence(pred[:, 0:2, :], target[:, 0, :].type(torch.cuda.LongTensor))\n",
    "        \n",
    "            # Pega apenas a presenca\n",
    "            presence_target = target[:, 0:1, :]\n",
    "       \n",
    "            # MSE para os bboxs\n",
    "            reg_loss += (self.MSE_reg(pred[:, 2:, :], target[:, 1:, :]) * presence_target).sum() / presence_target.sum()\n",
    "            \n",
    "        # Imprime os valores das Losses\n",
    "        if debug:\n",
    "            print(\"presence_loss: \", presence_loss)\n",
    "            print(\"reg_loss: \", reg_loss)\n",
    "        \n",
    "        # retorna a soma poderada das losses\n",
    "        return presence_loss + reg_loss"
   ]
  },
  {
   "cell_type": "markdown",
   "metadata": {
    "colab_type": "text",
    "id": "wwVttGL5-siE"
   },
   "source": [
    "**Testando a função de custo**"
   ]
  },
  {
   "cell_type": "code",
   "execution_count": 17,
   "metadata": {
    "colab": {},
    "colab_type": "code",
    "id": "bFUOP4NaW8H2"
   },
   "outputs": [
    {
     "name": "stdout",
     "output_type": "stream",
     "text": [
      "presence_loss:  tensor(1.3893, grad_fn=<ThAddBackward>)\n",
      "reg_loss:  tensor(3.0958, grad_fn=<ThAddBackward>)\n",
      "tensor(4.4851, grad_fn=<ThAddBackward>)\n"
     ]
    }
   ],
   "source": [
    "# Configurando o modo de avaliação\n",
    "model_conv.eval()\n",
    "\n",
    "# Calculo o custo de um batch de treinamento\n",
    "x, y = next(iter(dataloader_train))\n",
    "y_pred = model_conv(x.to(device))\n",
    "loss = MyLoss()(y_pred, y, debug=True)\n",
    "\n",
    "# Resultado\n",
    "print(loss)"
   ]
  },
  {
   "cell_type": "markdown",
   "metadata": {
    "colab_type": "text",
    "id": "Ur5BiCFUZreT"
   },
   "source": [
    "### 3.4 - Treinamento"
   ]
  },
  {
   "cell_type": "code",
   "execution_count": 18,
   "metadata": {
    "colab": {},
    "colab_type": "code",
    "id": "hQwlc8iuFlsa"
   },
   "outputs": [],
   "source": [
    "# Configuraçãoes para o treinamento\n",
    "optm = torch.optim.Adam(params=model_conv.parameters(), lr=0.001)\n",
    "schd = torch.optim.lr_scheduler.StepLR(optm, step_size=10)\n",
    "cb_chkpt = ptt.ModelCheckpoint('./best_model_new', reset=True, verbose=1)\n",
    "\n",
    "trainer = ptt.DeepNetTrainer(model         = model_conv,\n",
    "                             criterion     = MyLoss(),\n",
    "                             optimizer     = optm,\n",
    "                             lr_scheduler  = schd,\n",
    "                             callbacks     = [cb_chkpt,\n",
    "                                              ptt.PrintCallback()],\n",
    "                             devname       = device)\n"
   ]
  },
  {
   "cell_type": "code",
   "execution_count": null,
   "metadata": {
    "colab": {},
    "colab_type": "code",
    "id": "bYkZNsJqFmyX"
   },
   "outputs": [
    {
     "name": "stdout",
     "output_type": "stream",
     "text": [
      "Start training for 20 epochs\n",
      "  1:  10.1s   T: 0.04683 *   V: 0.02837 *  \n",
      "  2:  10.0s   T: 0.02294 *   V: 0.01929 *  \n",
      "  3:  10.0s   T: 0.01617 *   V: 0.01470 *  \n",
      "  4:   9.9s   T: 0.01242 *   V: 0.01207 *  \n",
      "Batch end epoch 5 batch 249 of 250\r"
     ]
    }
   ],
   "source": [
    "# Configurando o modo de treinamento\n",
    "model_conv.train()\n",
    "# If True modo será treinado do zero, do contrario carrega o modelo salvo\n",
    "retrain = True\n",
    "\n",
    "if retrain:\n",
    "    # Realiza o treinamento\n",
    "    n_epochs = global_number_epochs = 20\n",
    "    trainer.fit_loader(n_epochs, dataloader_train, dataloader_val)\n",
    "else:\n",
    "    # Carrega o modelo e treina por 1 epoca\n",
    "    trainer.load_state('best_model_new')\n",
    "    trainer.fit_loader(1, dataloader_train, dataloader_val)"
   ]
  },
  {
   "cell_type": "markdown",
   "metadata": {
    "colab_type": "text",
    "id": "aDtnRwTDOMMw"
   },
   "source": [
    "### 3.5 - Teste do treinamento"
   ]
  },
  {
   "cell_type": "code",
   "execution_count": null,
   "metadata": {
    "colab": {},
    "colab_type": "code",
    "id": "BHxlUdy6rbnI"
   },
   "outputs": [],
   "source": [
    "# Configurando o modo de avaliação\n",
    "model_conv.eval()\n",
    "\n",
    "# Pegando um batch da validação\n",
    "# xs, ys = next(iter(dataloader_val))\n",
    "xs, ys = next(iter(dataloader_train))\n",
    "\n",
    "# Fazendo a predição do batch\n",
    "pred_s1, pred_s2 = model_conv(xs.cuda())\n",
    "\n",
    "print(\"Green: target, Red: predict\")\n",
    "\n",
    "# Plotando o predict do batch\n",
    "count = 0\n",
    "for x, y1, y2, pred1, pred2 in zip(xs, ys[0], ys[1], pred_s1, pred_s2):\n",
    "    CustmizedMNISTUtil.show_sample(x, [y1, y2], [pred1, pred2])\n",
    "    count += 1\n",
    "    if count == 5: break"
   ]
  },
  {
   "cell_type": "code",
   "execution_count": null,
   "metadata": {},
   "outputs": [],
   "source": []
  },
  {
   "cell_type": "code",
   "execution_count": null,
   "metadata": {},
   "outputs": [],
   "source": []
  },
  {
   "cell_type": "code",
   "execution_count": null,
   "metadata": {},
   "outputs": [],
   "source": []
  },
  {
   "cell_type": "code",
   "execution_count": null,
   "metadata": {},
   "outputs": [],
   "source": []
  }
 ],
 "metadata": {
  "accelerator": "GPU",
  "colab": {
   "collapsed_sections": [],
   "name": "Aula 15 - BB MNIST Final Version.ipynb",
   "provenance": [],
   "toc_visible": true,
   "version": "0.3.2"
  },
  "kernelspec": {
   "display_name": "Python [conda env:pytorch_p36]",
   "language": "python",
   "name": "conda-env-pytorch_p36-py"
  },
  "language_info": {
   "codemirror_mode": {
    "name": "ipython",
    "version": 3
   },
   "file_extension": ".py",
   "mimetype": "text/x-python",
   "name": "python",
   "nbconvert_exporter": "python",
   "pygments_lexer": "ipython3",
   "version": "3.6.5"
  }
 },
 "nbformat": 4,
 "nbformat_minor": 1
}
