{
 "cells": [
  {
   "cell_type": "markdown",
   "metadata": {
    "colab_type": "text",
    "id": "4embtkV0pNxM"
   },
   "source": [
    "Estrelinizador\n",
    "=============\n",
    "Convolve um espalhador com um refletor\n",
    "\n",
    "---"
   ]
  },
  {
   "cell_type": "code",
   "execution_count": 1,
   "metadata": {
    "cellView": "both",
    "colab": {
     "autoexec": {
      "startup": false,
      "wait_interval": 0
     }
    },
    "colab_type": "code",
    "collapsed": true,
    "id": "tm2CQN_Cpwj0"
   },
   "outputs": [],
   "source": [
    "from __future__ import print_function\n",
    "import numpy as np\n",
    "from scipy.signal import convolve2d\n",
    "\n",
    "# Importa bibliotecas próprias\n",
    "from utils import * \n",
    "\n",
    "# Configura o matplolib para plotar inline\n",
    "%matplotlib qt5\n",
    "#%matplotlib notebook"
   ]
  },
  {
   "cell_type": "markdown",
   "metadata": {},
   "source": [
    "Visualiza dado. Botão esquerdo imprime pick com evento=1.0 e botão direito com evento=0.0"
   ]
  },
  {
   "cell_type": "code",
   "execution_count": 52,
   "metadata": {},
   "outputs": [
    {
     "name": "stdout",
     "output_type": "stream",
     "text": [
      "Carregando o empilhamento ./jequitinhonha_migrado.su\n",
      "2079 traços:\n",
      " - CDP: [2 - 2080]\n",
      " - Amostras por traço (ns): 876\n",
      " - Tempo entre amostras (dt): 4.0 ms\n",
      "Dimensões do dado 1: (876, 2079)\n",
      "\n",
      "Tamanho da imagem (em polegadas): 20.79 x 8.76\n",
      "Coordenadas:  x - [2.0, 2081.0], y - [0.0, 3.5]\n",
      "Dimensão: (876, 2079)\n",
      "\n"
     ]
    }
   ],
   "source": [
    "# Definição de arquivos de entrada\n",
    "stack_file = './jequitinhonha_migrado.su'\n",
    "\n",
    "color = 'gray'\n",
    "plot_bar = True\n",
    "clip = 0.3\n",
    "\n",
    "# Carrega dados\n",
    "if not stack_file is None: \n",
    "    traces = load_traces(stack_file)\n",
    "    stack_image = get_data_from_traces(traces)\n",
    "    print(\"Dimensões do dado 1:\", stack_image.shape)\n",
    "    print()\n",
    "\n",
    "multiple_event_viewer(stack_image,\n",
    "             cdp_offset=traces[0].cdp, dt=traces[0].dt,\n",
    "             clip_percent1=clip, color1=color)"
   ]
  },
  {
   "cell_type": "markdown",
   "metadata": {},
   "source": [
    "Converte coordenada de em (cdp, tempo) para índices da matriz"
   ]
  },
  {
   "cell_type": "code",
   "execution_count": 17,
   "metadata": {},
   "outputs": [
    {
     "name": "stdout",
     "output_type": "stream",
     "text": [
      "cdp: 835.0 tempo: 1.950138\n",
      "picks: [[487, 833]]\n"
     ]
    }
   ],
   "source": [
    "coord = 'evento=0.0, cdp=835.555810, tempo=1.950138'\n",
    "\n",
    "time_ind = coord.find('tempo=')\n",
    "time = float(coord[time_ind+6:])\n",
    "cdp = np.floor(float(coord[coord.find('cdp=')+4:time_ind-2]))\n",
    "pick_coords = picks_to_index([(cdp, time)], traces)\n",
    "print(\"cdp:\", cdp, \"tempo:\", time)\n",
    "print(\"picks:\", pick_coords)"
   ]
  },
  {
   "cell_type": "markdown",
   "metadata": {},
   "source": [
    "Gera função de _taper_"
   ]
  },
  {
   "cell_type": "code",
   "execution_count": 53,
   "metadata": {},
   "outputs": [
    {
     "name": "stdout",
     "output_type": "stream",
     "text": [
      "[0.97552824 0.9045085  0.7938926  0.6545085  0.49999997 0.34549147\n",
      " 0.20610741 0.09549147 0.0244717  0.        ]\n"
     ]
    }
   ],
   "source": [
    "import matplotlib.pyplot as plt\n",
    "\n",
    "taper_size = 10\n",
    "\n",
    "taper = (np.pi / (taper_size)) * (np.arange(taper_size).astype(np.float32) + 1.0)\n",
    "taper = (np.cos(taper) / 2.0) + 0.5\n",
    "print(taper)\n",
    "\n",
    "plt.plot(range(taper_size), taper)\n",
    "plt.grid()\n",
    "\n",
    "plt.show()"
   ]
  },
  {
   "cell_type": "markdown",
   "metadata": {},
   "source": [
    "Gerar espalhador com _taper_"
   ]
  },
  {
   "cell_type": "code",
   "execution_count": 56,
   "metadata": {},
   "outputs": [
    {
     "name": "stdout",
     "output_type": "stream",
     "text": [
      "Espelhamento das amostras (flip): False\n",
      "Tamanho da imagem (em polegadas): 5.10 x 5.10\n",
      "Coordenadas:  x - [0.0, 51.0], y - [0.0, 51.0]\n",
      "Dimensão: (51, 51)\n",
      "\n"
     ]
    }
   ],
   "source": [
    "# Define tamanho da janela ao redor do espalhador\n",
    "window_size = 31\n",
    "\n",
    "color = 'gray'\n",
    "resize = 10.0\n",
    "\n",
    "scatter = generate_samples(stack_image, window_size+2*tapper_size, pick_coords, flip=False)[0][0]\n",
    "\n",
    "#Normaliza o espalhador\n",
    "vmax = np.max(np.abs((scatter.max(), scatter.min())))\n",
    "scatter = scatter / vmax\n",
    "original = scatter.copy()\n",
    "\n",
    "taper = taper.reshape((1,taper_size))\n",
    "\n",
    "right_taper = taper\n",
    "left_taper = np.flip(taper)\n",
    "top_taper = left_taper.T\n",
    "bottom_taper = right_taper.T\n",
    "\n",
    "# Taper superior\n",
    "scatter[0:taper_size, :] *= top_taper\n",
    "# Taper inferior\n",
    "scatter[(scatter.shape[0] - taper_size):, :] *= bottom_taper\n",
    "# Taper esquerdo\n",
    "scatter[:, 0:taper_size] *= left_taper\n",
    "# Taper direito\n",
    "scatter[:, (scatter.shape[0] - taper_size):] *= right_taper\n",
    "\n",
    "\n",
    "title1 = 'Espalhador com taper'\n",
    "title2 = 'Espalhador sem taper'\n",
    "\n",
    "multiple_event_viewer(scatter, original,\n",
    "                      resize=resize, color1=color, color2=color,\n",
    "                     title1=title1, title2=title2)"
   ]
  },
  {
   "cell_type": "markdown",
   "metadata": {},
   "source": [
    "Extrai frequencia do espalhador. Baseado na equação apresentada em http://subsurfwiki.org/wiki/Ricker_wavelet "
   ]
  },
  {
   "cell_type": "code",
   "execution_count": 57,
   "metadata": {},
   "outputs": [
    {
     "name": "stdout",
     "output_type": "stream",
     "text": [
      "Freq. lóbulo esquerdo: 19.4924200308419\n",
      "Freq. lóbulo direito: 24.365525038552377\n"
     ]
    }
   ],
   "source": [
    "center = scatter.shape[0] / 2\n",
    "dt = traces[0].dt \n",
    "\n",
    "center_trace = scatter[:,center]\n",
    "left_lobe = center_trace[0:center].min()\n",
    "right_lobe = center_trace[center:].min()\n",
    "\n",
    "left_time = np.where(center_trace == left_lobe)[0][0] * dt - (center*dt)\n",
    "right_time = np.where(center_trace == right_lobe)[0][0] * dt - (center*dt)\n",
    "\n",
    "time_axis = np.arange(scatter.shape[0], dtype=np.float32) * dt - (center*dt)\n",
    "\n",
    "plt.plot(time_axis, center_trace)\n",
    "plt.scatter([left_time, right_time], [left_lobe, right_lobe], color='orange')\n",
    "\n",
    "plt.show()\n",
    "\n",
    "left_freq = np.abs(np.sqrt(1.5) / (np.pi * left_time))\n",
    "right_freq = np.abs(np.sqrt(1.5) / (np.pi * right_time))\n",
    "\n",
    "print(\"Freq. lóbulo esquerdo:\", left_freq)\n",
    "print(\"Freq. lóbulo direito:\", right_freq)\n"
   ]
  },
  {
   "cell_type": "markdown",
   "metadata": {},
   "source": [
    "Computa Ricker com as frequências extraídas"
   ]
  },
  {
   "cell_type": "code",
   "execution_count": 60,
   "metadata": {},
   "outputs": [],
   "source": [
    "def ricker_wavelet(times, frequency):\n",
    "    \"\"\"\n",
    "    Computa a Ricker Wavelet para os tempos e frequência da entrada.\n",
    "    \n",
    "    Args:\n",
    "        times: vetor com os tempos a serem computados.\n",
    "        frequency: frequência da wavelet.\n",
    "        \n",
    "    Retorno:\n",
    "        wavelet: vetor de amplitudes da wavelet para cada ponto\n",
    "    \"\"\"\n",
    "    cte = -(np.pi**2)*(frequency**2)\n",
    "    exp = np.exp(cte*(times**2))\n",
    "    wavelet = exp + 2*cte*(times**2)*exp\n",
    "    return wavelet\n",
    "\n",
    "left_wavelet = ricker_wavelet(time_axis, left_freq)\n",
    "right_wavelet = ricker_wavelet(time_axis, right_freq)\n",
    "avg_wavelet = ricker_wavelet(time_axis, (left_freq+right_freq)/2)\n",
    "\n",
    "plt.plot(time_axis, center_trace, label=\"Espalhador\")\n",
    "plt.plot(time_axis, left_wavelet, label=\"Freq. Esquerda\")\n",
    "plt.plot(time_axis, right_wavelet, label=\"Freq. Direita\")\n",
    "plt.plot(time_axis, avg_wavelet, label=\"Freq. Media\")\n",
    "plt.legend()\n",
    "\n",
    "\n",
    "plt.show()\n"
   ]
  },
  {
   "cell_type": "markdown",
   "metadata": {},
   "source": [
    "Gerar dado sintético"
   ]
  },
  {
   "cell_type": "code",
   "execution_count": 59,
   "metadata": {},
   "outputs": [
    {
     "name": "stdout",
     "output_type": "stream",
     "text": [
      "Tamanho da imagem (em polegadas): 5.00 x 5.00\n",
      "Coordenadas:  x - [0.0, 200.0], y - [0.0, 200.0]\n",
      "Dimensão: (200, 200)\n",
      "\n"
     ]
    }
   ],
   "source": [
    "color = 'gray'\n",
    "resize = 2.5\n",
    "\n",
    "synthetic = np.zeros((200,200), dtype=np.float32)\n",
    "synthetic[100,:] = 1.0\n",
    "\n",
    "avg_wavelet = avg_wavelet.reshape((1,avg_wavelet.size)).T\n",
    "\n",
    "synthetic_scatter = convolve2d(synthetic, scatter, mode='same')\n",
    "synthetic_ricker = convolve2d(synthetic, avg_wavelet, mode='same')\n",
    "\n",
    "title1 = 'Sintetico'\n",
    "title2 = 'Espalhador'\n",
    "title3 = 'Ricker'\n",
    "\n",
    "multiple_event_viewer(synthetic, synthetic_scatter, synthetic_ricker,\n",
    "                      resize=resize, color1=color, color2=color, color3=color,\n",
    "                     title1=title1, title2=title2, title3=title3)"
   ]
  },
  {
   "cell_type": "code",
   "execution_count": null,
   "metadata": {
    "collapsed": true
   },
   "outputs": [],
   "source": []
  }
 ],
 "metadata": {
  "colab": {
   "default_view": {},
   "name": "4_convolutions.ipynb",
   "provenance": [],
   "version": "0.3.2",
   "views": {}
  },
  "kernelspec": {
   "display_name": "Python 2",
   "language": "python",
   "name": "python2"
  },
  "language_info": {
   "codemirror_mode": {
    "name": "ipython",
    "version": 2
   },
   "file_extension": ".py",
   "mimetype": "text/x-python",
   "name": "python",
   "nbconvert_exporter": "python",
   "pygments_lexer": "ipython2",
   "version": "2.7.13"
  }
 },
 "nbformat": 4,
 "nbformat_minor": 1
}
